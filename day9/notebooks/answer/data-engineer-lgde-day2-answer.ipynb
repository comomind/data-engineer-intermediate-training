{
 "cells": [
  {
   "cell_type": "markdown",
   "metadata": {},
   "source": [
    "# 1. LGDE.com 일별 지표생성 실습 2일차 (정답)\n",
    "\n",
    "#### 주피터 노트북 단축키 (Windows 환경)\n",
    "| 단축키 | 설명 | 기타 |\n",
    "| --- | --- | --- |\n",
    "| Alt+Enter | 현재 셀 실행 + 다음 셀 추가 | 초기 개발 시에 주로 사용 |\n",
    "| Shift+Enter | 현재 셀 실행 + 다음 셀 이동 | 전체 테스트 시에 주로 사용 |\n",
    "| Ctrl+Enter | 현재 셀 실행 + 이동 안함 | 하나씩 점검 혹은 디버깅 시에 사용 |\n",
    "| Ctrl+/ | 주석 적용 및 해제 | Shift 키로 여러 줄을 선택하고 주석 및 해제 사용 |\n",
    "| Ctrl+s | 전체 저장 | - |\n",
    "\n",
    "### 주피터 노트북 유의사항\n",
    "* 모든 셀은 Code, Markdown, Raw 3가지 유형이 존재하며, **파이썬 코드 실행**은 반드시 ***Code*** 모드에서 수행되어야 합니다\n",
    "* 현재 셀의 실행이 무한 루프에 빠지거나 너무 오래 걸리는 경우 상단 Menu 에서 ***Kernel - Interrupt Kernel*** 메뉴를 통해 현재 셀의 작업만 중지할 수 있습니다\n",
    "* 메모리 혹은 다양한 이슈로 인해 제대로 동작하지 않는 경우에는 상단 Menu 에서 ***Kernel - Restart Kernel..*** 메뉴를 통해 재시작할 수 있습니다\n"
   ]
  },
  {
   "cell_type": "markdown",
   "metadata": {},
   "source": [
    "## 5. 수집된 데이터 탐색\n",
    "### 5-1. 스파크 세션 생성"
   ]
  },
  {
   "cell_type": "code",
   "execution_count": 1,
   "metadata": {},
   "outputs": [
    {
     "name": "stderr",
     "output_type": "stream",
     "text": [
      "21/09/05 12:44:42 WARN NativeCodeLoader: Unable to load native-hadoop library for your platform... using builtin-java classes where applicable\n",
      "Using Spark's default log4j profile: org/apache/spark/log4j-defaults.properties\n",
      "Setting default log level to \"WARN\".\n",
      "To adjust logging level use sc.setLogLevel(newLevel). For SparkR, use setLogLevel(newLevel).\n",
      "21/09/05 12:44:44 WARN Utils: Service 'SparkUI' could not bind on port 4040. Attempting port 4041.\n"
     ]
    },
    {
     "data": {
      "text/html": [
       "\n",
       "            <div>\n",
       "                <p><b>SparkSession - in-memory</b></p>\n",
       "                \n",
       "        <div>\n",
       "            <p><b>SparkContext</b></p>\n",
       "\n",
       "            <p><a href=\"http://131998bcb71a:4041\">Spark UI</a></p>\n",
       "\n",
       "            <dl>\n",
       "              <dt>Version</dt>\n",
       "                <dd><code>v3.1.2</code></dd>\n",
       "              <dt>Master</dt>\n",
       "                <dd><code>local[*]</code></dd>\n",
       "              <dt>AppName</dt>\n",
       "                <dd><code>pyspark-shell</code></dd>\n",
       "            </dl>\n",
       "        </div>\n",
       "        \n",
       "            </div>\n",
       "        "
      ],
      "text/plain": [
       "<pyspark.sql.session.SparkSession at 0x7f0af9bfb4f0>"
      ]
     },
     "execution_count": 1,
     "metadata": {},
     "output_type": "execute_result"
    }
   ],
   "source": [
    "from pyspark.sql import *\n",
    "from pyspark.sql.functions import *\n",
    "from pyspark.sql.types import *\n",
    "from IPython.display import display, display_pretty, clear_output, JSON\n",
    "\n",
    "spark = (\n",
    "    SparkSession\n",
    "    .builder\n",
    "    .config(\"spark.sql.session.timeZone\", \"Asia/Seoul\")\n",
    "    .getOrCreate()\n",
    ")\n",
    "\n",
    "# 노트북에서 테이블 형태로 데이터 프레임 출력을 위한 설정을 합니다\n",
    "spark.conf.set(\"spark.sql.repl.eagerEval.enabled\", True) # display enabled\n",
    "spark.conf.set(\"spark.sql.repl.eagerEval.truncate\", 100) # display output columns size\n",
    "\n",
    "# 공통 데이터 위치\n",
    "home_jovyan = \"/home/jovyan\"\n",
    "work_data = f\"{home_jovyan}/work/data\"\n",
    "work_dir=!pwd\n",
    "work_dir = work_dir[0]\n",
    "\n",
    "# 로컬 환경 최적화\n",
    "spark.conf.set(\"spark.sql.shuffle.partitions\", 5) # the number of partitions to use when shuffling data for joins or aggregations.\n",
    "spark.conf.set(\"spark.sql.streaming.forceDeleteTempCheckpointLocation\", \"true\")\n",
    "spark"
   ]
  },
  {
   "cell_type": "code",
   "execution_count": 2,
   "metadata": {},
   "outputs": [
    {
     "name": "stderr",
     "output_type": "stream",
     "text": [
      "                                                                                \r"
     ]
    },
    {
     "name": "stdout",
     "output_type": "stream",
     "text": [
      "root\n",
      " |-- u_id: integer (nullable = true)\n",
      " |-- u_name: string (nullable = true)\n",
      " |-- u_gender: string (nullable = true)\n",
      " |-- u_signup: integer (nullable = true)\n",
      "\n"
     ]
    },
    {
     "name": "stderr",
     "output_type": "stream",
     "text": [
      "                                                                                \r"
     ]
    },
    {
     "name": "stdout",
     "output_type": "stream",
     "text": [
      "+----+----------+--------+--------+\n",
      "|u_id|u_name    |u_gender|u_signup|\n",
      "+----+----------+--------+--------+\n",
      "|1   |정휘센    |남      |20201025|\n",
      "|2   |김싸이언  |남      |20201025|\n",
      "|3   |박트롬    |여      |20201025|\n",
      "|4   |청소기    |남      |20201025|\n",
      "|5   |유코드제로|여      |20201025|\n",
      "|6   |윤디오스  |남      |20201026|\n",
      "|7   |임모바일  |남      |20201026|\n",
      "|8   |조노트북  |여      |20201026|\n",
      "|9   |최컴퓨터  |남      |20201026|\n",
      "+----+----------+--------+--------+\n",
      "\n"
     ]
    },
    {
     "data": {
      "text/html": [
       "<table border='1'>\n",
       "<tr><th>u_id</th><th>u_name</th><th>u_gender</th><th>u_signup</th></tr>\n",
       "<tr><td>1</td><td>정휘센</td><td>남</td><td>20201025</td></tr>\n",
       "<tr><td>2</td><td>김싸이언</td><td>남</td><td>20201025</td></tr>\n",
       "<tr><td>3</td><td>박트롬</td><td>여</td><td>20201025</td></tr>\n",
       "<tr><td>4</td><td>청소기</td><td>남</td><td>20201025</td></tr>\n",
       "<tr><td>5</td><td>유코드제로</td><td>여</td><td>20201025</td></tr>\n",
       "<tr><td>6</td><td>윤디오스</td><td>남</td><td>20201026</td></tr>\n",
       "<tr><td>7</td><td>임모바일</td><td>남</td><td>20201026</td></tr>\n",
       "<tr><td>8</td><td>조노트북</td><td>여</td><td>20201026</td></tr>\n",
       "<tr><td>9</td><td>최컴퓨터</td><td>남</td><td>20201026</td></tr>\n",
       "</table>\n"
      ],
      "text/plain": [
       "+----+----------+--------+--------+\n",
       "|u_id|    u_name|u_gender|u_signup|\n",
       "+----+----------+--------+--------+\n",
       "|   1|    정휘센|      남|20201025|\n",
       "|   2|  김싸이언|      남|20201025|\n",
       "|   3|    박트롬|      여|20201025|\n",
       "|   4|    청소기|      남|20201025|\n",
       "|   5|유코드제로|      여|20201025|\n",
       "|   6|  윤디오스|      남|20201026|\n",
       "|   7|  임모바일|      남|20201026|\n",
       "|   8|  조노트북|      여|20201026|\n",
       "|   9|  최컴퓨터|      남|20201026|\n",
       "+----+----------+--------+--------+"
      ]
     },
     "metadata": {},
     "output_type": "display_data"
    }
   ],
   "source": [
    "user26 = spark.read.parquet(\"user/20201026\")\n",
    "user26.printSchema()\n",
    "user26.show(truncate=False)\n",
    "display(user26)"
   ]
  },
  {
   "cell_type": "code",
   "execution_count": 3,
   "metadata": {},
   "outputs": [
    {
     "name": "stdout",
     "output_type": "stream",
     "text": [
      "root\n",
      " |-- p_time: string (nullable = true)\n",
      " |-- p_uid: integer (nullable = true)\n",
      " |-- p_id: integer (nullable = true)\n",
      " |-- p_name: string (nullable = true)\n",
      " |-- p_amount: integer (nullable = true)\n",
      "\n",
      "+----------+-----+----+-----------+--------+\n",
      "|p_time    |p_uid|p_id|p_name     |p_amount|\n",
      "+----------+-----+----+-----------+--------+\n",
      "|1603571550|1    |2000|LG DIOS    |2000000 |\n",
      "|1603614755|1    |2000|LG Gram    |1800000 |\n",
      "|1603593500|2    |2001|LG Cyon    |1400000 |\n",
      "|1603572155|3    |2002|LG TV      |1000000 |\n",
      "|1603585955|5    |2004|LG Gram    |3500000 |\n",
      "|1603586155|5    |2004|LG TV      |2500000 |\n",
      "|1603651550|1    |2001|LG Cyon    |1400000 |\n",
      "|1603652155|5    |2002|LG TV      |1000000 |\n",
      "|1603674500|6    |2003|LG Computer|4500000 |\n",
      "|1603665955|7    |2004|LG Gram    |3500000 |\n",
      "|1603666155|9    |2004|LG TV      |2500000 |\n",
      "+----------+-----+----+-----------+--------+\n",
      "\n"
     ]
    },
    {
     "data": {
      "text/html": [
       "<table border='1'>\n",
       "<tr><th>p_time</th><th>p_uid</th><th>p_id</th><th>p_name</th><th>p_amount</th></tr>\n",
       "<tr><td>1603571550</td><td>1</td><td>2000</td><td>LG DIOS</td><td>2000000</td></tr>\n",
       "<tr><td>1603614755</td><td>1</td><td>2000</td><td>LG Gram</td><td>1800000</td></tr>\n",
       "<tr><td>1603593500</td><td>2</td><td>2001</td><td>LG Cyon</td><td>1400000</td></tr>\n",
       "<tr><td>1603572155</td><td>3</td><td>2002</td><td>LG TV</td><td>1000000</td></tr>\n",
       "<tr><td>1603585955</td><td>5</td><td>2004</td><td>LG Gram</td><td>3500000</td></tr>\n",
       "<tr><td>1603586155</td><td>5</td><td>2004</td><td>LG TV</td><td>2500000</td></tr>\n",
       "<tr><td>1603651550</td><td>1</td><td>2001</td><td>LG Cyon</td><td>1400000</td></tr>\n",
       "<tr><td>1603652155</td><td>5</td><td>2002</td><td>LG TV</td><td>1000000</td></tr>\n",
       "<tr><td>1603674500</td><td>6</td><td>2003</td><td>LG Computer</td><td>4500000</td></tr>\n",
       "<tr><td>1603665955</td><td>7</td><td>2004</td><td>LG Gram</td><td>3500000</td></tr>\n",
       "<tr><td>1603666155</td><td>9</td><td>2004</td><td>LG TV</td><td>2500000</td></tr>\n",
       "</table>\n"
      ],
      "text/plain": [
       "+----------+-----+----+-----------+--------+\n",
       "|    p_time|p_uid|p_id|     p_name|p_amount|\n",
       "+----------+-----+----+-----------+--------+\n",
       "|1603571550|    1|2000|    LG DIOS| 2000000|\n",
       "|1603614755|    1|2000|    LG Gram| 1800000|\n",
       "|1603593500|    2|2001|    LG Cyon| 1400000|\n",
       "|1603572155|    3|2002|      LG TV| 1000000|\n",
       "|1603585955|    5|2004|    LG Gram| 3500000|\n",
       "|1603586155|    5|2004|      LG TV| 2500000|\n",
       "|1603651550|    1|2001|    LG Cyon| 1400000|\n",
       "|1603652155|    5|2002|      LG TV| 1000000|\n",
       "|1603674500|    6|2003|LG Computer| 4500000|\n",
       "|1603665955|    7|2004|    LG Gram| 3500000|\n",
       "|1603666155|    9|2004|      LG TV| 2500000|\n",
       "+----------+-----+----+-----------+--------+"
      ]
     },
     "metadata": {},
     "output_type": "display_data"
    }
   ],
   "source": [
    "purchase26 = spark.read.parquet(\"purchase/20201026\")\n",
    "purchase26.printSchema()\n",
    "purchase26.show(truncate=False)\n",
    "display(purchase26)"
   ]
  },
  {
   "cell_type": "code",
   "execution_count": 4,
   "metadata": {},
   "outputs": [
    {
     "name": "stdout",
     "output_type": "stream",
     "text": [
      "root\n",
      " |-- a_id: string (nullable = true)\n",
      " |-- a_tag: string (nullable = true)\n",
      " |-- a_time: long (nullable = true)\n",
      " |-- a_timestamp: string (nullable = true)\n",
      " |-- a_uid: long (nullable = true)\n",
      "\n",
      "+------+------+----------+-----------------------+-----+\n",
      "|a_id  |a_tag |a_time    |a_timestamp            |a_uid|\n",
      "+------+------+----------+-----------------------+-----+\n",
      "|logout|access|1603647200|2020-10-26 02:33:20.000|1    |\n",
      "|logout|access|1603650200|2020-10-26 03:23:20.000|2    |\n",
      "|logout|access|1603659200|2020-10-26 05:53:20.000|3    |\n",
      "|logout|access|1603664200|2020-10-26 07:16:40.000|4    |\n",
      "|logout|access|1603669500|2020-10-26 08:45:00.000|5    |\n",
      "|login |access|1603645200|2020-10-26 02:00:00.000|1    |\n",
      "|login |access|1603649200|2020-10-26 03:06:40.000|2    |\n",
      "|login |access|1603653200|2020-10-26 04:13:20.000|2    |\n",
      "|login |access|1603657200|2020-10-26 05:20:00.000|3    |\n",
      "|login |access|1603660200|2020-10-26 06:10:00.000|4    |\n",
      "|login |access|1603664500|2020-10-26 07:21:40.000|4    |\n",
      "|login |access|1603666500|2020-10-26 07:55:00.000|5    |\n",
      "|login |access|1603670500|2020-10-26 09:01:40.000|6    |\n",
      "|login |access|1603673500|2020-10-26 09:51:40.000|7    |\n",
      "|login |access|1603674500|2020-10-26 10:08:20.000|8    |\n",
      "|login |access|1603675500|2020-10-26 10:25:00.000|9    |\n",
      "+------+------+----------+-----------------------+-----+\n",
      "\n"
     ]
    },
    {
     "data": {
      "text/html": [
       "<table border='1'>\n",
       "<tr><th>a_id</th><th>a_tag</th><th>a_time</th><th>a_timestamp</th><th>a_uid</th></tr>\n",
       "<tr><td>logout</td><td>access</td><td>1603647200</td><td>2020-10-26 02:33:20.000</td><td>1</td></tr>\n",
       "<tr><td>logout</td><td>access</td><td>1603650200</td><td>2020-10-26 03:23:20.000</td><td>2</td></tr>\n",
       "<tr><td>logout</td><td>access</td><td>1603659200</td><td>2020-10-26 05:53:20.000</td><td>3</td></tr>\n",
       "<tr><td>logout</td><td>access</td><td>1603664200</td><td>2020-10-26 07:16:40.000</td><td>4</td></tr>\n",
       "<tr><td>logout</td><td>access</td><td>1603669500</td><td>2020-10-26 08:45:00.000</td><td>5</td></tr>\n",
       "<tr><td>login</td><td>access</td><td>1603645200</td><td>2020-10-26 02:00:00.000</td><td>1</td></tr>\n",
       "<tr><td>login</td><td>access</td><td>1603649200</td><td>2020-10-26 03:06:40.000</td><td>2</td></tr>\n",
       "<tr><td>login</td><td>access</td><td>1603653200</td><td>2020-10-26 04:13:20.000</td><td>2</td></tr>\n",
       "<tr><td>login</td><td>access</td><td>1603657200</td><td>2020-10-26 05:20:00.000</td><td>3</td></tr>\n",
       "<tr><td>login</td><td>access</td><td>1603660200</td><td>2020-10-26 06:10:00.000</td><td>4</td></tr>\n",
       "<tr><td>login</td><td>access</td><td>1603664500</td><td>2020-10-26 07:21:40.000</td><td>4</td></tr>\n",
       "<tr><td>login</td><td>access</td><td>1603666500</td><td>2020-10-26 07:55:00.000</td><td>5</td></tr>\n",
       "<tr><td>login</td><td>access</td><td>1603670500</td><td>2020-10-26 09:01:40.000</td><td>6</td></tr>\n",
       "<tr><td>login</td><td>access</td><td>1603673500</td><td>2020-10-26 09:51:40.000</td><td>7</td></tr>\n",
       "<tr><td>login</td><td>access</td><td>1603674500</td><td>2020-10-26 10:08:20.000</td><td>8</td></tr>\n",
       "<tr><td>login</td><td>access</td><td>1603675500</td><td>2020-10-26 10:25:00.000</td><td>9</td></tr>\n",
       "</table>\n"
      ],
      "text/plain": [
       "+------+------+----------+-----------------------+-----+\n",
       "|  a_id| a_tag|    a_time|            a_timestamp|a_uid|\n",
       "+------+------+----------+-----------------------+-----+\n",
       "|logout|access|1603647200|2020-10-26 02:33:20.000|    1|\n",
       "|logout|access|1603650200|2020-10-26 03:23:20.000|    2|\n",
       "|logout|access|1603659200|2020-10-26 05:53:20.000|    3|\n",
       "|logout|access|1603664200|2020-10-26 07:16:40.000|    4|\n",
       "|logout|access|1603669500|2020-10-26 08:45:00.000|    5|\n",
       "| login|access|1603645200|2020-10-26 02:00:00.000|    1|\n",
       "| login|access|1603649200|2020-10-26 03:06:40.000|    2|\n",
       "| login|access|1603653200|2020-10-26 04:13:20.000|    2|\n",
       "| login|access|1603657200|2020-10-26 05:20:00.000|    3|\n",
       "| login|access|1603660200|2020-10-26 06:10:00.000|    4|\n",
       "| login|access|1603664500|2020-10-26 07:21:40.000|    4|\n",
       "| login|access|1603666500|2020-10-26 07:55:00.000|    5|\n",
       "| login|access|1603670500|2020-10-26 09:01:40.000|    6|\n",
       "| login|access|1603673500|2020-10-26 09:51:40.000|    7|\n",
       "| login|access|1603674500|2020-10-26 10:08:20.000|    8|\n",
       "| login|access|1603675500|2020-10-26 10:25:00.000|    9|\n",
       "+------+------+----------+-----------------------+-----+"
      ]
     },
     "metadata": {},
     "output_type": "display_data"
    }
   ],
   "source": [
    "access26 = spark.read.option(\"inferSchema\", \"true\").json(\"access/20201026\")\n",
    "access26.printSchema()\n",
    "access26.show(truncate=False)\n",
    "display(access26)"
   ]
  },
  {
   "cell_type": "markdown",
   "metadata": {},
   "source": [
    "### 5-2. 수집된 고객, 매출 및 접속 임시 테이블 생성"
   ]
  },
  {
   "cell_type": "code",
   "execution_count": 5,
   "metadata": {},
   "outputs": [
    {
     "data": {
      "text/html": [
       "<table border='1'>\n",
       "<tr><th>database</th><th>tableName</th><th>isTemporary</th></tr>\n",
       "<tr><td></td><td>access26</td><td>true</td></tr>\n",
       "<tr><td></td><td>purchase26</td><td>true</td></tr>\n",
       "<tr><td></td><td>user26</td><td>true</td></tr>\n",
       "</table>\n"
      ],
      "text/plain": [
       "+--------+----------+-----------+\n",
       "|database| tableName|isTemporary|\n",
       "+--------+----------+-----------+\n",
       "|        |  access26|       true|\n",
       "|        |purchase26|       true|\n",
       "|        |    user26|       true|\n",
       "+--------+----------+-----------+"
      ]
     },
     "execution_count": 5,
     "metadata": {},
     "output_type": "execute_result"
    }
   ],
   "source": [
    "user26.createOrReplaceTempView(\"user26\")\n",
    "purchase26.createOrReplaceTempView(\"purchase26\")\n",
    "access26.createOrReplaceTempView(\"access26\")\n",
    "spark.sql(\"show tables '*26'\")"
   ]
  },
  {
   "cell_type": "markdown",
   "metadata": {},
   "source": [
    "### 5-3. SparkSQL을 이용하여 테이블 별 데이터프레임 생성하기"
   ]
  },
  {
   "cell_type": "code",
   "execution_count": 6,
   "metadata": {},
   "outputs": [
    {
     "data": {
      "text/html": [
       "<table border='1'>\n",
       "<tr><th>database</th><th>tableName</th><th>isTemporary</th></tr>\n",
       "<tr><td></td><td>access</td><td>true</td></tr>\n",
       "<tr><td></td><td>access26</td><td>true</td></tr>\n",
       "<tr><td></td><td>purchase</td><td>true</td></tr>\n",
       "<tr><td></td><td>purchase26</td><td>true</td></tr>\n",
       "<tr><td></td><td>user</td><td>true</td></tr>\n",
       "<tr><td></td><td>user26</td><td>true</td></tr>\n",
       "</table>\n"
      ],
      "text/plain": [
       "+--------+----------+-----------+\n",
       "|database| tableName|isTemporary|\n",
       "+--------+----------+-----------+\n",
       "|        |    access|       true|\n",
       "|        |  access26|       true|\n",
       "|        |  purchase|       true|\n",
       "|        |purchase26|       true|\n",
       "|        |      user|       true|\n",
       "|        |    user26|       true|\n",
       "+--------+----------+-----------+"
      ]
     },
     "execution_count": 6,
     "metadata": {},
     "output_type": "execute_result"
    }
   ],
   "source": [
    "u_signup_condition = \"u_signup >= '20201026' and u_signup < '20201027'\"\n",
    "user = spark.sql(\"select u_id, u_name, u_gender from user26\").where(u_signup_condition)\n",
    "user.createOrReplaceTempView(\"user\")\n",
    "\n",
    "p_time_condition = \"p_time >= '2020-10-26 00:00:00' and p_time < '2020-10-27 00:00:00'\"\n",
    "purchase = spark.sql(\"select from_unixtime(p_time) as p_time, p_uid, p_id, p_name, p_amount from purchase26\").where(p_time_condition)\n",
    "purchase.createOrReplaceTempView(\"purchase\")\n",
    "\n",
    "access = spark.sql(\"select a_id, a_tag, a_timestamp, a_uid from access26\")\n",
    "access.createOrReplaceTempView(\"access\")\n",
    "\n",
    "spark.sql(\"show tables\")"
   ]
  },
  {
   "cell_type": "markdown",
   "metadata": {},
   "source": [
    "### 5-4. 생성된 테이블을 SQL 문을 이용하여 탐색하기"
   ]
  },
  {
   "cell_type": "code",
   "execution_count": 7,
   "metadata": {},
   "outputs": [
    {
     "data": {
      "text/html": [
       "<table border='1'>\n",
       "<tr><th>u_gender</th><th>count(1)</th></tr>\n",
       "<tr><td>여</td><td>1</td></tr>\n",
       "<tr><td>남</td><td>3</td></tr>\n",
       "</table>\n"
      ],
      "text/plain": [
       "+--------+--------+\n",
       "|u_gender|count(1)|\n",
       "+--------+--------+\n",
       "|      여|       1|\n",
       "|      남|       3|\n",
       "+--------+--------+"
      ]
     },
     "execution_count": 7,
     "metadata": {},
     "output_type": "execute_result"
    }
   ],
   "source": [
    "spark.sql(\"describe user\")\n",
    "groupByCount = \"select u_gender, count(1) from user group by u_gender\"\n",
    "spark.sql(groupByCount)"
   ]
  },
  {
   "cell_type": "code",
   "execution_count": 8,
   "metadata": {},
   "outputs": [
    {
     "data": {
      "text/html": [
       "<table border='1'>\n",
       "<tr><th>min(p_amount)</th><th>max(p_amount)</th></tr>\n",
       "<tr><td>1000000</td><td>4500000</td></tr>\n",
       "</table>\n"
      ],
      "text/plain": [
       "+-------------+-------------+\n",
       "|min(p_amount)|max(p_amount)|\n",
       "+-------------+-------------+\n",
       "|      1000000|      4500000|\n",
       "+-------------+-------------+"
      ]
     },
     "execution_count": 8,
     "metadata": {},
     "output_type": "execute_result"
    }
   ],
   "source": [
    "spark.sql(\"describe purchase\")\n",
    "selectClause = \"select min(p_amount), max(p_amount) from purchase\"\n",
    "spark.sql(selectClause)"
   ]
  },
  {
   "cell_type": "code",
   "execution_count": 9,
   "metadata": {},
   "outputs": [
    {
     "data": {
      "text/html": [
       "<table border='1'>\n",
       "<tr><th>a_uid</th><th>a_count</th></tr>\n",
       "<tr><td>2</td><td>2</td></tr>\n",
       "<tr><td>4</td><td>2</td></tr>\n",
       "<tr><td>6</td><td>1</td></tr>\n",
       "<tr><td>7</td><td>1</td></tr>\n",
       "<tr><td>3</td><td>1</td></tr>\n",
       "<tr><td>1</td><td>1</td></tr>\n",
       "<tr><td>8</td><td>1</td></tr>\n",
       "<tr><td>5</td><td>1</td></tr>\n",
       "<tr><td>9</td><td>1</td></tr>\n",
       "</table>\n"
      ],
      "text/plain": [
       "+-----+-------+\n",
       "|a_uid|a_count|\n",
       "+-----+-------+\n",
       "|    4|      2|\n",
       "|    2|      2|\n",
       "|    3|      1|\n",
       "|    6|      1|\n",
       "|    1|      1|\n",
       "|    7|      1|\n",
       "|    8|      1|\n",
       "|    9|      1|\n",
       "|    5|      1|\n",
       "+-----+-------+"
      ]
     },
     "execution_count": 9,
     "metadata": {},
     "output_type": "execute_result"
    }
   ],
   "source": [
    "spark.sql(\"describe access\")\n",
    "countTop=\"select a_uid, count(1) as a_count from access where a_id = 'login' group by a_uid order by a_count desc\"\n",
    "spark.sql(countTop)"
   ]
  },
  {
   "cell_type": "markdown",
   "metadata": {},
   "source": [
    "## 6. 기본 지표 생성\n",
    "### 6-1. DAU (Daily Activer User) 지표를 생성하세요"
   ]
  },
  {
   "cell_type": "code",
   "execution_count": 10,
   "metadata": {},
   "outputs": [
    {
     "data": {
      "text/html": [
       "<table border='1'>\n",
       "<tr><th>a_id</th><th>a_tag</th><th>a_timestamp</th><th>a_uid</th></tr>\n",
       "<tr><td>logout</td><td>access</td><td>2020-10-26 02:33:20.000</td><td>1</td></tr>\n",
       "<tr><td>logout</td><td>access</td><td>2020-10-26 03:23:20.000</td><td>2</td></tr>\n",
       "<tr><td>logout</td><td>access</td><td>2020-10-26 05:53:20.000</td><td>3</td></tr>\n",
       "<tr><td>logout</td><td>access</td><td>2020-10-26 07:16:40.000</td><td>4</td></tr>\n",
       "<tr><td>logout</td><td>access</td><td>2020-10-26 08:45:00.000</td><td>5</td></tr>\n",
       "<tr><td>login</td><td>access</td><td>2020-10-26 02:00:00.000</td><td>1</td></tr>\n",
       "<tr><td>login</td><td>access</td><td>2020-10-26 03:06:40.000</td><td>2</td></tr>\n",
       "<tr><td>login</td><td>access</td><td>2020-10-26 04:13:20.000</td><td>2</td></tr>\n",
       "<tr><td>login</td><td>access</td><td>2020-10-26 05:20:00.000</td><td>3</td></tr>\n",
       "<tr><td>login</td><td>access</td><td>2020-10-26 06:10:00.000</td><td>4</td></tr>\n",
       "<tr><td>login</td><td>access</td><td>2020-10-26 07:21:40.000</td><td>4</td></tr>\n",
       "<tr><td>login</td><td>access</td><td>2020-10-26 07:55:00.000</td><td>5</td></tr>\n",
       "<tr><td>login</td><td>access</td><td>2020-10-26 09:01:40.000</td><td>6</td></tr>\n",
       "<tr><td>login</td><td>access</td><td>2020-10-26 09:51:40.000</td><td>7</td></tr>\n",
       "<tr><td>login</td><td>access</td><td>2020-10-26 10:08:20.000</td><td>8</td></tr>\n",
       "<tr><td>login</td><td>access</td><td>2020-10-26 10:25:00.000</td><td>9</td></tr>\n",
       "</table>\n"
      ],
      "text/plain": [
       "+------+------+-----------------------+-----+\n",
       "|  a_id| a_tag|            a_timestamp|a_uid|\n",
       "+------+------+-----------------------+-----+\n",
       "|logout|access|2020-10-26 02:33:20.000|    1|\n",
       "|logout|access|2020-10-26 03:23:20.000|    2|\n",
       "|logout|access|2020-10-26 05:53:20.000|    3|\n",
       "|logout|access|2020-10-26 07:16:40.000|    4|\n",
       "|logout|access|2020-10-26 08:45:00.000|    5|\n",
       "| login|access|2020-10-26 02:00:00.000|    1|\n",
       "| login|access|2020-10-26 03:06:40.000|    2|\n",
       "| login|access|2020-10-26 04:13:20.000|    2|\n",
       "| login|access|2020-10-26 05:20:00.000|    3|\n",
       "| login|access|2020-10-26 06:10:00.000|    4|\n",
       "| login|access|2020-10-26 07:21:40.000|    4|\n",
       "| login|access|2020-10-26 07:55:00.000|    5|\n",
       "| login|access|2020-10-26 09:01:40.000|    6|\n",
       "| login|access|2020-10-26 09:51:40.000|    7|\n",
       "| login|access|2020-10-26 10:08:20.000|    8|\n",
       "| login|access|2020-10-26 10:25:00.000|    9|\n",
       "+------+------+-----------------------+-----+"
      ]
     },
     "metadata": {},
     "output_type": "display_data"
    },
    {
     "data": {
      "text/html": [
       "<table border='1'>\n",
       "<tr><th>DAU</th></tr>\n",
       "<tr><td>9</td></tr>\n",
       "</table>\n"
      ],
      "text/plain": [
       "+---+\n",
       "|DAU|\n",
       "+---+\n",
       "|  9|\n",
       "+---+"
      ]
     },
     "metadata": {},
     "output_type": "display_data"
    }
   ],
   "source": [
    "display(access)\n",
    "distinctAccessUser = \"select count(distinct a_uid) as DAU from access\"\n",
    "dau = spark.sql(distinctAccessUser)\n",
    "display(dau)"
   ]
  },
  {
   "cell_type": "markdown",
   "metadata": {},
   "source": [
    "### 6-2. DPU (Daily Paying User) 지표를 생성하세요"
   ]
  },
  {
   "cell_type": "code",
   "execution_count": 11,
   "metadata": {},
   "outputs": [
    {
     "data": {
      "text/html": [
       "<table border='1'>\n",
       "<tr><th>p_time</th><th>p_uid</th><th>p_id</th><th>p_name</th><th>p_amount</th></tr>\n",
       "<tr><td>2020-10-26 03:45:50</td><td>1</td><td>2001</td><td>LG Cyon</td><td>1400000</td></tr>\n",
       "<tr><td>2020-10-26 03:55:55</td><td>5</td><td>2002</td><td>LG TV</td><td>1000000</td></tr>\n",
       "<tr><td>2020-10-26 10:08:20</td><td>6</td><td>2003</td><td>LG Computer</td><td>4500000</td></tr>\n",
       "<tr><td>2020-10-26 07:45:55</td><td>7</td><td>2004</td><td>LG Gram</td><td>3500000</td></tr>\n",
       "<tr><td>2020-10-26 07:49:15</td><td>9</td><td>2004</td><td>LG TV</td><td>2500000</td></tr>\n",
       "</table>\n"
      ],
      "text/plain": [
       "+-------------------+-----+----+-----------+--------+\n",
       "|             p_time|p_uid|p_id|     p_name|p_amount|\n",
       "+-------------------+-----+----+-----------+--------+\n",
       "|2020-10-26 03:45:50|    1|2001|    LG Cyon| 1400000|\n",
       "|2020-10-26 03:55:55|    5|2002|      LG TV| 1000000|\n",
       "|2020-10-26 10:08:20|    6|2003|LG Computer| 4500000|\n",
       "|2020-10-26 07:45:55|    7|2004|    LG Gram| 3500000|\n",
       "|2020-10-26 07:49:15|    9|2004|      LG TV| 2500000|\n",
       "+-------------------+-----+----+-----------+--------+"
      ]
     },
     "metadata": {},
     "output_type": "display_data"
    },
    {
     "data": {
      "text/html": [
       "<table border='1'>\n",
       "<tr><th>PU</th></tr>\n",
       "<tr><td>5</td></tr>\n",
       "</table>\n"
      ],
      "text/plain": [
       "+---+\n",
       "| PU|\n",
       "+---+\n",
       "|  5|\n",
       "+---+"
      ]
     },
     "metadata": {},
     "output_type": "display_data"
    }
   ],
   "source": [
    "display(purchase)\n",
    "distinctPayingUser = \"select count(distinct p_uid) as PU from purchase\"\n",
    "pu = spark.sql(distinctPayingUser)\n",
    "display(pu)"
   ]
  },
  {
   "cell_type": "markdown",
   "metadata": {},
   "source": [
    "### 6-3. DR (Daily Revenue) 지표를 생성하세요"
   ]
  },
  {
   "cell_type": "code",
   "execution_count": 12,
   "metadata": {},
   "outputs": [
    {
     "data": {
      "text/html": [
       "<table border='1'>\n",
       "<tr><th>p_time</th><th>p_uid</th><th>p_id</th><th>p_name</th><th>p_amount</th></tr>\n",
       "<tr><td>2020-10-26 03:45:50</td><td>1</td><td>2001</td><td>LG Cyon</td><td>1400000</td></tr>\n",
       "<tr><td>2020-10-26 03:55:55</td><td>5</td><td>2002</td><td>LG TV</td><td>1000000</td></tr>\n",
       "<tr><td>2020-10-26 10:08:20</td><td>6</td><td>2003</td><td>LG Computer</td><td>4500000</td></tr>\n",
       "<tr><td>2020-10-26 07:45:55</td><td>7</td><td>2004</td><td>LG Gram</td><td>3500000</td></tr>\n",
       "<tr><td>2020-10-26 07:49:15</td><td>9</td><td>2004</td><td>LG TV</td><td>2500000</td></tr>\n",
       "</table>\n"
      ],
      "text/plain": [
       "DataFrame[p_time: string, p_uid: int, p_id: int, p_name: string, p_amount: int]"
      ]
     },
     "metadata": {},
     "output_type": "display_data"
    },
    {
     "data": {
      "text/html": [
       "<table border='1'>\n",
       "<tr><th>DR</th></tr>\n",
       "<tr><td>12900000</td></tr>\n",
       "</table>\n"
      ],
      "text/plain": [
       "+--------+\n",
       "|      DR|\n",
       "+--------+\n",
       "|12900000|\n",
       "+--------+"
      ]
     },
     "metadata": {},
     "output_type": "display_data"
    }
   ],
   "source": [
    "display(purchase)\n",
    "sumOfDailyRevenue = \"select sum(p_amount) as DR from purchase\"\n",
    "dr = spark.sql(sumOfDailyRevenue)\n",
    "display(dr)"
   ]
  },
  {
   "cell_type": "markdown",
   "metadata": {},
   "source": [
    "### 6-4. ARPU (Average Revenue Per User) 지표를 생성하세요"
   ]
  },
  {
   "cell_type": "code",
   "execution_count": 13,
   "metadata": {},
   "outputs": [
    {
     "name": "stdout",
     "output_type": "stream",
     "text": [
      "ARPU : 1433333.3333333333\n"
     ]
    }
   ],
   "source": [
    "v_dau = dau.collect()[0][\"DAU\"]\n",
    "v_pu = pu.collect()[0][\"PU\"]\n",
    "v_dr = dr.collect()[0][\"DR\"]\n",
    "\n",
    "print(\"ARPU : {}\".format(v_dr / v_dau))"
   ]
  },
  {
   "cell_type": "markdown",
   "metadata": {},
   "source": [
    "### 6-5. ARPPU (Average Revenue Per Paying User) 지표를 생성하세요"
   ]
  },
  {
   "cell_type": "code",
   "execution_count": 14,
   "metadata": {},
   "outputs": [
    {
     "name": "stdout",
     "output_type": "stream",
     "text": [
      "ARPPU : 2580000.0\n"
     ]
    }
   ],
   "source": [
    "print(\"ARPPU : {}\".format(v_dr / v_pu))"
   ]
  },
  {
   "cell_type": "markdown",
   "metadata": {},
   "source": [
    "## 7. 고급 지표 생성\n",
    "\n",
    "> 어제 디멘젼을 가져와서 정상 조회 되는 지 확인합니다"
   ]
  },
  {
   "cell_type": "code",
   "execution_count": 15,
   "metadata": {},
   "outputs": [
    {
     "name": "stdout",
     "output_type": "stream",
     "text": [
      "root\n",
      " |-- d_uid: long (nullable = true)\n",
      " |-- d_name: string (nullable = true)\n",
      " |-- d_gender: string (nullable = true)\n",
      " |-- d_acount: long (nullable = true)\n",
      " |-- d_pamount: long (nullable = true)\n",
      " |-- d_pcount: long (nullable = true)\n",
      " |-- d_first_purchase: string (nullable = true)\n",
      "\n"
     ]
    },
    {
     "data": {
      "text/html": [
       "<table border='1'>\n",
       "<tr><th>d_uid</th><th>d_name</th><th>d_gender</th><th>d_acount</th><th>d_pamount</th><th>d_pcount</th><th>d_first_purchase</th></tr>\n",
       "<tr><td>5</td><td>유코드제로</td><td>여</td><td>2</td><td>6000000</td><td>2</td><td>2020-10-25 09:32:35</td></tr>\n",
       "<tr><td>2</td><td>김싸이언</td><td>남</td><td>3</td><td>1400000</td><td>1</td><td>2020-10-25 11:38:20</td></tr>\n",
       "<tr><td>1</td><td>정휘센</td><td>남</td><td>2</td><td>3800000</td><td>2</td><td>2020-10-25 05:32:30</td></tr>\n",
       "<tr><td>3</td><td>박트롬</td><td>여</td><td>2</td><td>1000000</td><td>1</td><td>2020-10-25 05:42:35</td></tr>\n",
       "<tr><td>4</td><td>청소기</td><td>남</td><td>3</td><td>0</td><td>0</td><td>null</td></tr>\n",
       "</table>\n"
      ],
      "text/plain": [
       "+-----+----------+--------+--------+---------+--------+-------------------+\n",
       "|d_uid|    d_name|d_gender|d_acount|d_pamount|d_pcount|   d_first_purchase|\n",
       "+-----+----------+--------+--------+---------+--------+-------------------+\n",
       "|    5|유코드제로|      여|       2|  6000000|       2|2020-10-25 09:32:35|\n",
       "|    2|  김싸이언|      남|       3|  1400000|       1|2020-10-25 11:38:20|\n",
       "|    1|    정휘센|      남|       2|  3800000|       2|2020-10-25 05:32:30|\n",
       "|    3|    박트롬|      여|       2|  1000000|       1|2020-10-25 05:42:35|\n",
       "|    4|    청소기|      남|       3|        0|       0|               null|\n",
       "+-----+----------+--------+--------+---------+--------+-------------------+"
      ]
     },
     "metadata": {},
     "output_type": "display_data"
    }
   ],
   "source": [
    "yesterday_dimension=\"dimension/dt=20201025\"\n",
    "yesterday = spark.read.parquet(yesterday_dimension)\n",
    "yesterday.printSchema()\n",
    "display(yesterday)"
   ]
  },
  {
   "cell_type": "markdown",
   "metadata": {},
   "source": [
    "### 7-1. 전체 고객의 ID 추출"
   ]
  },
  {
   "cell_type": "code",
   "execution_count": 16,
   "metadata": {},
   "outputs": [
    {
     "name": "stdout",
     "output_type": "stream",
     "text": [
      "root\n",
      " |-- uid: long (nullable = true)\n",
      "\n"
     ]
    },
    {
     "data": {
      "text/html": [
       "<table border='1'>\n",
       "<tr><th>uid</th></tr>\n",
       "<tr><td>1</td></tr>\n",
       "<tr><td>2</td></tr>\n",
       "<tr><td>3</td></tr>\n",
       "<tr><td>4</td></tr>\n",
       "<tr><td>5</td></tr>\n",
       "<tr><td>6</td></tr>\n",
       "<tr><td>7</td></tr>\n",
       "<tr><td>8</td></tr>\n",
       "<tr><td>9</td></tr>\n",
       "</table>\n"
      ],
      "text/plain": [
       "+---+\n",
       "|uid|\n",
       "+---+\n",
       "|  1|\n",
       "|  2|\n",
       "|  3|\n",
       "|  4|\n",
       "|  5|\n",
       "|  6|\n",
       "|  7|\n",
       "|  8|\n",
       "|  9|\n",
       "+---+"
      ]
     },
     "metadata": {},
     "output_type": "display_data"
    }
   ],
   "source": [
    "yesterday_uids = yesterday.select(\"d_uid\")\n",
    "today_uids = access.select(\"a_uid\")\n",
    "\n",
    "joinCondition = \"<어제 uid 와 오늘 uid 값이 일치하는 조건>\"\n",
    "joinCondition = yesterday_uids.d_uid == today_uids.a_uid\n",
    "\n",
    "joinHow = \"<어제와 오늘 고객정보를 추가하는 방식>\"\n",
    "joinHow = \"full_outer\"\n",
    "\n",
    "all_uids = (\n",
    "    yesterday_uids.join(today_uids, joinCondition, joinHow)\n",
    "    .withColumn(\"uid\", when(yesterday.d_uid.isNull(), access.a_uid).otherwise(yesterday.d_uid))\n",
    "    .select(\"uid\").distinct()\n",
    ")\n",
    "\n",
    "all_uids.printSchema()\n",
    "display(all_uids.orderBy(\"uid\"))"
   ]
  },
  {
   "cell_type": "code",
   "execution_count": 17,
   "metadata": {},
   "outputs": [
    {
     "name": "stdout",
     "output_type": "stream",
     "text": [
      "root\n",
      " |-- a_uid: long (nullable = true)\n",
      "\n"
     ]
    },
    {
     "data": {
      "text/html": [
       "<table border='1'>\n",
       "<tr><th>a_uid</th></tr>\n",
       "<tr><td>4</td></tr>\n",
       "<tr><td>6</td></tr>\n",
       "<tr><td>7</td></tr>\n",
       "<tr><td>8</td></tr>\n",
       "<tr><td>3</td></tr>\n",
       "<tr><td>5</td></tr>\n",
       "<tr><td>2</td></tr>\n",
       "<tr><td>1</td></tr>\n",
       "<tr><td>9</td></tr>\n",
       "</table>\n"
      ],
      "text/plain": [
       "+-----+\n",
       "|a_uid|\n",
       "+-----+\n",
       "|    4|\n",
       "|    6|\n",
       "|    7|\n",
       "|    8|\n",
       "|    3|\n",
       "|    5|\n",
       "|    2|\n",
       "|    1|\n",
       "|    9|\n",
       "+-----+"
      ]
     },
     "metadata": {},
     "output_type": "display_data"
    }
   ],
   "source": [
    "uid1 = yesterday.select(\"d_uid\").withColumnRenamed(\"d_uid\", \"a_uid\")\n",
    "uid2 = access.select(\"a_uid\")\n",
    "all_uids = uid1.union(uid2).distinct()\n",
    "all_uids.printSchema()\n",
    "display(all_uids)"
   ]
  },
  {
   "cell_type": "markdown",
   "metadata": {},
   "source": [
    "### 7-2. 어제 디멘젼 정보와 결합"
   ]
  },
  {
   "cell_type": "code",
   "execution_count": 18,
   "metadata": {},
   "outputs": [
    {
     "name": "stdout",
     "output_type": "stream",
     "text": [
      "root\n",
      " |-- d_uid: long (nullable = true)\n",
      " |-- d_name: string (nullable = true)\n",
      " |-- d_gender: string (nullable = true)\n",
      " |-- d_acount: long (nullable = true)\n",
      " |-- d_pamount: long (nullable = true)\n",
      " |-- d_pcount: long (nullable = true)\n",
      " |-- d_first_purchase: string (nullable = true)\n",
      "\n"
     ]
    },
    {
     "data": {
      "text/html": [
       "<table border='1'>\n",
       "<tr><th>d_uid</th><th>d_name</th><th>d_gender</th><th>d_acount</th><th>d_pamount</th><th>d_pcount</th><th>d_first_purchase</th></tr>\n",
       "<tr><td>1</td><td>정휘센</td><td>남</td><td>2</td><td>3800000</td><td>2</td><td>2020-10-25 05:32:30</td></tr>\n",
       "<tr><td>2</td><td>김싸이언</td><td>남</td><td>3</td><td>1400000</td><td>1</td><td>2020-10-25 11:38:20</td></tr>\n",
       "<tr><td>3</td><td>박트롬</td><td>여</td><td>2</td><td>1000000</td><td>1</td><td>2020-10-25 05:42:35</td></tr>\n",
       "<tr><td>4</td><td>청소기</td><td>남</td><td>3</td><td>0</td><td>0</td><td>null</td></tr>\n",
       "<tr><td>5</td><td>유코드제로</td><td>여</td><td>2</td><td>6000000</td><td>2</td><td>2020-10-25 09:32:35</td></tr>\n",
       "<tr><td>6</td><td>null</td><td>null</td><td>null</td><td>null</td><td>null</td><td>null</td></tr>\n",
       "<tr><td>7</td><td>null</td><td>null</td><td>null</td><td>null</td><td>null</td><td>null</td></tr>\n",
       "<tr><td>8</td><td>null</td><td>null</td><td>null</td><td>null</td><td>null</td><td>null</td></tr>\n",
       "<tr><td>9</td><td>null</td><td>null</td><td>null</td><td>null</td><td>null</td><td>null</td></tr>\n",
       "</table>\n"
      ],
      "text/plain": [
       "+-----+----------+--------+--------+---------+--------+-------------------+\n",
       "|d_uid|    d_name|d_gender|d_acount|d_pamount|d_pcount|   d_first_purchase|\n",
       "+-----+----------+--------+--------+---------+--------+-------------------+\n",
       "|    1|    정휘센|      남|       2|  3800000|       2|2020-10-25 05:32:30|\n",
       "|    2|  김싸이언|      남|       3|  1400000|       1|2020-10-25 11:38:20|\n",
       "|    3|    박트롬|      여|       2|  1000000|       1|2020-10-25 05:42:35|\n",
       "|    4|    청소기|      남|       3|        0|       0|               null|\n",
       "|    5|유코드제로|      여|       2|  6000000|       2|2020-10-25 09:32:35|\n",
       "|    6|      null|    null|    null|     null|    null|               null|\n",
       "|    7|      null|    null|    null|     null|    null|               null|\n",
       "|    8|      null|    null|    null|     null|    null|               null|\n",
       "|    9|      null|    null|    null|     null|    null|               null|\n",
       "+-----+----------+--------+--------+---------+--------+-------------------+"
      ]
     },
     "metadata": {},
     "output_type": "display_data"
    }
   ],
   "source": [
    "joinCondition = \"uid 와 yesterday 의 uid 가 일치하는 조건\"\n",
    "joinCondition = all_uids.a_uid == yesterday.d_uid\n",
    "joinHow = \"left_outer\"\n",
    "\n",
    "# uid 에서 생성된 id 값이 모든 user_id 이므로, drop 함수를 통해 기존의 d_uid 는 제거하고, withColumnRenamed 함수를 통해, uid 를 d_uid 로 변경 합니다\n",
    "uids = (\n",
    "    all_uids.join(yesterday, joinCondition, joinHow)\n",
    "    .drop(\"d_uid\")\n",
    "    .withColumnRenamed(\"a_uid\", \"d_uid\")\n",
    "    .sort(asc(\"d_uid\"))\n",
    ")\n",
    "\n",
    "uids.printSchema()\n",
    "display(uids)"
   ]
  },
  {
   "cell_type": "markdown",
   "metadata": {},
   "source": [
    "### 7-3. 이름과 성별을 결합"
   ]
  },
  {
   "cell_type": "code",
   "execution_count": 19,
   "metadata": {},
   "outputs": [
    {
     "name": "stdout",
     "output_type": "stream",
     "text": [
      "+----+--------+--------+\n",
      "|u_id|  u_name|u_gender|\n",
      "+----+--------+--------+\n",
      "|   6|윤디오스|      남|\n",
      "|   7|임모바일|      남|\n",
      "|   8|조노트북|      여|\n",
      "|   9|최컴퓨터|      남|\n",
      "+----+--------+--------+\n",
      "\n",
      "+-----+----------+--------+--------+---------+--------+-------------------+\n",
      "|d_uid|    d_name|d_gender|d_acount|d_pamount|d_pcount|   d_first_purchase|\n",
      "+-----+----------+--------+--------+---------+--------+-------------------+\n",
      "|    1|    정휘센|      남|       2|  3800000|       2|2020-10-25 05:32:30|\n",
      "|    2|  김싸이언|      남|       3|  1400000|       1|2020-10-25 11:38:20|\n",
      "|    3|    박트롬|      여|       2|  1000000|       1|2020-10-25 05:42:35|\n",
      "|    4|    청소기|      남|       3|        0|       0|               null|\n",
      "|    5|유코드제로|      여|       2|  6000000|       2|2020-10-25 09:32:35|\n",
      "|    6|      null|    null|    null|     null|    null|               null|\n",
      "|    7|      null|    null|    null|     null|    null|               null|\n",
      "|    8|      null|    null|    null|     null|    null|               null|\n",
      "|    9|      null|    null|    null|     null|    null|               null|\n",
      "+-----+----------+--------+--------+---------+--------+-------------------+\n",
      "\n"
     ]
    }
   ],
   "source": [
    "user.show()\n",
    "uids.show()"
   ]
  },
  {
   "cell_type": "code",
   "execution_count": 20,
   "metadata": {},
   "outputs": [
    {
     "data": {
      "text/html": [
       "<table border='1'>\n",
       "<tr><th>d_uid</th><th>d_acount</th><th>d_pamount</th><th>d_pcount</th><th>d_first_purchase</th><th>d_name</th><th>d_gender</th></tr>\n",
       "<tr><td>1</td><td>2</td><td>3800000</td><td>2</td><td>2020-10-25 05:32:30</td><td>정휘센</td><td>남</td></tr>\n",
       "<tr><td>2</td><td>3</td><td>1400000</td><td>1</td><td>2020-10-25 11:38:20</td><td>김싸이언</td><td>남</td></tr>\n",
       "<tr><td>3</td><td>2</td><td>1000000</td><td>1</td><td>2020-10-25 05:42:35</td><td>박트롬</td><td>여</td></tr>\n",
       "<tr><td>4</td><td>3</td><td>0</td><td>0</td><td>null</td><td>청소기</td><td>남</td></tr>\n",
       "<tr><td>5</td><td>2</td><td>6000000</td><td>2</td><td>2020-10-25 09:32:35</td><td>유코드제로</td><td>여</td></tr>\n",
       "<tr><td>6</td><td>null</td><td>null</td><td>null</td><td>null</td><td>윤디오스</td><td>남</td></tr>\n",
       "<tr><td>7</td><td>null</td><td>null</td><td>null</td><td>null</td><td>임모바일</td><td>남</td></tr>\n",
       "<tr><td>8</td><td>null</td><td>null</td><td>null</td><td>null</td><td>조노트북</td><td>여</td></tr>\n",
       "<tr><td>9</td><td>null</td><td>null</td><td>null</td><td>null</td><td>최컴퓨터</td><td>남</td></tr>\n",
       "</table>\n"
      ],
      "text/plain": [
       "+-----+--------+---------+--------+-------------------+----------+--------+\n",
       "|d_uid|d_acount|d_pamount|d_pcount|   d_first_purchase|    d_name|d_gender|\n",
       "+-----+--------+---------+--------+-------------------+----------+--------+\n",
       "|    1|       2|  3800000|       2|2020-10-25 05:32:30|    정휘센|      남|\n",
       "|    2|       3|  1400000|       1|2020-10-25 11:38:20|  김싸이언|      남|\n",
       "|    3|       2|  1000000|       1|2020-10-25 05:42:35|    박트롬|      여|\n",
       "|    4|       3|        0|       0|               null|    청소기|      남|\n",
       "|    5|       2|  6000000|       2|2020-10-25 09:32:35|유코드제로|      여|\n",
       "|    6|    null|     null|    null|               null|  윤디오스|      남|\n",
       "|    7|    null|     null|    null|               null|  임모바일|      남|\n",
       "|    8|    null|     null|    null|               null|  조노트북|      여|\n",
       "|    9|    null|     null|    null|               null|  최컴퓨터|      남|\n",
       "+-----+--------+---------+--------+-------------------+----------+--------+"
      ]
     },
     "metadata": {},
     "output_type": "display_data"
    }
   ],
   "source": [
    "# 실습25) d_name 이 null 이면 u_name 을 사용하고 그렇지 않으면 d_name 을 사용합니다\n",
    "exprName = expr(\"case when d_name is null then u_name else d_name end\")\n",
    "\n",
    "# 실습26) d_gender 이 null 이면 u_gender 을 사용하고 그렇지 않으면 d_gender 을 사용합니다\n",
    "exprGender = expr(\"case when d_gender is null then u_gender else d_gender end\")\n",
    "\n",
    "dim1 = (\n",
    "    uids.join(user, uids.d_uid == user.u_id, \"left_outer\")\n",
    "    .withColumn(\"name\", exprName)\n",
    "    .withColumn(\"gender\", exprGender)\n",
    "    .drop(\"d_name\", \"d_gender\", \"u_id\", \"u_name\", \"u_gender\")\n",
    "    .withColumnRenamed(\"name\", \"d_name\")\n",
    "    .withColumnRenamed(\"gender\", \"d_gender\")\n",
    ").orderBy(asc(\"d_uid\"))\n",
    "\n",
    "display(dim1)"
   ]
  },
  {
   "cell_type": "markdown",
   "metadata": {},
   "source": [
    "### 7-4. 숫자 필드에 널값은 0으로 기본값을 넣어줍니다"
   ]
  },
  {
   "cell_type": "code",
   "execution_count": 21,
   "metadata": {},
   "outputs": [
    {
     "data": {
      "text/html": [
       "<table border='1'>\n",
       "<tr><th>d_uid</th><th>d_acount</th><th>d_pamount</th><th>d_pcount</th><th>d_first_purchase</th><th>d_name</th><th>d_gender</th></tr>\n",
       "<tr><td>1</td><td>2</td><td>3800000</td><td>2</td><td>2020-10-25 05:32:30</td><td>정휘센</td><td>남</td></tr>\n",
       "<tr><td>2</td><td>3</td><td>1400000</td><td>1</td><td>2020-10-25 11:38:20</td><td>김싸이언</td><td>남</td></tr>\n",
       "<tr><td>3</td><td>2</td><td>1000000</td><td>1</td><td>2020-10-25 05:42:35</td><td>박트롬</td><td>여</td></tr>\n",
       "<tr><td>4</td><td>3</td><td>0</td><td>0</td><td>null</td><td>청소기</td><td>남</td></tr>\n",
       "<tr><td>5</td><td>2</td><td>6000000</td><td>2</td><td>2020-10-25 09:32:35</td><td>유코드제로</td><td>여</td></tr>\n",
       "<tr><td>6</td><td>0</td><td>0</td><td>0</td><td>null</td><td>윤디오스</td><td>남</td></tr>\n",
       "<tr><td>7</td><td>0</td><td>0</td><td>0</td><td>null</td><td>임모바일</td><td>남</td></tr>\n",
       "<tr><td>8</td><td>0</td><td>0</td><td>0</td><td>null</td><td>조노트북</td><td>여</td></tr>\n",
       "<tr><td>9</td><td>0</td><td>0</td><td>0</td><td>null</td><td>최컴퓨터</td><td>남</td></tr>\n",
       "</table>\n"
      ],
      "text/plain": [
       "+-----+--------+---------+--------+-------------------+----------+--------+\n",
       "|d_uid|d_acount|d_pamount|d_pcount|   d_first_purchase|    d_name|d_gender|\n",
       "+-----+--------+---------+--------+-------------------+----------+--------+\n",
       "|    1|       2|  3800000|       2|2020-10-25 05:32:30|    정휘센|      남|\n",
       "|    2|       3|  1400000|       1|2020-10-25 11:38:20|  김싸이언|      남|\n",
       "|    3|       2|  1000000|       1|2020-10-25 05:42:35|    박트롬|      여|\n",
       "|    4|       3|        0|       0|               null|    청소기|      남|\n",
       "|    5|       2|  6000000|       2|2020-10-25 09:32:35|유코드제로|      여|\n",
       "|    6|       0|        0|       0|               null|  윤디오스|      남|\n",
       "|    7|       0|        0|       0|               null|  임모바일|      남|\n",
       "|    8|       0|        0|       0|               null|  조노트북|      여|\n",
       "|    9|       0|        0|       0|               null|  최컴퓨터|      남|\n",
       "+-----+--------+---------+--------+-------------------+----------+--------+"
      ]
     },
     "metadata": {},
     "output_type": "display_data"
    }
   ],
   "source": [
    "# 실습27) d_acount, d_pamount, d_pcount 필드의 기본값을 0으로 넣도록 작성합니다\n",
    "fillDefaultValue = { \"d_acount\":0, \"d_pamount\":0, \"d_pcount\":0 }\n",
    "\n",
    "dim2 = dim1.na.fill(fillDefaultValue)\n",
    "display(dim2)"
   ]
  },
  {
   "cell_type": "markdown",
   "metadata": {},
   "source": [
    "### 7-5. 접속횟수를 결합"
   ]
  },
  {
   "cell_type": "code",
   "execution_count": 22,
   "metadata": {},
   "outputs": [
    {
     "name": "stdout",
     "output_type": "stream",
     "text": [
      "root\n",
      " |-- a_uid: long (nullable = true)\n",
      " |-- a_count: long (nullable = false)\n",
      "\n",
      "+-----+-------+\n",
      "|a_uid|a_count|\n",
      "+-----+-------+\n",
      "|    4|      2|\n",
      "|    6|      1|\n",
      "|    7|      1|\n",
      "|    8|      1|\n",
      "|    3|      1|\n",
      "|    2|      2|\n",
      "|    5|      1|\n",
      "|    1|      1|\n",
      "|    9|      1|\n",
      "+-----+-------+\n",
      "\n",
      "root\n",
      " |-- d_uid: long (nullable = true)\n",
      " |-- d_acount: long (nullable = false)\n",
      " |-- d_pamount: long (nullable = false)\n",
      " |-- d_pcount: long (nullable = false)\n",
      " |-- d_first_purchase: string (nullable = true)\n",
      " |-- d_name: string (nullable = true)\n",
      " |-- d_gender: string (nullable = true)\n",
      "\n",
      "root\n",
      " |-- d_uid: long (nullable = true)\n",
      " |-- d_pamount: long (nullable = false)\n",
      " |-- d_pcount: long (nullable = false)\n",
      " |-- d_first_purchase: string (nullable = true)\n",
      " |-- d_name: string (nullable = true)\n",
      " |-- d_gender: string (nullable = true)\n",
      " |-- d_acount: long (nullable = true)\n",
      "\n"
     ]
    },
    {
     "data": {
      "text/html": [
       "<table border='1'>\n",
       "<tr><th>d_uid</th><th>d_pamount</th><th>d_pcount</th><th>d_first_purchase</th><th>d_name</th><th>d_gender</th><th>d_acount</th></tr>\n",
       "<tr><td>1</td><td>3800000</td><td>2</td><td>2020-10-25 05:32:30</td><td>정휘센</td><td>남</td><td>3</td></tr>\n",
       "<tr><td>2</td><td>1400000</td><td>1</td><td>2020-10-25 11:38:20</td><td>김싸이언</td><td>남</td><td>5</td></tr>\n",
       "<tr><td>3</td><td>1000000</td><td>1</td><td>2020-10-25 05:42:35</td><td>박트롬</td><td>여</td><td>3</td></tr>\n",
       "<tr><td>4</td><td>0</td><td>0</td><td>null</td><td>청소기</td><td>남</td><td>5</td></tr>\n",
       "<tr><td>5</td><td>6000000</td><td>2</td><td>2020-10-25 09:32:35</td><td>유코드제로</td><td>여</td><td>3</td></tr>\n",
       "<tr><td>6</td><td>0</td><td>0</td><td>null</td><td>윤디오스</td><td>남</td><td>1</td></tr>\n",
       "<tr><td>7</td><td>0</td><td>0</td><td>null</td><td>임모바일</td><td>남</td><td>1</td></tr>\n",
       "<tr><td>8</td><td>0</td><td>0</td><td>null</td><td>조노트북</td><td>여</td><td>1</td></tr>\n",
       "<tr><td>9</td><td>0</td><td>0</td><td>null</td><td>최컴퓨터</td><td>남</td><td>1</td></tr>\n",
       "</table>\n"
      ],
      "text/plain": [
       "+-----+---------+--------+-------------------+----------+--------+--------+\n",
       "|d_uid|d_pamount|d_pcount|   d_first_purchase|    d_name|d_gender|d_acount|\n",
       "+-----+---------+--------+-------------------+----------+--------+--------+\n",
       "|    1|  3800000|       2|2020-10-25 05:32:30|    정휘센|      남|       3|\n",
       "|    2|  1400000|       1|2020-10-25 11:38:20|  김싸이언|      남|       5|\n",
       "|    3|  1000000|       1|2020-10-25 05:42:35|    박트롬|      여|       3|\n",
       "|    4|        0|       0|               null|    청소기|      남|       5|\n",
       "|    5|  6000000|       2|2020-10-25 09:32:35|유코드제로|      여|       3|\n",
       "|    6|        0|       0|               null|  윤디오스|      남|       1|\n",
       "|    7|        0|       0|               null|  임모바일|      남|       1|\n",
       "|    8|        0|       0|               null|  조노트북|      여|       1|\n",
       "|    9|        0|       0|               null|  최컴퓨터|      남|       1|\n",
       "+-----+---------+--------+-------------------+----------+--------+--------+"
      ]
     },
     "metadata": {},
     "output_type": "display_data"
    }
   ],
   "source": [
    "access_sum = spark.sql(\"select a_uid, count(a_uid) as a_count from access where a_id = 'login' group by a_uid\")\n",
    "access_sum.printSchema()\n",
    "access_sum.show()\n",
    "dim2.printSchema()\n",
    "\n",
    "# 실습28) 오늘 접속 수치(a_count)가 null 이면 디멘젼의 d_acount 값을 사용하고, 그렇지 않으면 d_acount + a_count 를 사용합니다\n",
    "sumOfAccess = expr(\"a_count\")\n",
    "sumOfAccess = expr(\"case when a_count is null then d_acount else d_acount + a_count end\")\n",
    "\n",
    "dim3 = (\n",
    "    dim2.join(access_sum, dim2.d_uid == access_sum.a_uid, \"left_outer\")\n",
    "    .withColumn(\"sum_of_access\", sumOfAccess)\n",
    "    .drop(\"a_uid\", \"a_count\", \"d_acount\")\n",
    "    .withColumnRenamed(\"sum_of_access\", \"d_acount\")\n",
    ").orderBy(asc(\"d_uid\"))\n",
    "dim3.printSchema()\n",
    "display(dim3)"
   ]
  },
  {
   "cell_type": "markdown",
   "metadata": {
    "tags": []
   },
   "source": [
    "### 7-6. 매출횟수 및 매출을 결합"
   ]
  },
  {
   "cell_type": "code",
   "execution_count": 24,
   "metadata": {},
   "outputs": [
    {
     "data": {
      "text/html": [
       "<table border='1'>\n",
       "<tr><th>d_uid</th><th>d_pamount</th><th>d_pcount</th><th>d_first_purchase</th><th>d_name</th><th>d_gender</th><th>d_acount</th></tr>\n",
       "<tr><td>1</td><td>3800000</td><td>2</td><td>2020-10-25 05:32:30</td><td>정휘센</td><td>남</td><td>3</td></tr>\n",
       "<tr><td>2</td><td>1400000</td><td>1</td><td>2020-10-25 11:38:20</td><td>김싸이언</td><td>남</td><td>5</td></tr>\n",
       "<tr><td>3</td><td>1000000</td><td>1</td><td>2020-10-25 05:42:35</td><td>박트롬</td><td>여</td><td>3</td></tr>\n",
       "<tr><td>4</td><td>0</td><td>0</td><td>null</td><td>청소기</td><td>남</td><td>5</td></tr>\n",
       "<tr><td>5</td><td>6000000</td><td>2</td><td>2020-10-25 09:32:35</td><td>유코드제로</td><td>여</td><td>3</td></tr>\n",
       "<tr><td>6</td><td>0</td><td>0</td><td>null</td><td>윤디오스</td><td>남</td><td>1</td></tr>\n",
       "<tr><td>7</td><td>0</td><td>0</td><td>null</td><td>임모바일</td><td>남</td><td>1</td></tr>\n",
       "<tr><td>8</td><td>0</td><td>0</td><td>null</td><td>조노트북</td><td>여</td><td>1</td></tr>\n",
       "<tr><td>9</td><td>0</td><td>0</td><td>null</td><td>최컴퓨터</td><td>남</td><td>1</td></tr>\n",
       "</table>\n"
      ],
      "text/plain": [
       "DataFrame[d_uid: bigint, d_pamount: bigint, d_pcount: bigint, d_first_purchase: string, d_name: string, d_gender: string, d_acount: bigint]"
      ]
     },
     "metadata": {},
     "output_type": "display_data"
    },
    {
     "name": "stdout",
     "output_type": "stream",
     "text": [
      "root\n",
      " |-- d_uid: long (nullable = true)\n",
      " |-- d_pamount: long (nullable = false)\n",
      " |-- d_pcount: long (nullable = false)\n",
      " |-- d_first_purchase: string (nullable = true)\n",
      " |-- d_name: string (nullable = true)\n",
      " |-- d_gender: string (nullable = true)\n",
      " |-- d_acount: long (nullable = true)\n",
      "\n"
     ]
    },
    {
     "data": {
      "text/html": [
       "<table border='1'>\n",
       "<tr><th>p_uid</th><th>pamount</th><th>pcount</th></tr>\n",
       "<tr><td>5</td><td>1000000</td><td>1</td></tr>\n",
       "<tr><td>7</td><td>3500000</td><td>1</td></tr>\n",
       "<tr><td>1</td><td>1400000</td><td>1</td></tr>\n",
       "<tr><td>6</td><td>4500000</td><td>1</td></tr>\n",
       "<tr><td>9</td><td>2500000</td><td>1</td></tr>\n",
       "</table>\n"
      ],
      "text/plain": [
       "+-----+-------+------+\n",
       "|p_uid|pamount|pcount|\n",
       "+-----+-------+------+\n",
       "|    5|1000000|     1|\n",
       "|    7|3500000|     1|\n",
       "|    1|1400000|     1|\n",
       "|    6|4500000|     1|\n",
       "|    9|2500000|     1|\n",
       "+-----+-------+------+"
      ]
     },
     "metadata": {},
     "output_type": "display_data"
    },
    {
     "name": "stdout",
     "output_type": "stream",
     "text": [
      "root\n",
      " |-- p_uid: integer (nullable = true)\n",
      " |-- pamount: long (nullable = true)\n",
      " |-- pcount: long (nullable = false)\n",
      "\n"
     ]
    }
   ],
   "source": [
    "display(dim3)\n",
    "dim3.printSchema()\n",
    "\n",
    "purchase_sum = spark.sql(\"select p_uid, sum(p_amount) as pamount, count(p_uid) as pcount from purchase group by p_uid\")\n",
    "\n",
    "display(purchase_sum)\n",
    "purchase_sum.printSchema()"
   ]
  },
  {
   "cell_type": "code",
   "execution_count": 25,
   "metadata": {},
   "outputs": [
    {
     "name": "stdout",
     "output_type": "stream",
     "text": [
      "root\n",
      " |-- d_uid: long (nullable = true)\n",
      " |-- d_first_purchase: string (nullable = true)\n",
      " |-- d_name: string (nullable = true)\n",
      " |-- d_gender: string (nullable = true)\n",
      " |-- d_acount: long (nullable = true)\n",
      " |-- d_pamount: long (nullable = true)\n",
      " |-- d_pcount: long (nullable = true)\n",
      "\n"
     ]
    },
    {
     "data": {
      "text/html": [
       "<table border='1'>\n",
       "<tr><th>d_uid</th><th>d_first_purchase</th><th>d_name</th><th>d_gender</th><th>d_acount</th><th>d_pamount</th><th>d_pcount</th></tr>\n",
       "<tr><td>1</td><td>2020-10-25 05:32:30</td><td>정휘센</td><td>남</td><td>3</td><td>5200000</td><td>3</td></tr>\n",
       "<tr><td>2</td><td>2020-10-25 11:38:20</td><td>김싸이언</td><td>남</td><td>5</td><td>1400000</td><td>1</td></tr>\n",
       "<tr><td>3</td><td>2020-10-25 05:42:35</td><td>박트롬</td><td>여</td><td>3</td><td>1000000</td><td>1</td></tr>\n",
       "<tr><td>4</td><td>null</td><td>청소기</td><td>남</td><td>5</td><td>0</td><td>0</td></tr>\n",
       "<tr><td>5</td><td>2020-10-25 09:32:35</td><td>유코드제로</td><td>여</td><td>3</td><td>7000000</td><td>3</td></tr>\n",
       "<tr><td>6</td><td>null</td><td>윤디오스</td><td>남</td><td>1</td><td>4500000</td><td>1</td></tr>\n",
       "<tr><td>7</td><td>null</td><td>임모바일</td><td>남</td><td>1</td><td>3500000</td><td>1</td></tr>\n",
       "<tr><td>8</td><td>null</td><td>조노트북</td><td>여</td><td>1</td><td>0</td><td>0</td></tr>\n",
       "<tr><td>9</td><td>null</td><td>최컴퓨터</td><td>남</td><td>1</td><td>2500000</td><td>1</td></tr>\n",
       "</table>\n"
      ],
      "text/plain": [
       "+-----+-------------------+----------+--------+--------+---------+--------+\n",
       "|d_uid|   d_first_purchase|    d_name|d_gender|d_acount|d_pamount|d_pcount|\n",
       "+-----+-------------------+----------+--------+--------+---------+--------+\n",
       "|    1|2020-10-25 05:32:30|    정휘센|      남|       3|  5200000|       3|\n",
       "|    2|2020-10-25 11:38:20|  김싸이언|      남|       5|  1400000|       1|\n",
       "|    3|2020-10-25 05:42:35|    박트롬|      여|       3|  1000000|       1|\n",
       "|    4|               null|    청소기|      남|       5|        0|       0|\n",
       "|    5|2020-10-25 09:32:35|유코드제로|      여|       3|  7000000|       3|\n",
       "|    6|               null|  윤디오스|      남|       1|  4500000|       1|\n",
       "|    7|               null|  임모바일|      남|       1|  3500000|       1|\n",
       "|    8|               null|  조노트북|      여|       1|        0|       0|\n",
       "|    9|               null|  최컴퓨터|      남|       1|  2500000|       1|\n",
       "+-----+-------------------+----------+--------+--------+---------+--------+"
      ]
     },
     "metadata": {},
     "output_type": "display_data"
    }
   ],
   "source": [
    "# 실습29) 매출 금액의 합(d_pamount + pamount)을 구합니다\n",
    "sumOfAmount = expr(\"case when pamount is null then d_pamount else d_pamount + pamount end\")\n",
    "\n",
    "# 실습30) 매출 빈도의 합(d_pcount + pcount)을 구합니다\n",
    "sumOfCount = expr(\"case when pcount is null then d_pcount else d_pcount + pcount end\")\n",
    "\n",
    "dim4 = (\n",
    "    dim3.join(purchase_sum, dim3.d_uid == purchase_sum.p_uid, \"left\")\n",
    "    .withColumn(\"sum_of_amount\", sumOfAmount)\n",
    "    .withColumn(\"sum_of_count\", sumOfCount)\n",
    "    .drop(\"p_uid\", \"d_pamount\", \"d_pcount\", \"pamount\", \"pcount\")\n",
    "    .withColumnRenamed(\"sum_of_amount\", \"d_pamount\")\n",
    "    .withColumnRenamed(\"sum_of_count\", \"d_pcount\")\n",
    ").orderBy(asc(\"d_uid\"))\n",
    "\n",
    "dim4.printSchema()\n",
    "display(dim4)"
   ]
  },
  {
   "cell_type": "markdown",
   "metadata": {},
   "source": [
    "### 7-7. 최초 구매 일자를 결합"
   ]
  },
  {
   "cell_type": "code",
   "execution_count": 26,
   "metadata": {},
   "outputs": [
    {
     "name": "stdout",
     "output_type": "stream",
     "text": [
      "root\n",
      " |-- p_uid: integer (nullable = true)\n",
      " |-- p_time: string (nullable = true)\n",
      "\n",
      "+-----+-------------------+\n",
      "|p_uid|             p_time|\n",
      "+-----+-------------------+\n",
      "|    5|2020-10-26 03:55:55|\n",
      "|    7|2020-10-26 07:45:55|\n",
      "|    1|2020-10-26 03:45:50|\n",
      "|    6|2020-10-26 10:08:20|\n",
      "|    9|2020-10-26 07:49:15|\n",
      "+-----+-------------------+\n",
      "\n",
      "root\n",
      " |-- d_uid: long (nullable = true)\n",
      " |-- d_name: string (nullable = true)\n",
      " |-- d_gender: string (nullable = true)\n",
      " |-- d_acount: long (nullable = true)\n",
      " |-- d_pamount: long (nullable = true)\n",
      " |-- d_pcount: long (nullable = true)\n",
      " |-- d_first_purchase: string (nullable = true)\n",
      "\n"
     ]
    },
    {
     "data": {
      "text/html": [
       "<table border='1'>\n",
       "<tr><th>d_uid</th><th>d_name</th><th>d_gender</th><th>d_acount</th><th>d_pamount</th><th>d_pcount</th><th>d_first_purchase</th></tr>\n",
       "<tr><td>1</td><td>정휘센</td><td>남</td><td>3</td><td>5200000</td><td>3</td><td>2020-10-25 05:32:30</td></tr>\n",
       "<tr><td>2</td><td>김싸이언</td><td>남</td><td>5</td><td>1400000</td><td>1</td><td>2020-10-25 11:38:20</td></tr>\n",
       "<tr><td>3</td><td>박트롬</td><td>여</td><td>3</td><td>1000000</td><td>1</td><td>2020-10-25 05:42:35</td></tr>\n",
       "<tr><td>4</td><td>청소기</td><td>남</td><td>5</td><td>0</td><td>0</td><td>null</td></tr>\n",
       "<tr><td>5</td><td>유코드제로</td><td>여</td><td>3</td><td>7000000</td><td>3</td><td>2020-10-25 09:32:35</td></tr>\n",
       "<tr><td>6</td><td>윤디오스</td><td>남</td><td>1</td><td>4500000</td><td>1</td><td>2020-10-26 10:08:20</td></tr>\n",
       "<tr><td>7</td><td>임모바일</td><td>남</td><td>1</td><td>3500000</td><td>1</td><td>2020-10-26 07:45:55</td></tr>\n",
       "<tr><td>8</td><td>조노트북</td><td>여</td><td>1</td><td>0</td><td>0</td><td>null</td></tr>\n",
       "<tr><td>9</td><td>최컴퓨터</td><td>남</td><td>1</td><td>2500000</td><td>1</td><td>2020-10-26 07:49:15</td></tr>\n",
       "</table>\n"
      ],
      "text/plain": [
       "+-----+----------+--------+--------+---------+--------+-------------------+\n",
       "|d_uid|    d_name|d_gender|d_acount|d_pamount|d_pcount|   d_first_purchase|\n",
       "+-----+----------+--------+--------+---------+--------+-------------------+\n",
       "|    1|    정휘센|      남|       3|  5200000|       3|2020-10-25 05:32:30|\n",
       "|    2|  김싸이언|      남|       5|  1400000|       1|2020-10-25 11:38:20|\n",
       "|    3|    박트롬|      여|       3|  1000000|       1|2020-10-25 05:42:35|\n",
       "|    4|    청소기|      남|       5|        0|       0|               null|\n",
       "|    5|유코드제로|      여|       3|  7000000|       3|2020-10-25 09:32:35|\n",
       "|    6|  윤디오스|      남|       1|  4500000|       1|2020-10-26 10:08:20|\n",
       "|    7|  임모바일|      남|       1|  3500000|       1|2020-10-26 07:45:55|\n",
       "|    8|  조노트북|      여|       1|        0|       0|               null|\n",
       "|    9|  최컴퓨터|      남|       1|  2500000|       1|2020-10-26 07:49:15|\n",
       "+-----+----------+--------+--------+---------+--------+-------------------+"
      ]
     },
     "metadata": {},
     "output_type": "display_data"
    }
   ],
   "source": [
    "# 실습31) 하루에 여러번 구매가 있을 수 있으므로 group by p_uid 집계를 통해 가장 먼저 구매한 정보 즉, min(p_time)함수를 통해 일시를 선택합니다\n",
    "selectFirstPurchaseTime = \"select p_uid, min(p_time) as p_time from purchase group by p_uid\"\n",
    "\n",
    "first_purchase = spark.sql(selectFirstPurchaseTime)\n",
    "first_purchase.printSchema()\n",
    "first_purchase.show()\n",
    "\n",
    "# 실습32) 디멘젼의 최초구매일(d_first_purchase)이 null 이라면 p_time 을 사용하고 그렇지 않으면 d_first_purchase 를 사용합니다\n",
    "exprFirstPurchase = expr(\"case when d_first_purchase is null then p_time else d_first_purchase end\")\n",
    "\n",
    "dimension = (\n",
    "    dim4.join(first_purchase, dim4.d_uid == first_purchase.p_uid, \"left\")\n",
    "    .withColumn(\"first_purchase\", exprFirstPurchase)\n",
    "    .drop(\"p_uid\", \"p_time\", \"d_first_purchase\")\n",
    "    .withColumnRenamed(\"first_purchase\", \"d_first_purchase\")\n",
    ").orderBy(\"d_uid\")\n",
    "\n",
    "dimension.printSchema()\n",
    "display(dimension)"
   ]
  },
  {
   "cell_type": "markdown",
   "metadata": {},
   "source": [
    "### 7-8. 신규유저를 계산"
   ]
  },
  {
   "cell_type": "code",
   "execution_count": 27,
   "metadata": {},
   "outputs": [
    {
     "name": "stdout",
     "output_type": "stream",
     "text": [
      "root\n",
      " |-- d_uid: long (nullable = true)\n",
      "\n",
      "+-----+\n",
      "|d_uid|\n",
      "+-----+\n",
      "|    6|\n",
      "|    7|\n",
      "|    8|\n",
      "|    9|\n",
      "+-----+\n",
      "\n",
      "NU: 4\n"
     ]
    }
   ],
   "source": [
    "# 어제와 오늘의 디멘젼 테이블을 이용해 오늘 처음 접속한 신규 유저를 구합니다\n",
    "today_uids = dimension.select(\"d_uid\")\n",
    "yesterday_uids = yesterday.select(\"d_uid\")\n",
    "\n",
    "nu = today_uids.subtract(yesterday_uids)\n",
    "nu.printSchema()\n",
    "nu.show()\n",
    "v_nu = nu.count()\n",
    "print(\"NU: {}\".format(v_nu))"
   ]
  },
  {
   "cell_type": "markdown",
   "metadata": {},
   "source": [
    "### 7-9. 생성된 디멘젼을 저장소에 저장합니다"
   ]
  },
  {
   "cell_type": "code",
   "execution_count": 28,
   "metadata": {},
   "outputs": [
    {
     "name": "stdout",
     "output_type": "stream",
     "text": [
      "root\n",
      " |-- d_uid: long (nullable = true)\n",
      " |-- d_name: string (nullable = true)\n",
      " |-- d_gender: string (nullable = true)\n",
      " |-- d_acount: long (nullable = true)\n",
      " |-- d_pamount: long (nullable = true)\n",
      " |-- d_pcount: long (nullable = true)\n",
      " |-- d_first_purchase: string (nullable = true)\n",
      "\n"
     ]
    },
    {
     "name": "stderr",
     "output_type": "stream",
     "text": [
      "                                                                                \r"
     ]
    }
   ],
   "source": [
    "dimension.printSchema()\n",
    "target_dir=\"dimension/dt=20201026\"\n",
    "dimension.write.mode(\"overwrite\").parquet(target_dir)"
   ]
  },
  {
   "cell_type": "markdown",
   "metadata": {},
   "source": [
    "### 7-10. 생성된 디멘젼을 다시 읽어서 출력합니다"
   ]
  },
  {
   "cell_type": "code",
   "execution_count": 29,
   "metadata": {},
   "outputs": [
    {
     "name": "stdout",
     "output_type": "stream",
     "text": [
      "root\n",
      " |-- d_uid: long (nullable = true)\n",
      " |-- d_name: string (nullable = true)\n",
      " |-- d_gender: string (nullable = true)\n",
      " |-- d_acount: long (nullable = true)\n",
      " |-- d_pamount: long (nullable = true)\n",
      " |-- d_pcount: long (nullable = true)\n",
      " |-- d_first_purchase: string (nullable = true)\n",
      "\n"
     ]
    },
    {
     "data": {
      "text/html": [
       "<table border='1'>\n",
       "<tr><th>d_uid</th><th>d_name</th><th>d_gender</th><th>d_acount</th><th>d_pamount</th><th>d_pcount</th><th>d_first_purchase</th></tr>\n",
       "<tr><td>9</td><td>최컴퓨터</td><td>남</td><td>1</td><td>2500000</td><td>1</td><td>2020-10-26 07:49:15</td></tr>\n",
       "<tr><td>7</td><td>임모바일</td><td>남</td><td>1</td><td>3500000</td><td>1</td><td>2020-10-26 07:45:55</td></tr>\n",
       "<tr><td>8</td><td>조노트북</td><td>여</td><td>1</td><td>0</td><td>0</td><td>null</td></tr>\n",
       "<tr><td>3</td><td>박트롬</td><td>여</td><td>3</td><td>1000000</td><td>1</td><td>2020-10-25 05:42:35</td></tr>\n",
       "<tr><td>4</td><td>청소기</td><td>남</td><td>5</td><td>0</td><td>0</td><td>null</td></tr>\n",
       "<tr><td>1</td><td>정휘센</td><td>남</td><td>3</td><td>5200000</td><td>3</td><td>2020-10-25 05:32:30</td></tr>\n",
       "<tr><td>2</td><td>김싸이언</td><td>남</td><td>5</td><td>1400000</td><td>1</td><td>2020-10-25 11:38:20</td></tr>\n",
       "<tr><td>5</td><td>유코드제로</td><td>여</td><td>3</td><td>7000000</td><td>3</td><td>2020-10-25 09:32:35</td></tr>\n",
       "<tr><td>6</td><td>윤디오스</td><td>남</td><td>1</td><td>4500000</td><td>1</td><td>2020-10-26 10:08:20</td></tr>\n",
       "</table>\n"
      ],
      "text/plain": [
       "+-----+----------+--------+--------+---------+--------+-------------------+\n",
       "|d_uid|    d_name|d_gender|d_acount|d_pamount|d_pcount|   d_first_purchase|\n",
       "+-----+----------+--------+--------+---------+--------+-------------------+\n",
       "|    9|  최컴퓨터|      남|       1|  2500000|       1|2020-10-26 07:49:15|\n",
       "|    7|  임모바일|      남|       1|  3500000|       1|2020-10-26 07:45:55|\n",
       "|    8|  조노트북|      여|       1|        0|       0|               null|\n",
       "|    3|    박트롬|      여|       3|  1000000|       1|2020-10-25 05:42:35|\n",
       "|    4|    청소기|      남|       5|        0|       0|               null|\n",
       "|    1|    정휘센|      남|       3|  5200000|       3|2020-10-25 05:32:30|\n",
       "|    2|  김싸이언|      남|       5|  1400000|       1|2020-10-25 11:38:20|\n",
       "|    5|유코드제로|      여|       3|  7000000|       3|2020-10-25 09:32:35|\n",
       "|    6|  윤디오스|      남|       1|  4500000|       1|2020-10-26 10:08:20|\n",
       "+-----+----------+--------+--------+---------+--------+-------------------+"
      ]
     },
     "metadata": {},
     "output_type": "display_data"
    }
   ],
   "source": [
    "newDimension = spark.read.parquet(target_dir)\n",
    "newDimension.printSchema()\n",
    "display(newDimension)"
   ]
  },
  {
   "cell_type": "code",
   "execution_count": null,
   "metadata": {},
   "outputs": [],
   "source": []
  }
 ],
 "metadata": {
  "kernelspec": {
   "display_name": "Python 3 (ipykernel)",
   "language": "python",
   "name": "python3"
  },
  "language_info": {
   "codemirror_mode": {
    "name": "ipython",
    "version": 3
   },
   "file_extension": ".py",
   "mimetype": "text/x-python",
   "name": "python",
   "nbconvert_exporter": "python",
   "pygments_lexer": "ipython3",
   "version": "3.9.6"
  }
 },
 "nbformat": 4,
 "nbformat_minor": 4
}
