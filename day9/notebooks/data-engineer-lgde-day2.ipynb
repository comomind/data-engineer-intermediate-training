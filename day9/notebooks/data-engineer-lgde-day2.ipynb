{
 "cells": [
  {
   "cell_type": "markdown",
   "metadata": {},
   "source": [
    "# 1. LGDE.com 일별 지표생성 실습 2일차\n",
    "\n",
    "#### 주피터 노트북 단축키 (Windows 환경)\n",
    "| 단축키 | 설명 | 기타 |\n",
    "| --- | --- | --- |\n",
    "| Alt+Enter | 현재 셀 실행 + 다음 셀 추가 | 초기 개발 시에 주로 사용 |\n",
    "| Shift+Enter | 현재 셀 실행 + 다음 셀 이동 | 전체 테스트 시에 주로 사용 |\n",
    "| Ctrl+Enter | 현재 셀 실행 + 이동 안함 | 하나씩 점검 혹은 디버깅 시에 사용 |\n",
    "| Ctrl+/ | 주석 적용 및 해제 | Shift 키로 여러 줄을 선택하고 주석 및 해제 사용 |\n",
    "| Ctrl+s | 전체 저장 | - |\n",
    "\n",
    "### 주피터 노트북 유의사항\n",
    "* 모든 셀은 Code, Markdown, Raw 3가지 유형이 존재하며, **파이썬 코드 실행**은 반드시 ***Code*** 모드에서 수행되어야 합니다\n",
    "* 현재 셀의 실행이 무한 루프에 빠지거나 너무 오래 걸리는 경우 상단 Menu 에서 ***Kernel - Interrupt Kernel*** 메뉴를 통해 현재 셀의 작업만 중지할 수 있습니다\n",
    "* 메모리 혹은 다양한 이슈로 인해 제대로 동작하지 않는 경우에는 상단 Menu 에서 ***Kernel - Restart Kernel..*** 메뉴를 통해 재시작할 수 있습니다\n"
   ]
  },
  {
   "cell_type": "code",
   "execution_count": 1,
   "metadata": {},
   "outputs": [
    {
     "data": {
      "text/html": [
       "\n",
       "            <div>\n",
       "                <p><b>SparkSession - in-memory</b></p>\n",
       "                \n",
       "        <div>\n",
       "            <p><b>SparkContext</b></p>\n",
       "\n",
       "            <p><a href=\"http://3839ba22d0a9:4040\">Spark UI</a></p>\n",
       "\n",
       "            <dl>\n",
       "              <dt>Version</dt>\n",
       "                <dd><code>v3.0.1</code></dd>\n",
       "              <dt>Master</dt>\n",
       "                <dd><code>local[*]</code></dd>\n",
       "              <dt>AppName</dt>\n",
       "                <dd><code>Data Engineer Training Course</code></dd>\n",
       "            </dl>\n",
       "        </div>\n",
       "        \n",
       "            </div>\n",
       "        "
      ],
      "text/plain": [
       "<pyspark.sql.session.SparkSession at 0x7f3fe0f675b0>"
      ]
     },
     "execution_count": 1,
     "metadata": {},
     "output_type": "execute_result"
    }
   ],
   "source": [
    "# 코어 스파크 라이브러리를 임포트 합니다\n",
    "from pyspark.sql import SparkSession\n",
    "from pyspark.sql.functions import *\n",
    "from pyspark.sql.types import *\n",
    "\n",
    "spark = (\n",
    "    SparkSession\n",
    "    .builder\n",
    "    .appName(\"Data Engineer Training Course\")\n",
    "    .config(\"spark.sql.session.timeZone\", \"Asia/Seoul\")\n",
    "    .getOrCreate()\n",
    ")\n",
    "\n",
    "# 노트북에서 테이블 형태로 데이터 프레임 출력을 위한 설정을 합니다\n",
    "from IPython.display import display, display_pretty, clear_output, JSON\n",
    "spark.conf.set(\"spark.sql.repl.eagerEval.enabled\", True) # display enabled\n",
    "spark.conf.set(\"spark.sql.repl.eagerEval.truncate\", 100) # display output columns size\n",
    "spark\n"
   ]
  },
  {
   "cell_type": "code",
   "execution_count": 2,
   "metadata": {},
   "outputs": [
    {
     "name": "stdout",
     "output_type": "stream",
     "text": [
      "root\n",
      " |-- u_id: integer (nullable = true)\n",
      " |-- u_name: string (nullable = true)\n",
      " |-- u_gender: string (nullable = true)\n",
      " |-- u_signup: integer (nullable = true)\n",
      "\n",
      "+----+----------+--------+--------+\n",
      "|u_id|u_name    |u_gender|u_signup|\n",
      "+----+----------+--------+--------+\n",
      "|1   |정휘센    |남      |20201025|\n",
      "|2   |김싸이언  |남      |20201025|\n",
      "|3   |박트롬    |여      |20201025|\n",
      "|4   |청소기    |남      |20201025|\n",
      "|5   |유코드제로|여      |20201025|\n",
      "|6   |윤디오스  |남      |20201026|\n",
      "|7   |임모바일  |남      |20201026|\n",
      "|8   |조노트북  |여      |20201026|\n",
      "|9   |최컴퓨터  |남      |20201026|\n",
      "+----+----------+--------+--------+\n",
      "\n"
     ]
    },
    {
     "data": {
      "text/html": [
       "<table border='1'>\n",
       "<tr><th>u_id</th><th>u_name</th><th>u_gender</th><th>u_signup</th></tr>\n",
       "<tr><td>1</td><td>정휘센</td><td>남</td><td>20201025</td></tr>\n",
       "<tr><td>2</td><td>김싸이언</td><td>남</td><td>20201025</td></tr>\n",
       "<tr><td>3</td><td>박트롬</td><td>여</td><td>20201025</td></tr>\n",
       "<tr><td>4</td><td>청소기</td><td>남</td><td>20201025</td></tr>\n",
       "<tr><td>5</td><td>유코드제로</td><td>여</td><td>20201025</td></tr>\n",
       "<tr><td>6</td><td>윤디오스</td><td>남</td><td>20201026</td></tr>\n",
       "<tr><td>7</td><td>임모바일</td><td>남</td><td>20201026</td></tr>\n",
       "<tr><td>8</td><td>조노트북</td><td>여</td><td>20201026</td></tr>\n",
       "<tr><td>9</td><td>최컴퓨터</td><td>남</td><td>20201026</td></tr>\n",
       "</table>\n"
      ],
      "text/plain": [
       "+----+----------+--------+--------+\n",
       "|u_id|    u_name|u_gender|u_signup|\n",
       "+----+----------+--------+--------+\n",
       "|   1|    정휘센|      남|20201025|\n",
       "|   2|  김싸이언|      남|20201025|\n",
       "|   3|    박트롬|      여|20201025|\n",
       "|   4|    청소기|      남|20201025|\n",
       "|   5|유코드제로|      여|20201025|\n",
       "|   6|  윤디오스|      남|20201026|\n",
       "|   7|  임모바일|      남|20201026|\n",
       "|   8|  조노트북|      여|20201026|\n",
       "|   9|  최컴퓨터|      남|20201026|\n",
       "+----+----------+--------+--------+"
      ]
     },
     "metadata": {},
     "output_type": "display_data"
    }
   ],
   "source": [
    "user26 = spark.read.parquet(\"user/20201026\")\n",
    "user26.printSchema()\n",
    "user26.show(truncate=False)\n",
    "display(user26)\n"
   ]
  },
  {
   "cell_type": "code",
   "execution_count": 5,
   "metadata": {},
   "outputs": [
    {
     "name": "stdout",
     "output_type": "stream",
     "text": [
      "root\n",
      " |-- p_time: string (nullable = true)\n",
      " |-- p_uid: integer (nullable = true)\n",
      " |-- p_id: integer (nullable = true)\n",
      " |-- p_name: string (nullable = true)\n",
      " |-- p_amount: integer (nullable = true)\n",
      "\n",
      "+----------+-----+----+-----------+--------+\n",
      "|p_time    |p_uid|p_id|p_name     |p_amount|\n",
      "+----------+-----+----+-----------+--------+\n",
      "|1603571550|1    |2000|LG DIOS    |2000000 |\n",
      "|1603614755|1    |2000|LG Gram    |1800000 |\n",
      "|1603593500|2    |2001|LG Cyon    |1400000 |\n",
      "|1603572155|3    |2002|LG TV      |1000000 |\n",
      "|1603585955|5    |2004|LG Gram    |3500000 |\n",
      "|1603586155|5    |2004|LG TV      |2500000 |\n",
      "|1603651550|1    |2001|LG Cyon    |1400000 |\n",
      "|1603652155|5    |2002|LG TV      |1000000 |\n",
      "|1603674500|6    |2003|LG Computer|4500000 |\n",
      "|1603665955|7    |2004|LG Gram    |3500000 |\n",
      "|1603666155|9    |2004|LG TV      |2500000 |\n",
      "+----------+-----+----+-----------+--------+\n",
      "\n"
     ]
    },
    {
     "data": {
      "text/html": [
       "<table border='1'>\n",
       "<tr><th>p_time</th><th>p_uid</th><th>p_id</th><th>p_name</th><th>p_amount</th></tr>\n",
       "<tr><td>1603571550</td><td>1</td><td>2000</td><td>LG DIOS</td><td>2000000</td></tr>\n",
       "<tr><td>1603614755</td><td>1</td><td>2000</td><td>LG Gram</td><td>1800000</td></tr>\n",
       "<tr><td>1603593500</td><td>2</td><td>2001</td><td>LG Cyon</td><td>1400000</td></tr>\n",
       "<tr><td>1603572155</td><td>3</td><td>2002</td><td>LG TV</td><td>1000000</td></tr>\n",
       "<tr><td>1603585955</td><td>5</td><td>2004</td><td>LG Gram</td><td>3500000</td></tr>\n",
       "<tr><td>1603586155</td><td>5</td><td>2004</td><td>LG TV</td><td>2500000</td></tr>\n",
       "<tr><td>1603651550</td><td>1</td><td>2001</td><td>LG Cyon</td><td>1400000</td></tr>\n",
       "<tr><td>1603652155</td><td>5</td><td>2002</td><td>LG TV</td><td>1000000</td></tr>\n",
       "<tr><td>1603674500</td><td>6</td><td>2003</td><td>LG Computer</td><td>4500000</td></tr>\n",
       "<tr><td>1603665955</td><td>7</td><td>2004</td><td>LG Gram</td><td>3500000</td></tr>\n",
       "<tr><td>1603666155</td><td>9</td><td>2004</td><td>LG TV</td><td>2500000</td></tr>\n",
       "</table>\n"
      ],
      "text/plain": [
       "+----------+-----+----+-----------+--------+\n",
       "|    p_time|p_uid|p_id|     p_name|p_amount|\n",
       "+----------+-----+----+-----------+--------+\n",
       "|1603571550|    1|2000|    LG DIOS| 2000000|\n",
       "|1603614755|    1|2000|    LG Gram| 1800000|\n",
       "|1603593500|    2|2001|    LG Cyon| 1400000|\n",
       "|1603572155|    3|2002|      LG TV| 1000000|\n",
       "|1603585955|    5|2004|    LG Gram| 3500000|\n",
       "|1603586155|    5|2004|      LG TV| 2500000|\n",
       "|1603651550|    1|2001|    LG Cyon| 1400000|\n",
       "|1603652155|    5|2002|      LG TV| 1000000|\n",
       "|1603674500|    6|2003|LG Computer| 4500000|\n",
       "|1603665955|    7|2004|    LG Gram| 3500000|\n",
       "|1603666155|    9|2004|      LG TV| 2500000|\n",
       "+----------+-----+----+-----------+--------+"
      ]
     },
     "metadata": {},
     "output_type": "display_data"
    }
   ],
   "source": [
    "purchase26 = spark.read.parquet(\"purchase/20201026\")\n",
    "purchase26.printSchema()\n",
    "purchase26.show(truncate=False)\n",
    "display(purchase26)\n"
   ]
  },
  {
   "cell_type": "code",
   "execution_count": 6,
   "metadata": {},
   "outputs": [
    {
     "name": "stdout",
     "output_type": "stream",
     "text": [
      "root\n",
      " |-- a_id: string (nullable = true)\n",
      " |-- a_tag: string (nullable = true)\n",
      " |-- a_time: long (nullable = true)\n",
      " |-- a_timestamp: string (nullable = true)\n",
      " |-- a_uid: long (nullable = true)\n",
      "\n",
      "+------+------+----------+-----------------------+-----+\n",
      "|a_id  |a_tag |a_time    |a_timestamp            |a_uid|\n",
      "+------+------+----------+-----------------------+-----+\n",
      "|logout|access|1603647200|2020-10-26 02:33:20.000|1    |\n",
      "|logout|access|1603650200|2020-10-26 03:23:20.000|2    |\n",
      "|logout|access|1603659200|2020-10-26 05:53:20.000|3    |\n",
      "|logout|access|1603664200|2020-10-26 07:16:40.000|4    |\n",
      "|logout|access|1603669500|2020-10-26 08:45:00.000|5    |\n",
      "|login |access|1603645200|2020-10-26 02:00:00.000|1    |\n",
      "|login |access|1603649200|2020-10-26 03:06:40.000|2    |\n",
      "|login |access|1603653200|2020-10-26 04:13:20.000|2    |\n",
      "|login |access|1603657200|2020-10-26 05:20:00.000|3    |\n",
      "|login |access|1603660200|2020-10-26 06:10:00.000|4    |\n",
      "|login |access|1603664500|2020-10-26 07:21:40.000|4    |\n",
      "|login |access|1603666500|2020-10-26 07:55:00.000|5    |\n",
      "|login |access|1603670500|2020-10-26 09:01:40.000|6    |\n",
      "|login |access|1603673500|2020-10-26 09:51:40.000|7    |\n",
      "|login |access|1603674500|2020-10-26 10:08:20.000|8    |\n",
      "|login |access|1603675500|2020-10-26 10:25:00.000|9    |\n",
      "+------+------+----------+-----------------------+-----+\n",
      "\n"
     ]
    },
    {
     "data": {
      "text/html": [
       "<table border='1'>\n",
       "<tr><th>a_id</th><th>a_tag</th><th>a_time</th><th>a_timestamp</th><th>a_uid</th></tr>\n",
       "<tr><td>logout</td><td>access</td><td>1603647200</td><td>2020-10-26 02:33:20.000</td><td>1</td></tr>\n",
       "<tr><td>logout</td><td>access</td><td>1603650200</td><td>2020-10-26 03:23:20.000</td><td>2</td></tr>\n",
       "<tr><td>logout</td><td>access</td><td>1603659200</td><td>2020-10-26 05:53:20.000</td><td>3</td></tr>\n",
       "<tr><td>logout</td><td>access</td><td>1603664200</td><td>2020-10-26 07:16:40.000</td><td>4</td></tr>\n",
       "<tr><td>logout</td><td>access</td><td>1603669500</td><td>2020-10-26 08:45:00.000</td><td>5</td></tr>\n",
       "<tr><td>login</td><td>access</td><td>1603645200</td><td>2020-10-26 02:00:00.000</td><td>1</td></tr>\n",
       "<tr><td>login</td><td>access</td><td>1603649200</td><td>2020-10-26 03:06:40.000</td><td>2</td></tr>\n",
       "<tr><td>login</td><td>access</td><td>1603653200</td><td>2020-10-26 04:13:20.000</td><td>2</td></tr>\n",
       "<tr><td>login</td><td>access</td><td>1603657200</td><td>2020-10-26 05:20:00.000</td><td>3</td></tr>\n",
       "<tr><td>login</td><td>access</td><td>1603660200</td><td>2020-10-26 06:10:00.000</td><td>4</td></tr>\n",
       "<tr><td>login</td><td>access</td><td>1603664500</td><td>2020-10-26 07:21:40.000</td><td>4</td></tr>\n",
       "<tr><td>login</td><td>access</td><td>1603666500</td><td>2020-10-26 07:55:00.000</td><td>5</td></tr>\n",
       "<tr><td>login</td><td>access</td><td>1603670500</td><td>2020-10-26 09:01:40.000</td><td>6</td></tr>\n",
       "<tr><td>login</td><td>access</td><td>1603673500</td><td>2020-10-26 09:51:40.000</td><td>7</td></tr>\n",
       "<tr><td>login</td><td>access</td><td>1603674500</td><td>2020-10-26 10:08:20.000</td><td>8</td></tr>\n",
       "<tr><td>login</td><td>access</td><td>1603675500</td><td>2020-10-26 10:25:00.000</td><td>9</td></tr>\n",
       "</table>\n"
      ],
      "text/plain": [
       "+------+------+----------+-----------------------+-----+\n",
       "|  a_id| a_tag|    a_time|            a_timestamp|a_uid|\n",
       "+------+------+----------+-----------------------+-----+\n",
       "|logout|access|1603647200|2020-10-26 02:33:20.000|    1|\n",
       "|logout|access|1603650200|2020-10-26 03:23:20.000|    2|\n",
       "|logout|access|1603659200|2020-10-26 05:53:20.000|    3|\n",
       "|logout|access|1603664200|2020-10-26 07:16:40.000|    4|\n",
       "|logout|access|1603669500|2020-10-26 08:45:00.000|    5|\n",
       "| login|access|1603645200|2020-10-26 02:00:00.000|    1|\n",
       "| login|access|1603649200|2020-10-26 03:06:40.000|    2|\n",
       "| login|access|1603653200|2020-10-26 04:13:20.000|    2|\n",
       "| login|access|1603657200|2020-10-26 05:20:00.000|    3|\n",
       "| login|access|1603660200|2020-10-26 06:10:00.000|    4|\n",
       "| login|access|1603664500|2020-10-26 07:21:40.000|    4|\n",
       "| login|access|1603666500|2020-10-26 07:55:00.000|    5|\n",
       "| login|access|1603670500|2020-10-26 09:01:40.000|    6|\n",
       "| login|access|1603673500|2020-10-26 09:51:40.000|    7|\n",
       "| login|access|1603674500|2020-10-26 10:08:20.000|    8|\n",
       "| login|access|1603675500|2020-10-26 10:25:00.000|    9|\n",
       "+------+------+----------+-----------------------+-----+"
      ]
     },
     "metadata": {},
     "output_type": "display_data"
    }
   ],
   "source": [
    "access26 = spark.read.option(\"inferSchema\", \"true\").json(\"access/20201026\")\n",
    "access26.printSchema()\n",
    "access26.show(truncate=False)\n",
    "display(access26)\n"
   ]
  },
  {
   "cell_type": "code",
   "execution_count": 8,
   "metadata": {},
   "outputs": [
    {
     "data": {
      "text/html": [
       "<table border='1'>\n",
       "<tr><th>database</th><th>tableName</th><th>isTemporary</th></tr>\n",
       "<tr><td></td><td>access26</td><td>true</td></tr>\n",
       "<tr><td></td><td>purchase26</td><td>true</td></tr>\n",
       "<tr><td></td><td>user26</td><td>true</td></tr>\n",
       "</table>\n"
      ],
      "text/plain": [
       "+--------+----------+-----------+\n",
       "|database| tableName|isTemporary|\n",
       "+--------+----------+-----------+\n",
       "|        |  access26|       true|\n",
       "|        |purchase26|       true|\n",
       "|        |    user26|       true|\n",
       "+--------+----------+-----------+"
      ]
     },
     "execution_count": 8,
     "metadata": {},
     "output_type": "execute_result"
    }
   ],
   "source": [
    "user26.createOrReplaceTempView(\"user26\")\n",
    "purchase26.createOrReplaceTempView(\"purchase26\")\n",
    "access26.createOrReplaceTempView(\"access26\")\n",
    "spark.sql(\"show tables '*26'\")\n"
   ]
  },
  {
   "cell_type": "code",
   "execution_count": 9,
   "metadata": {},
   "outputs": [
    {
     "data": {
      "text/html": [
       "<table border='1'>\n",
       "<tr><th>database</th><th>tableName</th><th>isTemporary</th></tr>\n",
       "<tr><td></td><td>access</td><td>true</td></tr>\n",
       "<tr><td></td><td>access26</td><td>true</td></tr>\n",
       "<tr><td></td><td>purchase</td><td>true</td></tr>\n",
       "<tr><td></td><td>purchase26</td><td>true</td></tr>\n",
       "<tr><td></td><td>user</td><td>true</td></tr>\n",
       "<tr><td></td><td>user26</td><td>true</td></tr>\n",
       "</table>\n"
      ],
      "text/plain": [
       "+--------+----------+-----------+\n",
       "|database| tableName|isTemporary|\n",
       "+--------+----------+-----------+\n",
       "|        |    access|       true|\n",
       "|        |  access26|       true|\n",
       "|        |  purchase|       true|\n",
       "|        |purchase26|       true|\n",
       "|        |      user|       true|\n",
       "|        |    user26|       true|\n",
       "+--------+----------+-----------+"
      ]
     },
     "execution_count": 9,
     "metadata": {},
     "output_type": "execute_result"
    }
   ],
   "source": [
    "u_signup_condition = \"u_signup >= '20201026' and u_signup < '20201027'\"\n",
    "user = spark.sql(\"select u_id, u_name, u_gender from user26\").where(u_signup_condition)\n",
    "user.createOrReplaceTempView(\"user\")\n",
    "\n",
    "p_time_condition = \"p_time >= '2020-10-26 00:00:00' and p_time < '2020-10-27 00:00:00'\"\n",
    "purchase = spark.sql(\"select from_unixtime(p_time) as p_time, p_uid, p_id, p_name, p_amount from purchase26\").where(p_time_condition)\n",
    "purchase.createOrReplaceTempView(\"purchase\")\n",
    "\n",
    "access = spark.sql(\"select a_id, a_tag, a_timestamp, a_uid from access26\")\n",
    "access.createOrReplaceTempView(\"access\")\n",
    "\n",
    "spark.sql(\"show tables\")"
   ]
  },
  {
   "cell_type": "code",
   "execution_count": 12,
   "metadata": {},
   "outputs": [
    {
     "data": {
      "text/html": [
       "<table border='1'>\n",
       "<tr><th>u_gender</th><th>count(1)</th></tr>\n",
       "<tr><td>여</td><td>1</td></tr>\n",
       "<tr><td>남</td><td>3</td></tr>\n",
       "</table>\n"
      ],
      "text/plain": [
       "+--------+--------+\n",
       "|u_gender|count(1)|\n",
       "+--------+--------+\n",
       "|      여|       1|\n",
       "|      남|       3|\n",
       "+--------+--------+"
      ]
     },
     "execution_count": 12,
     "metadata": {},
     "output_type": "execute_result"
    }
   ],
   "source": [
    "spark.sql(\"describe user\")\n",
    "groupByCount = \"select u_gender, count(1) from user group by u_gender\"\n",
    "spark.sql(groupByCount)"
   ]
  },
  {
   "cell_type": "code",
   "execution_count": 15,
   "metadata": {},
   "outputs": [
    {
     "data": {
      "text/html": [
       "<table border='1'>\n",
       "<tr><th>min(p_amount)</th><th>max(p_amount)</th></tr>\n",
       "<tr><td>1000000</td><td>4500000</td></tr>\n",
       "</table>\n"
      ],
      "text/plain": [
       "+-------------+-------------+\n",
       "|min(p_amount)|max(p_amount)|\n",
       "+-------------+-------------+\n",
       "|      1000000|      4500000|\n",
       "+-------------+-------------+"
      ]
     },
     "execution_count": 15,
     "metadata": {},
     "output_type": "execute_result"
    }
   ],
   "source": [
    "spark.sql(\"describe purchase\")\n",
    "selectClause = \"select min(p_amount), max(p_amount) from purchase\"\n",
    "spark.sql(selectClause)"
   ]
  },
  {
   "cell_type": "code",
   "execution_count": 22,
   "metadata": {},
   "outputs": [
    {
     "data": {
      "text/html": [
       "<table border='1'>\n",
       "<tr><th>a_uid</th><th>a_count</th></tr>\n",
       "<tr><td>2</td><td>2</td></tr>\n",
       "<tr><td>4</td><td>2</td></tr>\n",
       "<tr><td>6</td><td>1</td></tr>\n",
       "<tr><td>9</td><td>1</td></tr>\n",
       "<tr><td>5</td><td>1</td></tr>\n",
       "<tr><td>1</td><td>1</td></tr>\n",
       "<tr><td>7</td><td>1</td></tr>\n",
       "<tr><td>3</td><td>1</td></tr>\n",
       "<tr><td>8</td><td>1</td></tr>\n",
       "</table>\n"
      ],
      "text/plain": [
       "+-----+-------+\n",
       "|a_uid|a_count|\n",
       "+-----+-------+\n",
       "|    2|      2|\n",
       "|    4|      2|\n",
       "|    9|      1|\n",
       "|    6|      1|\n",
       "|    7|      1|\n",
       "|    1|      1|\n",
       "|    8|      1|\n",
       "|    5|      1|\n",
       "|    3|      1|\n",
       "+-----+-------+"
      ]
     },
     "execution_count": 22,
     "metadata": {},
     "output_type": "execute_result"
    }
   ],
   "source": [
    "spark.sql(\"describe access\")\n",
    "countTop=\"select a_uid, count(1) as a_count from access where a_id = 'login' group by a_uid order by a_count desc\"\n",
    "spark.sql(countTop)"
   ]
  },
  {
   "cell_type": "code",
   "execution_count": 23,
   "metadata": {},
   "outputs": [
    {
     "data": {
      "text/html": [
       "<table border='1'>\n",
       "<tr><th>a_id</th><th>a_tag</th><th>a_timestamp</th><th>a_uid</th></tr>\n",
       "<tr><td>logout</td><td>access</td><td>2020-10-26 02:33:20.000</td><td>1</td></tr>\n",
       "<tr><td>logout</td><td>access</td><td>2020-10-26 03:23:20.000</td><td>2</td></tr>\n",
       "<tr><td>logout</td><td>access</td><td>2020-10-26 05:53:20.000</td><td>3</td></tr>\n",
       "<tr><td>logout</td><td>access</td><td>2020-10-26 07:16:40.000</td><td>4</td></tr>\n",
       "<tr><td>logout</td><td>access</td><td>2020-10-26 08:45:00.000</td><td>5</td></tr>\n",
       "<tr><td>login</td><td>access</td><td>2020-10-26 02:00:00.000</td><td>1</td></tr>\n",
       "<tr><td>login</td><td>access</td><td>2020-10-26 03:06:40.000</td><td>2</td></tr>\n",
       "<tr><td>login</td><td>access</td><td>2020-10-26 04:13:20.000</td><td>2</td></tr>\n",
       "<tr><td>login</td><td>access</td><td>2020-10-26 05:20:00.000</td><td>3</td></tr>\n",
       "<tr><td>login</td><td>access</td><td>2020-10-26 06:10:00.000</td><td>4</td></tr>\n",
       "<tr><td>login</td><td>access</td><td>2020-10-26 07:21:40.000</td><td>4</td></tr>\n",
       "<tr><td>login</td><td>access</td><td>2020-10-26 07:55:00.000</td><td>5</td></tr>\n",
       "<tr><td>login</td><td>access</td><td>2020-10-26 09:01:40.000</td><td>6</td></tr>\n",
       "<tr><td>login</td><td>access</td><td>2020-10-26 09:51:40.000</td><td>7</td></tr>\n",
       "<tr><td>login</td><td>access</td><td>2020-10-26 10:08:20.000</td><td>8</td></tr>\n",
       "<tr><td>login</td><td>access</td><td>2020-10-26 10:25:00.000</td><td>9</td></tr>\n",
       "</table>\n"
      ],
      "text/plain": [
       "+------+------+-----------------------+-----+\n",
       "|  a_id| a_tag|            a_timestamp|a_uid|\n",
       "+------+------+-----------------------+-----+\n",
       "|logout|access|2020-10-26 02:33:20.000|    1|\n",
       "|logout|access|2020-10-26 03:23:20.000|    2|\n",
       "|logout|access|2020-10-26 05:53:20.000|    3|\n",
       "|logout|access|2020-10-26 07:16:40.000|    4|\n",
       "|logout|access|2020-10-26 08:45:00.000|    5|\n",
       "| login|access|2020-10-26 02:00:00.000|    1|\n",
       "| login|access|2020-10-26 03:06:40.000|    2|\n",
       "| login|access|2020-10-26 04:13:20.000|    2|\n",
       "| login|access|2020-10-26 05:20:00.000|    3|\n",
       "| login|access|2020-10-26 06:10:00.000|    4|\n",
       "| login|access|2020-10-26 07:21:40.000|    4|\n",
       "| login|access|2020-10-26 07:55:00.000|    5|\n",
       "| login|access|2020-10-26 09:01:40.000|    6|\n",
       "| login|access|2020-10-26 09:51:40.000|    7|\n",
       "| login|access|2020-10-26 10:08:20.000|    8|\n",
       "| login|access|2020-10-26 10:25:00.000|    9|\n",
       "+------+------+-----------------------+-----+"
      ]
     },
     "metadata": {},
     "output_type": "display_data"
    },
    {
     "data": {
      "text/html": [
       "<table border='1'>\n",
       "<tr><th>DAU</th></tr>\n",
       "<tr><td>9</td></tr>\n",
       "</table>\n"
      ],
      "text/plain": [
       "+---+\n",
       "|DAU|\n",
       "+---+\n",
       "|  9|\n",
       "+---+"
      ]
     },
     "metadata": {},
     "output_type": "display_data"
    }
   ],
   "source": [
    "display(access)\n",
    "distinctAccessUser = \"select count(distinct a_uid) as DAU from access\"\n",
    "dau = spark.sql(distinctAccessUser)\n",
    "display(dau)"
   ]
  },
  {
   "cell_type": "code",
   "execution_count": null,
   "metadata": {},
   "outputs": [],
   "source": []
  }
 ],
 "metadata": {
  "kernelspec": {
   "display_name": "Python 3",
   "language": "python",
   "name": "python3"
  },
  "language_info": {
   "codemirror_mode": {
    "name": "ipython",
    "version": 3
   },
   "file_extension": ".py",
   "mimetype": "text/x-python",
   "name": "python",
   "nbconvert_exporter": "python",
   "pygments_lexer": "ipython3",
   "version": "3.8.6"
  }
 },
 "nbformat": 4,
 "nbformat_minor": 4
}
