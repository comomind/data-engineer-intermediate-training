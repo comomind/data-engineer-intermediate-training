{
 "cells": [
  {
   "cell_type": "markdown",
   "metadata": {},
   "source": [
    "# 1. LGDE.com 일별 지표생성 실습 2일차 (정답)\n",
    "\n",
    "#### 주피터 노트북 단축키 (Windows 환경)\n",
    "| 단축키 | 설명 | 기타 |\n",
    "| --- | --- | --- |\n",
    "| Alt+Enter | 현재 셀 실행 + 다음 셀 추가 | 초기 개발 시에 주로 사용 |\n",
    "| Shift+Enter | 현재 셀 실행 + 다음 셀 이동 | 전체 테스트 시에 주로 사용 |\n",
    "| Ctrl+Enter | 현재 셀 실행 + 이동 안함 | 하나씩 점검 혹은 디버깅 시에 사용 |\n",
    "| Ctrl+/ | 주석 적용 및 해제 | Shift 키로 여러 줄을 선택하고 주석 및 해제 사용 |\n",
    "| Ctrl+s | 전체 저장 | - |\n",
    "\n",
    "### 주피터 노트북 유의사항\n",
    "* 모든 셀은 Code, Markdown, Raw 3가지 유형이 존재하며, **파이썬 코드 실행**은 반드시 ***Code*** 모드에서 수행되어야 합니다\n",
    "* 현재 셀의 실행이 무한 루프에 빠지거나 너무 오래 걸리는 경우 상단 Menu 에서 ***Kernel - Interrupt Kernel*** 메뉴를 통해 현재 셀의 작업만 중지할 수 있습니다\n",
    "* 메모리 혹은 다양한 이슈로 인해 제대로 동작하지 않는 경우에는 상단 Menu 에서 ***Kernel - Restart Kernel..*** 메뉴를 통해 재시작할 수 있습니다\n"
   ]
  },
  {
   "cell_type": "markdown",
   "metadata": {},
   "source": [
    "## 5. 수집된 데이터 탐색\n",
    "### 5-1. 스파크 세션 생성"
   ]
  },
  {
   "cell_type": "code",
   "execution_count": 1,
   "metadata": {},
   "outputs": [
    {
     "name": "stderr",
     "output_type": "stream",
     "text": [
      "21/09/10 04:46:08 WARN NativeCodeLoader: Unable to load native-hadoop library for your platform... using builtin-java classes where applicable\n",
      "Using Spark's default log4j profile: org/apache/spark/log4j-defaults.properties\n",
      "Setting default log level to \"WARN\".\n",
      "To adjust logging level use sc.setLogLevel(newLevel). For SparkR, use setLogLevel(newLevel).\n"
     ]
    },
    {
     "data": {
      "text/html": [
       "\n",
       "            <div>\n",
       "                <p><b>SparkSession - in-memory</b></p>\n",
       "                \n",
       "        <div>\n",
       "            <p><b>SparkContext</b></p>\n",
       "\n",
       "            <p><a href=\"http://cf1a1956247d:4040\">Spark UI</a></p>\n",
       "\n",
       "            <dl>\n",
       "              <dt>Version</dt>\n",
       "                <dd><code>v3.1.2</code></dd>\n",
       "              <dt>Master</dt>\n",
       "                <dd><code>local[*]</code></dd>\n",
       "              <dt>AppName</dt>\n",
       "                <dd><code>Data Engineer Training Course</code></dd>\n",
       "            </dl>\n",
       "        </div>\n",
       "        \n",
       "            </div>\n",
       "        "
      ],
      "text/plain": [
       "<pyspark.sql.session.SparkSession at 0x7fd58a8fcc70>"
      ]
     },
     "execution_count": 1,
     "metadata": {},
     "output_type": "execute_result"
    }
   ],
   "source": [
    "# 코어 스파크 라이브러리를 임포트 합니다\n",
    "from pyspark.sql import SparkSession\n",
    "from pyspark.sql.functions import *\n",
    "from pyspark.sql.types import *\n",
    "\n",
    "spark = (\n",
    "    SparkSession\n",
    "    .builder\n",
    "    .appName(\"Data Engineer Training Course\")\n",
    "    .config(\"spark.sql.session.timeZone\", \"Asia/Seoul\")\n",
    "    .getOrCreate()\n",
    ")\n",
    "\n",
    "# 노트북에서 테이블 형태로 데이터 프레임 출력을 위한 설정을 합니다\n",
    "from IPython.display import display, display_pretty, clear_output, JSON\n",
    "spark.conf.set(\"spark.sql.repl.eagerEval.enabled\", True) # display enabled\n",
    "spark.conf.set(\"spark.sql.repl.eagerEval.truncate\", 100) # display output columns size\n",
    "spark\n"
   ]
  },
  {
   "cell_type": "code",
   "execution_count": 2,
   "metadata": {},
   "outputs": [
    {
     "name": "stdout",
     "output_type": "stream",
     "text": [
      "root\n",
      " |-- u_id: integer (nullable = true)\n",
      " |-- u_name: string (nullable = true)\n",
      " |-- u_gender: string (nullable = true)\n",
      " |-- u_signup: integer (nullable = true)\n",
      "\n"
     ]
    },
    {
     "data": {
      "text/html": [
       "<table border='1'>\n",
       "<tr><th>u_id</th><th>u_name</th><th>u_gender</th><th>u_signup</th></tr>\n",
       "<tr><td>1</td><td>정휘센</td><td>남</td><td>20201025</td></tr>\n",
       "<tr><td>2</td><td>김싸이언</td><td>남</td><td>20201025</td></tr>\n",
       "<tr><td>3</td><td>박트롬</td><td>여</td><td>20201025</td></tr>\n",
       "<tr><td>4</td><td>청소기</td><td>남</td><td>20201025</td></tr>\n",
       "<tr><td>5</td><td>유코드제로</td><td>여</td><td>20201025</td></tr>\n",
       "<tr><td>6</td><td>윤디오스</td><td>남</td><td>20201026</td></tr>\n",
       "<tr><td>7</td><td>임모바일</td><td>남</td><td>20201026</td></tr>\n",
       "<tr><td>8</td><td>조노트북</td><td>여</td><td>20201026</td></tr>\n",
       "<tr><td>9</td><td>최컴퓨터</td><td>남</td><td>20201026</td></tr>\n",
       "</table>\n"
      ],
      "text/plain": [
       "+----+----------+--------+--------+\n",
       "|u_id|    u_name|u_gender|u_signup|\n",
       "+----+----------+--------+--------+\n",
       "|   1|    정휘센|      남|20201025|\n",
       "|   2|  김싸이언|      남|20201025|\n",
       "|   3|    박트롬|      여|20201025|\n",
       "|   4|    청소기|      남|20201025|\n",
       "|   5|유코드제로|      여|20201025|\n",
       "|   6|  윤디오스|      남|20201026|\n",
       "|   7|  임모바일|      남|20201026|\n",
       "|   8|  조노트북|      여|20201026|\n",
       "|   9|  최컴퓨터|      남|20201026|\n",
       "+----+----------+--------+--------+"
      ]
     },
     "metadata": {},
     "output_type": "display_data"
    }
   ],
   "source": [
    "user26 = spark.read.parquet(\"user/20201026\")\n",
    "user26.printSchema()\n",
    "display(user26)"
   ]
  },
  {
   "cell_type": "code",
   "execution_count": 3,
   "metadata": {},
   "outputs": [
    {
     "name": "stdout",
     "output_type": "stream",
     "text": [
      "root\n",
      " |-- p_time: string (nullable = true)\n",
      " |-- p_uid: integer (nullable = true)\n",
      " |-- p_id: integer (nullable = true)\n",
      " |-- p_name: string (nullable = true)\n",
      " |-- p_amount: integer (nullable = true)\n",
      "\n"
     ]
    },
    {
     "data": {
      "text/html": [
       "<table border='1'>\n",
       "<tr><th>p_time</th><th>p_uid</th><th>p_id</th><th>p_name</th><th>p_amount</th></tr>\n",
       "<tr><td>1603571550</td><td>1</td><td>2000</td><td>LG DIOS</td><td>2000000</td></tr>\n",
       "<tr><td>1603614755</td><td>1</td><td>2000</td><td>LG Gram</td><td>1800000</td></tr>\n",
       "<tr><td>1603593500</td><td>2</td><td>2001</td><td>LG Cyon</td><td>1400000</td></tr>\n",
       "<tr><td>1603572155</td><td>3</td><td>2002</td><td>LG TV</td><td>1000000</td></tr>\n",
       "<tr><td>1603585955</td><td>5</td><td>2004</td><td>LG Gram</td><td>3500000</td></tr>\n",
       "<tr><td>1603586155</td><td>5</td><td>2004</td><td>LG TV</td><td>2500000</td></tr>\n",
       "<tr><td>1603651550</td><td>1</td><td>2001</td><td>LG Cyon</td><td>1400000</td></tr>\n",
       "<tr><td>1603652155</td><td>5</td><td>2002</td><td>LG TV</td><td>1000000</td></tr>\n",
       "<tr><td>1603674500</td><td>6</td><td>2003</td><td>LG Computer</td><td>4500000</td></tr>\n",
       "<tr><td>1603665955</td><td>7</td><td>2004</td><td>LG Gram</td><td>3500000</td></tr>\n",
       "<tr><td>1603666155</td><td>9</td><td>2004</td><td>LG TV</td><td>2500000</td></tr>\n",
       "</table>\n"
      ],
      "text/plain": [
       "+----------+-----+----+-----------+--------+\n",
       "|    p_time|p_uid|p_id|     p_name|p_amount|\n",
       "+----------+-----+----+-----------+--------+\n",
       "|1603571550|    1|2000|    LG DIOS| 2000000|\n",
       "|1603614755|    1|2000|    LG Gram| 1800000|\n",
       "|1603593500|    2|2001|    LG Cyon| 1400000|\n",
       "|1603572155|    3|2002|      LG TV| 1000000|\n",
       "|1603585955|    5|2004|    LG Gram| 3500000|\n",
       "|1603586155|    5|2004|      LG TV| 2500000|\n",
       "|1603651550|    1|2001|    LG Cyon| 1400000|\n",
       "|1603652155|    5|2002|      LG TV| 1000000|\n",
       "|1603674500|    6|2003|LG Computer| 4500000|\n",
       "|1603665955|    7|2004|    LG Gram| 3500000|\n",
       "|1603666155|    9|2004|      LG TV| 2500000|\n",
       "+----------+-----+----+-----------+--------+"
      ]
     },
     "metadata": {},
     "output_type": "display_data"
    }
   ],
   "source": [
    "purchase26 = spark.read.parquet(\"purchase/20201026\")\n",
    "purchase26.printSchema()\n",
    "display(purchase26)"
   ]
  },
  {
   "cell_type": "code",
   "execution_count": 4,
   "metadata": {},
   "outputs": [
    {
     "name": "stdout",
     "output_type": "stream",
     "text": [
      "root\n",
      " |-- a_id: string (nullable = true)\n",
      " |-- a_tag: string (nullable = true)\n",
      " |-- a_time: long (nullable = true)\n",
      " |-- a_timestamp: string (nullable = true)\n",
      " |-- a_uid: long (nullable = true)\n",
      "\n"
     ]
    },
    {
     "data": {
      "text/html": [
       "<table border='1'>\n",
       "<tr><th>a_id</th><th>a_tag</th><th>a_time</th><th>a_timestamp</th><th>a_uid</th></tr>\n",
       "<tr><td>logout</td><td>access</td><td>1603664200</td><td>2020-10-26 07:16:40.000</td><td>4</td></tr>\n",
       "<tr><td>logout</td><td>access</td><td>1603647200</td><td>2020-10-26 02:33:20.000</td><td>1</td></tr>\n",
       "<tr><td>logout</td><td>access</td><td>1603659200</td><td>2020-10-26 05:53:20.000</td><td>3</td></tr>\n",
       "<tr><td>logout</td><td>access</td><td>1603669500</td><td>2020-10-26 08:45:00.000</td><td>5</td></tr>\n",
       "<tr><td>logout</td><td>access</td><td>1603650200</td><td>2020-10-26 03:23:20.000</td><td>2</td></tr>\n",
       "<tr><td>login</td><td>access</td><td>1603653200</td><td>2020-10-26 04:13:20.000</td><td>2</td></tr>\n",
       "<tr><td>login</td><td>access</td><td>1603674500</td><td>2020-10-26 10:08:20.000</td><td>8</td></tr>\n",
       "<tr><td>login</td><td>access</td><td>1603666500</td><td>2020-10-26 07:55:00.000</td><td>5</td></tr>\n",
       "<tr><td>login</td><td>access</td><td>1603675500</td><td>2020-10-26 10:25:00.000</td><td>9</td></tr>\n",
       "<tr><td>login</td><td>access</td><td>1603649200</td><td>2020-10-26 03:06:40.000</td><td>2</td></tr>\n",
       "<tr><td>login</td><td>access</td><td>1603660200</td><td>2020-10-26 06:10:00.000</td><td>4</td></tr>\n",
       "<tr><td>login</td><td>access</td><td>1603673500</td><td>2020-10-26 09:51:40.000</td><td>7</td></tr>\n",
       "<tr><td>login</td><td>access</td><td>1603670500</td><td>2020-10-26 09:01:40.000</td><td>6</td></tr>\n",
       "<tr><td>login</td><td>access</td><td>1603645200</td><td>2020-10-26 02:00:00.000</td><td>1</td></tr>\n",
       "<tr><td>login</td><td>access</td><td>1603657200</td><td>2020-10-26 05:20:00.000</td><td>3</td></tr>\n",
       "<tr><td>login</td><td>access</td><td>1603664500</td><td>2020-10-26 07:21:40.000</td><td>4</td></tr>\n",
       "</table>\n"
      ],
      "text/plain": [
       "+------+------+----------+-----------------------+-----+\n",
       "|  a_id| a_tag|    a_time|            a_timestamp|a_uid|\n",
       "+------+------+----------+-----------------------+-----+\n",
       "|logout|access|1603664200|2020-10-26 07:16:40.000|    4|\n",
       "|logout|access|1603647200|2020-10-26 02:33:20.000|    1|\n",
       "|logout|access|1603659200|2020-10-26 05:53:20.000|    3|\n",
       "|logout|access|1603669500|2020-10-26 08:45:00.000|    5|\n",
       "|logout|access|1603650200|2020-10-26 03:23:20.000|    2|\n",
       "| login|access|1603653200|2020-10-26 04:13:20.000|    2|\n",
       "| login|access|1603674500|2020-10-26 10:08:20.000|    8|\n",
       "| login|access|1603666500|2020-10-26 07:55:00.000|    5|\n",
       "| login|access|1603675500|2020-10-26 10:25:00.000|    9|\n",
       "| login|access|1603649200|2020-10-26 03:06:40.000|    2|\n",
       "| login|access|1603660200|2020-10-26 06:10:00.000|    4|\n",
       "| login|access|1603673500|2020-10-26 09:51:40.000|    7|\n",
       "| login|access|1603670500|2020-10-26 09:01:40.000|    6|\n",
       "| login|access|1603645200|2020-10-26 02:00:00.000|    1|\n",
       "| login|access|1603657200|2020-10-26 05:20:00.000|    3|\n",
       "| login|access|1603664500|2020-10-26 07:21:40.000|    4|\n",
       "+------+------+----------+-----------------------+-----+"
      ]
     },
     "metadata": {},
     "output_type": "display_data"
    }
   ],
   "source": [
    "access26 = spark.read.json(\"access/20201026\")\n",
    "access26.printSchema()\n",
    "display(access26)"
   ]
  },
  {
   "cell_type": "markdown",
   "metadata": {},
   "source": [
    "### 5-2. 수집된 고객, 매출 및 접속 임시 테이블 생성"
   ]
  },
  {
   "cell_type": "code",
   "execution_count": null,
   "metadata": {},
   "outputs": [],
   "source": []
  },
  {
   "cell_type": "markdown",
   "metadata": {},
   "source": [
    "### 5-3. SparkSQL을 이용하여 테이블 별 데이터프레임 생성하기"
   ]
  },
  {
   "cell_type": "code",
   "execution_count": 5,
   "metadata": {},
   "outputs": [],
   "source": [
    "u_signup_condition = \"u_signup >= '20201026' and u_signup < '20201027'\"\n",
    "user = user26.select(\"u_id\", \"u_name\", \"u_gender\").where(u_signup_condition)\n",
    "\n",
    "p_time_condition = \"p_time >= '2020-10-26 00:00:00' and p_time < '2020-10-27 00:00:00'\"\n",
    "purchase = purchase26.select(from_unixtime(\"p_time\").alias(\"p_time\"), \"p_uid\", \"p_id\", \"p_name\", \"p_amount\").where(p_time_condition)\n",
    "\n",
    "access = access26.select(\"a_id\", \"a_tag\", \"a_timestamp\", \"a_uid\")"
   ]
  },
  {
   "cell_type": "markdown",
   "metadata": {},
   "source": [
    "### 5-4. 생성된 테이블을 SQL 문을 이용하여 탐색하기"
   ]
  },
  {
   "cell_type": "code",
   "execution_count": null,
   "metadata": {},
   "outputs": [],
   "source": []
  },
  {
   "cell_type": "code",
   "execution_count": null,
   "metadata": {},
   "outputs": [],
   "source": []
  },
  {
   "cell_type": "code",
   "execution_count": null,
   "metadata": {},
   "outputs": [],
   "source": []
  },
  {
   "cell_type": "markdown",
   "metadata": {},
   "source": [
    "## 6. 기본 지표 생성\n",
    "### 6-1. DAU (Daily Activer User) 지표를 생성하세요"
   ]
  },
  {
   "cell_type": "code",
   "execution_count": 6,
   "metadata": {},
   "outputs": [
    {
     "name": "stderr",
     "output_type": "stream",
     "text": [
      "[Stage 12:============================================>         (165 + 4) / 200]\r"
     ]
    },
    {
     "name": "stdout",
     "output_type": "stream",
     "text": [
      "9\n"
     ]
    },
    {
     "name": "stderr",
     "output_type": "stream",
     "text": [
      "                                                                                \r"
     ]
    }
   ],
   "source": [
    "v_dau = access.select(\"a_uid\").distinct().count()\n",
    "print(v_dau)"
   ]
  },
  {
   "cell_type": "markdown",
   "metadata": {},
   "source": [
    "### 6-2. DPU (Daily Paying User) 지표를 생성하세요"
   ]
  },
  {
   "cell_type": "code",
   "execution_count": 7,
   "metadata": {},
   "outputs": [
    {
     "name": "stderr",
     "output_type": "stream",
     "text": [
      "[Stage 15:====================================================> (196 + 4) / 200]\r"
     ]
    },
    {
     "name": "stdout",
     "output_type": "stream",
     "text": [
      "5\n"
     ]
    },
    {
     "name": "stderr",
     "output_type": "stream",
     "text": [
      "                                                                                \r"
     ]
    }
   ],
   "source": [
    "v_pu = purchase.select(\"p_uid\").distinct().count()\n",
    "print(v_pu)"
   ]
  },
  {
   "cell_type": "markdown",
   "metadata": {},
   "source": [
    "### 6-3. DR (Daily Revenue) 지표를 생성하세요"
   ]
  },
  {
   "cell_type": "code",
   "execution_count": 8,
   "metadata": {},
   "outputs": [
    {
     "name": "stdout",
     "output_type": "stream",
     "text": [
      "12900000\n"
     ]
    }
   ],
   "source": [
    "v_dr = purchase.select(sum(\"p_amount\").alias(\"DR\")).collect()[0][\"DR\"]\n",
    "print(v_dr)"
   ]
  },
  {
   "cell_type": "markdown",
   "metadata": {},
   "source": [
    "### 6-4. ARPU (Average Revenue Per User) 지표를 생성하세요"
   ]
  },
  {
   "cell_type": "code",
   "execution_count": 9,
   "metadata": {},
   "outputs": [
    {
     "name": "stdout",
     "output_type": "stream",
     "text": [
      "1433333.3333333333\n"
     ]
    }
   ],
   "source": [
    "v_arpu = v_dr / v_dau\n",
    "print(v_arpu)"
   ]
  },
  {
   "cell_type": "markdown",
   "metadata": {},
   "source": [
    "### 6-5. ARPPU (Average Revenue Per Paying User) 지표를 생성하세요"
   ]
  },
  {
   "cell_type": "code",
   "execution_count": 10,
   "metadata": {},
   "outputs": [
    {
     "name": "stdout",
     "output_type": "stream",
     "text": [
      "2580000.0\n"
     ]
    }
   ],
   "source": [
    "v_arppu = v_dr / v_pu\n",
    "print(v_arppu)"
   ]
  },
  {
   "cell_type": "markdown",
   "metadata": {},
   "source": [
    "## 7. 고급 지표 생성\n",
    "\n",
    "> 어제 디멘젼을 가져와서 정상 조회 되는 지 확인합니다"
   ]
  },
  {
   "cell_type": "code",
   "execution_count": 11,
   "metadata": {},
   "outputs": [
    {
     "data": {
      "text/html": [
       "<table border='1'>\n",
       "<tr><th>d_uid</th><th>d_name</th><th>d_gender</th><th>d_acount</th><th>d_pamount</th><th>d_pcount</th><th>d_first_purchase</th></tr>\n",
       "<tr><td>5</td><td>유코드제로</td><td>여</td><td>2</td><td>6000000</td><td>2</td><td>2020-10-25 09:32:35</td></tr>\n",
       "<tr><td>2</td><td>김싸이언</td><td>남</td><td>3</td><td>1400000</td><td>1</td><td>2020-10-25 11:38:20</td></tr>\n",
       "<tr><td>1</td><td>정휘센</td><td>남</td><td>2</td><td>3800000</td><td>2</td><td>2020-10-25 05:32:30</td></tr>\n",
       "<tr><td>3</td><td>박트롬</td><td>여</td><td>2</td><td>1000000</td><td>1</td><td>2020-10-25 05:42:35</td></tr>\n",
       "<tr><td>4</td><td>청소기</td><td>남</td><td>3</td><td>0</td><td>0</td><td>null</td></tr>\n",
       "</table>\n"
      ],
      "text/plain": [
       "+-----+----------+--------+--------+---------+--------+-------------------+\n",
       "|d_uid|    d_name|d_gender|d_acount|d_pamount|d_pcount|   d_first_purchase|\n",
       "+-----+----------+--------+--------+---------+--------+-------------------+\n",
       "|    5|유코드제로|      여|       2|  6000000|       2|2020-10-25 09:32:35|\n",
       "|    2|  김싸이언|      남|       3|  1400000|       1|2020-10-25 11:38:20|\n",
       "|    1|    정휘센|      남|       2|  3800000|       2|2020-10-25 05:32:30|\n",
       "|    3|    박트롬|      여|       2|  1000000|       1|2020-10-25 05:42:35|\n",
       "|    4|    청소기|      남|       3|        0|       0|               null|\n",
       "+-----+----------+--------+--------+---------+--------+-------------------+"
      ]
     },
     "metadata": {},
     "output_type": "display_data"
    }
   ],
   "source": [
    "yesterday = spark.read.parquet(\"dimension/dt=20201025\")\n",
    "display(yesterday)"
   ]
  },
  {
   "cell_type": "markdown",
   "metadata": {},
   "source": [
    "### 7-1. 전체 고객의 ID 추출\n",
    "\n",
    "> full outer 걸어도 case 문을 사용해서 merge 해야 하므로 union 후 distinct 가 명시적이고 좋음"
   ]
  },
  {
   "cell_type": "code",
   "execution_count": 12,
   "metadata": {},
   "outputs": [
    {
     "name": "stderr",
     "output_type": "stream",
     "text": [
      "                                                                                \r"
     ]
    },
    {
     "data": {
      "text/html": [
       "<table border='1'>\n",
       "<tr><th>a_uid</th></tr>\n",
       "<tr><td>1</td></tr>\n",
       "<tr><td>2</td></tr>\n",
       "<tr><td>3</td></tr>\n",
       "<tr><td>4</td></tr>\n",
       "<tr><td>5</td></tr>\n",
       "<tr><td>6</td></tr>\n",
       "<tr><td>7</td></tr>\n",
       "<tr><td>8</td></tr>\n",
       "<tr><td>9</td></tr>\n",
       "</table>\n"
      ],
      "text/plain": [
       "+-----+\n",
       "|a_uid|\n",
       "+-----+\n",
       "|    1|\n",
       "|    2|\n",
       "|    3|\n",
       "|    4|\n",
       "|    5|\n",
       "|    6|\n",
       "|    7|\n",
       "|    8|\n",
       "|    9|\n",
       "+-----+"
      ]
     },
     "metadata": {},
     "output_type": "display_data"
    }
   ],
   "source": [
    "yesterday_uids = yesterday.select(col(\"d_uid\").alias(\"a_uid\"))\n",
    "access_uids = access.select(col(\"a_uid\").alias(\"a_uid\"))\n",
    "all_uids = yesterday_uids.union(access_uids).distinct().orderBy(\"a_uid\")\n",
    "display(all_uids)"
   ]
  },
  {
   "cell_type": "code",
   "execution_count": 13,
   "metadata": {},
   "outputs": [
    {
     "data": {
      "text/html": [
       "<table border='1'>\n",
       "<tr><th>d_uid</th><th>d_name</th><th>d_gender</th><th>d_acount</th><th>d_pamount</th><th>d_pcount</th><th>d_first_purchase</th></tr>\n",
       "<tr><td>1</td><td>정휘센</td><td>남</td><td>2</td><td>3800000</td><td>2</td><td>2020-10-25 05:32:30</td></tr>\n",
       "<tr><td>2</td><td>김싸이언</td><td>남</td><td>3</td><td>1400000</td><td>1</td><td>2020-10-25 11:38:20</td></tr>\n",
       "<tr><td>3</td><td>박트롬</td><td>여</td><td>2</td><td>1000000</td><td>1</td><td>2020-10-25 05:42:35</td></tr>\n",
       "<tr><td>4</td><td>청소기</td><td>남</td><td>3</td><td>0</td><td>0</td><td>null</td></tr>\n",
       "<tr><td>5</td><td>유코드제로</td><td>여</td><td>2</td><td>6000000</td><td>2</td><td>2020-10-25 09:32:35</td></tr>\n",
       "<tr><td>6</td><td>null</td><td>null</td><td>null</td><td>null</td><td>null</td><td>null</td></tr>\n",
       "<tr><td>7</td><td>null</td><td>null</td><td>null</td><td>null</td><td>null</td><td>null</td></tr>\n",
       "<tr><td>8</td><td>null</td><td>null</td><td>null</td><td>null</td><td>null</td><td>null</td></tr>\n",
       "<tr><td>9</td><td>null</td><td>null</td><td>null</td><td>null</td><td>null</td><td>null</td></tr>\n",
       "</table>\n"
      ],
      "text/plain": [
       "+-----+----------+--------+--------+---------+--------+-------------------+\n",
       "|d_uid|    d_name|d_gender|d_acount|d_pamount|d_pcount|   d_first_purchase|\n",
       "+-----+----------+--------+--------+---------+--------+-------------------+\n",
       "|    1|    정휘센|      남|       2|  3800000|       2|2020-10-25 05:32:30|\n",
       "|    2|  김싸이언|      남|       3|  1400000|       1|2020-10-25 11:38:20|\n",
       "|    3|    박트롬|      여|       2|  1000000|       1|2020-10-25 05:42:35|\n",
       "|    4|    청소기|      남|       3|        0|       0|               null|\n",
       "|    5|유코드제로|      여|       2|  6000000|       2|2020-10-25 09:32:35|\n",
       "|    6|      null|    null|    null|     null|    null|               null|\n",
       "|    7|      null|    null|    null|     null|    null|               null|\n",
       "|    8|      null|    null|    null|     null|    null|               null|\n",
       "|    9|      null|    null|    null|     null|    null|               null|\n",
       "+-----+----------+--------+--------+---------+--------+-------------------+"
      ]
     },
     "metadata": {},
     "output_type": "display_data"
    }
   ],
   "source": [
    "uids = all_uids.join(yesterday, all_uids.a_uid == yesterday.d_uid, \"leftOuter\").drop(\"d_uid\").withColumnRenamed(\"a_uid\", \"d_uid\")\n",
    "display(uids.orderBy(\"d_uid\"))"
   ]
  },
  {
   "cell_type": "markdown",
   "metadata": {},
   "source": [
    "### 7-2. 어제 디멘젼 정보와 결합"
   ]
  },
  {
   "cell_type": "code",
   "execution_count": 14,
   "metadata": {},
   "outputs": [
    {
     "data": {
      "text/html": [
       "<table border='1'>\n",
       "<tr><th>d_uid</th><th>d_acount</th><th>d_pamount</th><th>d_pcount</th><th>d_first_purchase</th><th>d_name</th><th>d_gender</th></tr>\n",
       "<tr><td>7</td><td>null</td><td>null</td><td>null</td><td>null</td><td>임모바일</td><td>남</td></tr>\n",
       "<tr><td>6</td><td>null</td><td>null</td><td>null</td><td>null</td><td>윤디오스</td><td>남</td></tr>\n",
       "<tr><td>9</td><td>null</td><td>null</td><td>null</td><td>null</td><td>최컴퓨터</td><td>남</td></tr>\n",
       "<tr><td>5</td><td>2</td><td>6000000</td><td>2</td><td>2020-10-25 09:32:35</td><td>유코드제로</td><td>여</td></tr>\n",
       "<tr><td>1</td><td>2</td><td>3800000</td><td>2</td><td>2020-10-25 05:32:30</td><td>정휘센</td><td>남</td></tr>\n",
       "<tr><td>3</td><td>2</td><td>1000000</td><td>1</td><td>2020-10-25 05:42:35</td><td>박트롬</td><td>여</td></tr>\n",
       "<tr><td>8</td><td>null</td><td>null</td><td>null</td><td>null</td><td>조노트북</td><td>여</td></tr>\n",
       "<tr><td>2</td><td>3</td><td>1400000</td><td>1</td><td>2020-10-25 11:38:20</td><td>김싸이언</td><td>남</td></tr>\n",
       "<tr><td>4</td><td>3</td><td>0</td><td>0</td><td>null</td><td>청소기</td><td>남</td></tr>\n",
       "</table>\n"
      ],
      "text/plain": [
       "+-----+--------+---------+--------+-------------------+----------+--------+\n",
       "|d_uid|d_acount|d_pamount|d_pcount|   d_first_purchase|    d_name|d_gender|\n",
       "+-----+--------+---------+--------+-------------------+----------+--------+\n",
       "|    7|    null|     null|    null|               null|  임모바일|      남|\n",
       "|    6|    null|     null|    null|               null|  윤디오스|      남|\n",
       "|    9|    null|     null|    null|               null|  최컴퓨터|      남|\n",
       "|    5|       2|  6000000|       2|2020-10-25 09:32:35|유코드제로|      여|\n",
       "|    1|       2|  3800000|       2|2020-10-25 05:32:30|    정휘센|      남|\n",
       "|    3|       2|  1000000|       1|2020-10-25 05:42:35|    박트롬|      여|\n",
       "|    8|    null|     null|    null|               null|  조노트북|      여|\n",
       "|    2|       3|  1400000|       1|2020-10-25 11:38:20|  김싸이언|      남|\n",
       "|    4|       3|        0|       0|               null|    청소기|      남|\n",
       "+-----+--------+---------+--------+-------------------+----------+--------+"
      ]
     },
     "metadata": {},
     "output_type": "display_data"
    }
   ],
   "source": [
    "# user.printSchema()\n",
    "exprName = ( # d_name is null user.u_name other d_name\n",
    "    when(col(\"d_name\").isNull(), col(\"u_name\"))\n",
    "    .otherwise(col(\"d_name\"))\n",
    ")\n",
    "exprGender = ( # d_name is null user.u_name other d_name\n",
    "    when(col(\"d_gender\").isNull(), col(\"u_gender\"))\n",
    "    .otherwise(col(\"d_gender\"))\n",
    ")\n",
    "join_uids = uids.join(user, uids.d_uid == user.u_id, \"leftOuter\")\n",
    "dim1 = (\n",
    "    join_uids\n",
    "    .withColumn(\"name\", exprName)\n",
    "    .withColumn(\"gender\", exprGender)\n",
    "    .drop(\"d_name\", \"d_gender\", \"u_id\", \"u_name\", \"u_gender\")\n",
    "    .withColumnRenamed(\"name\", \"d_name\")\n",
    "    .withColumnRenamed(\"gender\", \"d_gender\")\n",
    ")\n",
    "display(dim1)"
   ]
  },
  {
   "cell_type": "markdown",
   "metadata": {},
   "source": [
    "### 7-3. 이름과 성별을 결합"
   ]
  },
  {
   "cell_type": "code",
   "execution_count": 15,
   "metadata": {},
   "outputs": [
    {
     "data": {
      "text/html": [
       "<table border='1'>\n",
       "<tr><th>d_uid</th><th>d_acount</th><th>d_pamount</th><th>d_pcount</th><th>d_first_purchase</th><th>d_name</th><th>d_gender</th></tr>\n",
       "<tr><td>1</td><td>2</td><td>3800000</td><td>2</td><td>2020-10-25 05:32:30</td><td>정휘센</td><td>남</td></tr>\n",
       "<tr><td>2</td><td>3</td><td>1400000</td><td>1</td><td>2020-10-25 11:38:20</td><td>김싸이언</td><td>남</td></tr>\n",
       "<tr><td>3</td><td>2</td><td>1000000</td><td>1</td><td>2020-10-25 05:42:35</td><td>박트롬</td><td>여</td></tr>\n",
       "<tr><td>4</td><td>3</td><td>0</td><td>0</td><td>null</td><td>청소기</td><td>남</td></tr>\n",
       "<tr><td>5</td><td>2</td><td>6000000</td><td>2</td><td>2020-10-25 09:32:35</td><td>유코드제로</td><td>여</td></tr>\n",
       "<tr><td>6</td><td>0</td><td>0</td><td>0</td><td>null</td><td>윤디오스</td><td>남</td></tr>\n",
       "<tr><td>7</td><td>0</td><td>0</td><td>0</td><td>null</td><td>임모바일</td><td>남</td></tr>\n",
       "<tr><td>8</td><td>0</td><td>0</td><td>0</td><td>null</td><td>조노트북</td><td>여</td></tr>\n",
       "<tr><td>9</td><td>0</td><td>0</td><td>0</td><td>null</td><td>최컴퓨터</td><td>남</td></tr>\n",
       "</table>\n"
      ],
      "text/plain": [
       "+-----+--------+---------+--------+-------------------+----------+--------+\n",
       "|d_uid|d_acount|d_pamount|d_pcount|   d_first_purchase|    d_name|d_gender|\n",
       "+-----+--------+---------+--------+-------------------+----------+--------+\n",
       "|    1|       2|  3800000|       2|2020-10-25 05:32:30|    정휘센|      남|\n",
       "|    2|       3|  1400000|       1|2020-10-25 11:38:20|  김싸이언|      남|\n",
       "|    3|       2|  1000000|       1|2020-10-25 05:42:35|    박트롬|      여|\n",
       "|    4|       3|        0|       0|               null|    청소기|      남|\n",
       "|    5|       2|  6000000|       2|2020-10-25 09:32:35|유코드제로|      여|\n",
       "|    6|       0|        0|       0|               null|  윤디오스|      남|\n",
       "|    7|       0|        0|       0|               null|  임모바일|      남|\n",
       "|    8|       0|        0|       0|               null|  조노트북|      여|\n",
       "|    9|       0|        0|       0|               null|  최컴퓨터|      남|\n",
       "+-----+--------+---------+--------+-------------------+----------+--------+"
      ]
     },
     "metadata": {},
     "output_type": "display_data"
    }
   ],
   "source": [
    "fillDefaultValue = {\"d_acount\":0, \"d_pcount\": 0, \"d_pamount\": 0}\n",
    "\n",
    "dim2 = dim1.na.fill(fillDefaultValue).orderBy(\"d_uid\")\n",
    "display(dim2)"
   ]
  },
  {
   "cell_type": "code",
   "execution_count": null,
   "metadata": {},
   "outputs": [],
   "source": []
  },
  {
   "cell_type": "markdown",
   "metadata": {},
   "source": [
    "### 7-4. 숫자 필드에 널값은 0으로 기본값을 넣어줍니다"
   ]
  },
  {
   "cell_type": "code",
   "execution_count": null,
   "metadata": {},
   "outputs": [],
   "source": []
  },
  {
   "cell_type": "markdown",
   "metadata": {},
   "source": [
    "### 7-5. 접속횟수를 결합"
   ]
  },
  {
   "cell_type": "code",
   "execution_count": 16,
   "metadata": {},
   "outputs": [
    {
     "data": {
      "text/html": [
       "<table border='1'>\n",
       "<tr><th>d_uid</th><th>d_pamount</th><th>d_pcount</th><th>d_first_purchase</th><th>d_name</th><th>d_gender</th><th>d_acount</th></tr>\n",
       "<tr><td>7</td><td>0</td><td>0</td><td>null</td><td>임모바일</td><td>남</td><td>1</td></tr>\n",
       "<tr><td>6</td><td>0</td><td>0</td><td>null</td><td>윤디오스</td><td>남</td><td>1</td></tr>\n",
       "<tr><td>9</td><td>0</td><td>0</td><td>null</td><td>최컴퓨터</td><td>남</td><td>1</td></tr>\n",
       "<tr><td>5</td><td>6000000</td><td>2</td><td>2020-10-25 09:32:35</td><td>유코드제로</td><td>여</td><td>4</td></tr>\n",
       "<tr><td>1</td><td>3800000</td><td>2</td><td>2020-10-25 05:32:30</td><td>정휘센</td><td>남</td><td>4</td></tr>\n",
       "<tr><td>3</td><td>1000000</td><td>1</td><td>2020-10-25 05:42:35</td><td>박트롬</td><td>여</td><td>4</td></tr>\n",
       "<tr><td>8</td><td>0</td><td>0</td><td>null</td><td>조노트북</td><td>여</td><td>1</td></tr>\n",
       "<tr><td>2</td><td>1400000</td><td>1</td><td>2020-10-25 11:38:20</td><td>김싸이언</td><td>남</td><td>6</td></tr>\n",
       "<tr><td>4</td><td>0</td><td>0</td><td>null</td><td>청소기</td><td>남</td><td>6</td></tr>\n",
       "</table>\n"
      ],
      "text/plain": [
       "+-----+---------+--------+-------------------+----------+--------+--------+\n",
       "|d_uid|d_pamount|d_pcount|   d_first_purchase|    d_name|d_gender|d_acount|\n",
       "+-----+---------+--------+-------------------+----------+--------+--------+\n",
       "|    7|        0|       0|               null|  임모바일|      남|       1|\n",
       "|    6|        0|       0|               null|  윤디오스|      남|       1|\n",
       "|    9|        0|       0|               null|  최컴퓨터|      남|       1|\n",
       "|    5|  6000000|       2|2020-10-25 09:32:35|유코드제로|      여|       4|\n",
       "|    1|  3800000|       2|2020-10-25 05:32:30|    정휘센|      남|       4|\n",
       "|    3|  1000000|       1|2020-10-25 05:42:35|    박트롬|      여|       4|\n",
       "|    8|        0|       0|               null|  조노트북|      여|       1|\n",
       "|    2|  1400000|       1|2020-10-25 11:38:20|  김싸이언|      남|       6|\n",
       "|    4|        0|       0|               null|    청소기|      남|       6|\n",
       "+-----+---------+--------+-------------------+----------+--------+--------+"
      ]
     },
     "metadata": {},
     "output_type": "display_data"
    }
   ],
   "source": [
    "today_count = access.groupBy(\"a_uid\").agg(count(\"a_uid\").alias(\"a_count\"))\n",
    "\n",
    "dim3 = (\n",
    "    dim2.join(today_count, dim2.d_uid == access.a_uid, \"leftOuter\")\n",
    "    .withColumn(\"sum_of_access\", col(\"d_acount\") + col(\"a_count\"))\n",
    "    .drop(\"d_acount\", \"a_count\", \"a_uid\")\n",
    "    .withColumnRenamed(\"sum_of_access\", \"d_acount\")\n",
    ")\n",
    "display(dim3)"
   ]
  },
  {
   "cell_type": "code",
   "execution_count": 17,
   "metadata": {},
   "outputs": [
    {
     "name": "stdout",
     "output_type": "stream",
     "text": [
      "root\n",
      " |-- d_uid: long (nullable = true)\n",
      " |-- d_name: string (nullable = true)\n",
      " |-- d_gender: string (nullable = true)\n",
      " |-- d_acount: long (nullable = true)\n",
      " |-- d_pcount: long (nullable = true)\n",
      " |-- d_pamount: long (nullable = true)\n",
      " |-- d_first_purchase: string (nullable = true)\n",
      "\n"
     ]
    },
    {
     "name": "stderr",
     "output_type": "stream",
     "text": [
      "                                                                                \r"
     ]
    },
    {
     "data": {
      "text/html": [
       "<table border='1'>\n",
       "<tr><th>d_uid</th><th>d_name</th><th>d_gender</th><th>d_acount</th><th>d_pcount</th><th>d_pamount</th><th>d_first_purchase</th></tr>\n",
       "<tr><td>1</td><td>정휘센</td><td>남</td><td>4</td><td>3</td><td>5200000</td><td>2020-10-25 05:32:30</td></tr>\n",
       "<tr><td>2</td><td>김싸이언</td><td>남</td><td>6</td><td>1</td><td>1400000</td><td>2020-10-25 11:38:20</td></tr>\n",
       "<tr><td>3</td><td>박트롬</td><td>여</td><td>4</td><td>1</td><td>1000000</td><td>2020-10-25 05:42:35</td></tr>\n",
       "<tr><td>4</td><td>청소기</td><td>남</td><td>6</td><td>0</td><td>0</td><td>null</td></tr>\n",
       "<tr><td>5</td><td>유코드제로</td><td>여</td><td>4</td><td>3</td><td>7000000</td><td>2020-10-25 09:32:35</td></tr>\n",
       "<tr><td>6</td><td>윤디오스</td><td>남</td><td>1</td><td>1</td><td>4500000</td><td>2020-10-26 10:08:20</td></tr>\n",
       "<tr><td>7</td><td>임모바일</td><td>남</td><td>1</td><td>1</td><td>3500000</td><td>2020-10-26 07:45:55</td></tr>\n",
       "<tr><td>8</td><td>조노트북</td><td>여</td><td>1</td><td>0</td><td>0</td><td>null</td></tr>\n",
       "<tr><td>9</td><td>최컴퓨터</td><td>남</td><td>1</td><td>1</td><td>2500000</td><td>2020-10-26 07:49:15</td></tr>\n",
       "</table>\n"
      ],
      "text/plain": [
       "+-----+----------+--------+--------+--------+---------+-------------------+\n",
       "|d_uid|    d_name|d_gender|d_acount|d_pcount|d_pamount|   d_first_purchase|\n",
       "+-----+----------+--------+--------+--------+---------+-------------------+\n",
       "|    1|    정휘센|      남|       4|       3|  5200000|2020-10-25 05:32:30|\n",
       "|    2|  김싸이언|      남|       6|       1|  1400000|2020-10-25 11:38:20|\n",
       "|    3|    박트롬|      여|       4|       1|  1000000|2020-10-25 05:42:35|\n",
       "|    4|    청소기|      남|       6|       0|        0|               null|\n",
       "|    5|유코드제로|      여|       4|       3|  7000000|2020-10-25 09:32:35|\n",
       "|    6|  윤디오스|      남|       1|       1|  4500000|2020-10-26 10:08:20|\n",
       "|    7|  임모바일|      남|       1|       1|  3500000|2020-10-26 07:45:55|\n",
       "|    8|  조노트북|      여|       1|       0|        0|               null|\n",
       "|    9|  최컴퓨터|      남|       1|       1|  2500000|2020-10-26 07:49:15|\n",
       "+-----+----------+--------+--------+--------+---------+-------------------+"
      ]
     },
     "metadata": {},
     "output_type": "display_data"
    }
   ],
   "source": [
    "today_purchase = purchase.groupBy(\"p_uid\").agg(count(\"p_uid\").alias(\"p_count\"), sum(\"p_amount\").alias(\"p_amount\"), min(\"p_time\").alias(\"p_time\"))\n",
    "\n",
    "countOfPurchase = (\n",
    "    when(col(\"p_count\").isNull(), col(\"d_pcount\"))\n",
    "    .otherwise(col(\"p_count\") + col(\"d_pcount\"))\n",
    ")\n",
    "\n",
    "sumOfPurchase = (\n",
    "    when(col(\"p_amount\").isNull(), col(\"d_pamount\"))\n",
    "    .otherwise(col(\"p_amount\") + col(\"d_pamount\"))\n",
    ")\n",
    "\n",
    "firstPurchase = ( # d_first_purchase is null p_time other d_first_purchase\n",
    "    when(col(\"d_first_purchase\").isNull(), col(\"p_time\"))\n",
    "    .otherwise(col(\"d_first_purchase\"))\n",
    ")\n",
    "\n",
    "dim4 = (\n",
    "    dim3.join(today_purchase, dim3.d_uid == today_purchase.p_uid, \"leftOuter\")\n",
    "    .withColumn(\"pcount\", countOfPurchase)\n",
    "    .withColumn(\"pamount\", sumOfPurchase)\n",
    "    .withColumn(\"pdate\", firstPurchase)\n",
    "    .drop(\"d_pamount\", \"d_pcount\", \"p_uid\", \"p_count\", \"p_amount\", \"d_first_purchase\", \"p_time\")\n",
    "    .withColumnRenamed(\"pcount\", \"d_pcount\")\n",
    "    .withColumnRenamed(\"pamount\", \"d_pamount\")\n",
    "    .withColumnRenamed(\"pdate\", \"d_first_purchase\")\n",
    ").orderBy(\"d_uid\")\n",
    "dim4.printSchema()\n",
    "display(dim4)"
   ]
  },
  {
   "cell_type": "code",
   "execution_count": 18,
   "metadata": {},
   "outputs": [
    {
     "name": "stdout",
     "output_type": "stream",
     "text": [
      "root\n",
      " |-- d_uid: long (nullable = true)\n",
      " |-- d_pamount: long (nullable = false)\n",
      " |-- d_pcount: long (nullable = false)\n",
      " |-- d_first_purchase: string (nullable = true)\n",
      " |-- d_name: string (nullable = true)\n",
      " |-- d_gender: string (nullable = true)\n",
      " |-- d_acount: long (nullable = true)\n",
      "\n",
      "root\n",
      " |-- p_time: string (nullable = true)\n",
      " |-- p_uid: integer (nullable = true)\n",
      " |-- p_id: integer (nullable = true)\n",
      " |-- p_name: string (nullable = true)\n",
      " |-- p_amount: integer (nullable = true)\n",
      "\n"
     ]
    },
    {
     "data": {
      "text/html": [
       "<table border='1'>\n",
       "<tr><th>p_time</th><th>p_uid</th><th>p_id</th><th>p_name</th><th>p_amount</th></tr>\n",
       "<tr><td>2020-10-26 03:45:50</td><td>1</td><td>2001</td><td>LG Cyon</td><td>1400000</td></tr>\n",
       "</table>\n"
      ],
      "text/plain": [
       "+-------------------+-----+----+-------+--------+\n",
       "|             p_time|p_uid|p_id| p_name|p_amount|\n",
       "+-------------------+-----+----+-------+--------+\n",
       "|2020-10-26 03:45:50|    1|2001|LG Cyon| 1400000|\n",
       "+-------------------+-----+----+-------+--------+"
      ]
     },
     "execution_count": 18,
     "metadata": {},
     "output_type": "execute_result"
    }
   ],
   "source": [
    "dim3.printSchema()\n",
    "purchase.printSchema()\n",
    "purchase.limit(1)"
   ]
  },
  {
   "cell_type": "code",
   "execution_count": null,
   "metadata": {},
   "outputs": [],
   "source": []
  },
  {
   "cell_type": "markdown",
   "metadata": {},
   "source": [
    "### 7-6. 매출횟수 및 매출을 결합"
   ]
  },
  {
   "cell_type": "code",
   "execution_count": null,
   "metadata": {},
   "outputs": [],
   "source": []
  },
  {
   "cell_type": "markdown",
   "metadata": {},
   "source": [
    "### 7-7. 최초 구매 일자를 결합"
   ]
  },
  {
   "cell_type": "code",
   "execution_count": null,
   "metadata": {},
   "outputs": [],
   "source": []
  },
  {
   "cell_type": "markdown",
   "metadata": {},
   "source": [
    "### 7-8. 신규유저를 계산"
   ]
  },
  {
   "cell_type": "code",
   "execution_count": 19,
   "metadata": {},
   "outputs": [
    {
     "name": "stdout",
     "output_type": "stream",
     "text": [
      "4\n"
     ]
    }
   ],
   "source": [
    "v_nu = access_uids.subtract(yesterday.select(\"d_uid\")).count()\n",
    "print(v_nu)"
   ]
  },
  {
   "cell_type": "markdown",
   "metadata": {},
   "source": [
    "### 7-9. 생성된 디멘젼을 저장소에 저장합니다"
   ]
  },
  {
   "cell_type": "code",
   "execution_count": 20,
   "metadata": {},
   "outputs": [],
   "source": [
    "target_dir = \"dimension/dt=20201026\"\n",
    "dim4.write.mode(\"overwrite\").parquet(target_dir)"
   ]
  },
  {
   "cell_type": "markdown",
   "metadata": {},
   "source": [
    "### 7-10. 생성된 디멘젼을 다시 읽어서 출력합니다"
   ]
  },
  {
   "cell_type": "code",
   "execution_count": 21,
   "metadata": {
    "tags": []
   },
   "outputs": [
    {
     "name": "stdout",
     "output_type": "stream",
     "text": [
      "root\n",
      " |-- d_uid: long (nullable = true)\n",
      " |-- d_name: string (nullable = true)\n",
      " |-- d_gender: string (nullable = true)\n",
      " |-- d_acount: long (nullable = true)\n",
      " |-- d_pcount: long (nullable = true)\n",
      " |-- d_pamount: long (nullable = true)\n",
      " |-- d_first_purchase: string (nullable = true)\n",
      "\n"
     ]
    },
    {
     "data": {
      "text/html": [
       "<table border='1'>\n",
       "<tr><th>d_uid</th><th>d_name</th><th>d_gender</th><th>d_acount</th><th>d_pcount</th><th>d_pamount</th><th>d_first_purchase</th></tr>\n",
       "<tr><td>1</td><td>정휘센</td><td>남</td><td>4</td><td>3</td><td>5200000</td><td>2020-10-25 05:32:30</td></tr>\n",
       "<tr><td>2</td><td>김싸이언</td><td>남</td><td>6</td><td>1</td><td>1400000</td><td>2020-10-25 11:38:20</td></tr>\n",
       "<tr><td>3</td><td>박트롬</td><td>여</td><td>4</td><td>1</td><td>1000000</td><td>2020-10-25 05:42:35</td></tr>\n",
       "<tr><td>4</td><td>청소기</td><td>남</td><td>6</td><td>0</td><td>0</td><td>null</td></tr>\n",
       "<tr><td>5</td><td>유코드제로</td><td>여</td><td>4</td><td>3</td><td>7000000</td><td>2020-10-25 09:32:35</td></tr>\n",
       "<tr><td>6</td><td>윤디오스</td><td>남</td><td>1</td><td>1</td><td>4500000</td><td>2020-10-26 10:08:20</td></tr>\n",
       "<tr><td>7</td><td>임모바일</td><td>남</td><td>1</td><td>1</td><td>3500000</td><td>2020-10-26 07:45:55</td></tr>\n",
       "<tr><td>8</td><td>조노트북</td><td>여</td><td>1</td><td>0</td><td>0</td><td>null</td></tr>\n",
       "<tr><td>9</td><td>최컴퓨터</td><td>남</td><td>1</td><td>1</td><td>2500000</td><td>2020-10-26 07:49:15</td></tr>\n",
       "</table>\n"
      ],
      "text/plain": [
       "+-----+----------+--------+--------+--------+---------+-------------------+\n",
       "|d_uid|    d_name|d_gender|d_acount|d_pcount|d_pamount|   d_first_purchase|\n",
       "+-----+----------+--------+--------+--------+---------+-------------------+\n",
       "|    1|    정휘센|      남|       4|       3|  5200000|2020-10-25 05:32:30|\n",
       "|    2|  김싸이언|      남|       6|       1|  1400000|2020-10-25 11:38:20|\n",
       "|    3|    박트롬|      여|       4|       1|  1000000|2020-10-25 05:42:35|\n",
       "|    4|    청소기|      남|       6|       0|        0|               null|\n",
       "|    5|유코드제로|      여|       4|       3|  7000000|2020-10-25 09:32:35|\n",
       "|    6|  윤디오스|      남|       1|       1|  4500000|2020-10-26 10:08:20|\n",
       "|    7|  임모바일|      남|       1|       1|  3500000|2020-10-26 07:45:55|\n",
       "|    8|  조노트북|      여|       1|       0|        0|               null|\n",
       "|    9|  최컴퓨터|      남|       1|       1|  2500000|2020-10-26 07:49:15|\n",
       "+-----+----------+--------+--------+--------+---------+-------------------+"
      ]
     },
     "metadata": {},
     "output_type": "display_data"
    }
   ],
   "source": [
    "newDimension = spark.read.parquet(target_dir).orderBy(\"d_uid\")\n",
    "newDimension.printSchema()\n",
    "display(newDimension)"
   ]
  },
  {
   "cell_type": "code",
   "execution_count": 22,
   "metadata": {
    "tags": []
   },
   "outputs": [
    {
     "name": "stdout",
     "output_type": "stream",
     "text": [
      "dau:9, pu:5, dr:12900000, nu:4\n"
     ]
    }
   ],
   "source": [
    "print(\"dau:{}, pu:{}, dr:{}, nu:{}\".format(v_dau, v_pu, v_dr, v_nu))"
   ]
  },
  {
   "cell_type": "markdown",
   "metadata": {
    "tags": []
   },
   "source": [
    "### 7-11. 오늘 생성된 지표를 MySQL 테이블로 저장합니다"
   ]
  },
  {
   "cell_type": "code",
   "execution_count": 25,
   "metadata": {},
   "outputs": [],
   "source": [
    "today = \"2020-10-26\"\n",
    "lgde_origin = (\n",
    "    spark.read.jdbc(\"jdbc:mysql://mysql:3306/testdb\", \"lgde\", properties={\"user\": \"sqoop\", \"password\": \"sqoop\"})\n",
    "    .where(col(\"DT\") < lit(today))\n",
    ")\n",
    "lgde_today = spark.createDataFrame([(today, v_dau, v_pu, v_dr)], [\"DT\", \"DAU\", \"PU\", \"DR\"])\n",
    "lgde_union = lgde_origin.union(lgde_today)\n",
    "lgde_local = lgde_union.collect()\n",
    "lgde = spark.createDataFrame(lgde_local)\n",
    "lgde.write.mode(\"overwrite\").jdbc(\"jdbc:mysql://mysql:3306/testdb\", \"lgde\", properties={\"user\": \"sqoop\", \"password\": \"sqoop\"})"
   ]
  },
  {
   "cell_type": "code",
   "execution_count": 27,
   "metadata": {},
   "outputs": [
    {
     "data": {
      "text/html": [
       "<table border='1'>\n",
       "<tr><th>DT</th><th>DAU</th><th>PU</th><th>DR</th></tr>\n",
       "<tr><td>2020-10-25</td><td>5</td><td>4</td><td>12200000</td></tr>\n",
       "<tr><td>2020-10-26</td><td>9</td><td>5</td><td>12900000</td></tr>\n",
       "</table>\n"
      ],
      "text/plain": [
       "+----------+---+---+--------+\n",
       "|        DT|DAU| PU|      DR|\n",
       "+----------+---+---+--------+\n",
       "|2020-10-25|  5|  4|12200000|\n",
       "|2020-10-26|  9|  5|12900000|\n",
       "+----------+---+---+--------+"
      ]
     },
     "execution_count": 27,
     "metadata": {},
     "output_type": "execute_result"
    }
   ],
   "source": [
    "spark.read.jdbc(\"jdbc:mysql://mysql:3306/testdb\", \"lgde\", properties={\"user\": \"sqoop\", \"password\": \"sqoop\"}).orderBy(\"DT\")"
   ]
  },
  {
   "cell_type": "code",
   "execution_count": null,
   "metadata": {},
   "outputs": [],
   "source": []
  }
 ],
 "metadata": {
  "kernelspec": {
   "display_name": "Python 3 (ipykernel)",
   "language": "python",
   "name": "python3"
  },
  "language_info": {
   "codemirror_mode": {
    "name": "ipython",
    "version": 3
   },
   "file_extension": ".py",
   "mimetype": "text/x-python",
   "name": "python",
   "nbconvert_exporter": "python",
   "pygments_lexer": "ipython3",
   "version": "3.9.6"
  }
 },
 "nbformat": 4,
 "nbformat_minor": 4
}
