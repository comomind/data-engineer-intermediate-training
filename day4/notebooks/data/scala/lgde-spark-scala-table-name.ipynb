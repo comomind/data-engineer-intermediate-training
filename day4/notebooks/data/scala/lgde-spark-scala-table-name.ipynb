{
 "cells": [
  {
   "cell_type": "code",
   "execution_count": 1,
   "id": "bc0965aa-909c-4f27-83e4-b27ae61663aa",
   "metadata": {},
   "outputs": [
    {
     "data": {
      "text/plain": [
       "Intitializing Scala interpreter ..."
      ]
     },
     "metadata": {},
     "output_type": "display_data"
    },
    {
     "data": {
      "text/plain": [
       "Spark Web UI available at http://c1aa5f4167a8:4040\n",
       "SparkContext available as 'sc' (version = 3.1.2, master = local[*], app id = local-1630583221812)\n",
       "SparkSession available as 'spark'\n"
      ]
     },
     "metadata": {},
     "output_type": "display_data"
    },
    {
     "data": {
      "text/plain": [
       "res0: org.apache.spark.sql.SparkSession = org.apache.spark.sql.SparkSession@42fb13fa\n"
      ]
     },
     "execution_count": 1,
     "metadata": {},
     "output_type": "execute_result"
    }
   ],
   "source": [
    "spark"
   ]
  },
  {
   "cell_type": "code",
   "execution_count": 12,
   "id": "0812022d-d629-47a1-a07f-ed862a72979d",
   "metadata": {},
   "outputs": [
    {
     "data": {
      "text/plain": [
       "getTables: (query: String)Seq[String]\n",
       "query: String = select * from table_1 as a left join table_2 as b on a.id=b.id\n"
      ]
     },
     "execution_count": 12,
     "metadata": {},
     "output_type": "execute_result"
    }
   ],
   "source": [
    "def getTables(query: String): Seq[String] = {\n",
    "  val logicalPlan = spark.sessionState.sqlParser.parsePlan(query)\n",
    "  import org.apache.spark.sql.catalyst.analysis.UnresolvedRelation\n",
    "  logicalPlan.collect { case r: UnresolvedRelation => r.tableName }\n",
    "}\n",
    "\n",
    "val query = \"select * from table_1 as a left join table_2 as b on a.id=b.id\""
   ]
  },
  {
   "cell_type": "code",
   "execution_count": 13,
   "id": "6800a07c-5611-4a4d-b727-8633ba41b6b6",
   "metadata": {},
   "outputs": [
    {
     "name": "stdout",
     "output_type": "stream",
     "text": [
      "table_1\n",
      "table_2\n"
     ]
    }
   ],
   "source": [
    "getTables(query).foreach(println)"
   ]
  },
  {
   "cell_type": "markdown",
   "id": "7f126040-80ef-47cc-b99a-eb2e844fe436",
   "metadata": {},
   "source": [
    "* [org.apache.spark.sql.execution.SparkSqlParser](https://github.com/apache/spark/blob/master/sql/core/src/main/scala/org/apache/spark/sql/execution/SparkSqlParser.scala)\n",
    "* [SparkSqlParser](https://jaceklaskowski.github.io/mastering-spark-sql-book/sql/SparkSqlParser/)"
   ]
  },
  {
   "cell_type": "code",
   "execution_count": null,
   "id": "c72ea518-6fa6-48f3-903b-6732b53e3cd0",
   "metadata": {},
   "outputs": [],
   "source": []
  }
 ],
 "metadata": {
  "kernelspec": {
   "display_name": "spylon-kernel",
   "language": "scala",
   "name": "spylon-kernel"
  },
  "language_info": {
   "codemirror_mode": "text/x-scala",
   "file_extension": ".scala",
   "help_links": [
    {
     "text": "MetaKernel Magics",
     "url": "https://metakernel.readthedocs.io/en/latest/source/README.html"
    }
   ],
   "mimetype": "text/x-scala",
   "name": "scala",
   "pygments_lexer": "scala",
   "version": "0.4.1"
  }
 },
 "nbformat": 4,
 "nbformat_minor": 5
}
