{
 "cells": [
  {
   "cell_type": "markdown",
   "metadata": {},
   "source": [
    "# 6교시 Spark JDBC to MongoDB\n",
    "\n",
    "### 목차\n",
    "* [1. MongoDB 접속 예제](#1.-MongoDB-접속-예제)\n",
    "* [10. 참고자료](#10.-참고자료)\n"
   ]
  },
  {
   "cell_type": "markdown",
   "metadata": {},
   "source": [
    "### 1. Spark JDBC 환경구성\n",
    "\n",
    "#### 1.1. MongoDB 기동\n",
    "\n",
    "> 터미널에서 몽고디비를 기동되어 있다고 가정합니다"
   ]
  },
  {
   "cell_type": "code",
   "execution_count": 2,
   "metadata": {},
   "outputs": [],
   "source": [
    "from pyspark.sql import *\n",
    "from pyspark.sql.functions import *\n",
    "from pyspark.sql.types import *\n",
    "from IPython.display import display, display_pretty, clear_output, JSON\n",
    "\n",
    "spark = (\n",
    "    SparkSession\n",
    "    .builder\n",
    "    .config(\"spark.sql.session.timeZone\", \"Asia/Seoul\")\n",
    "    .config('spark.mongodb.input.uri', 'mongodb://mongo/testdb.people')\n",
    "    .config('spark.mongodb.output.uri', 'mongodb://mongo/testdb.people')\n",
    "    .getOrCreate()\n",
    ")\n",
    "# 노트북에서 테이블 형태로 데이터 프레임 출력을 위한 설정을 합니다\n",
    "spark.conf.set(\"spark.sql.repl.eagerEval.enabled\", True) # display enabled\n",
    "spark.conf.set(\"spark.sql.repl.eagerEval.truncate\", 100) # display output columns size"
   ]
  },
  {
   "cell_type": "code",
   "execution_count": 3,
   "metadata": {},
   "outputs": [
    {
     "name": "stdout",
     "output_type": "stream",
     "text": [
      "+-------------+----+\n",
      "|         name| age|\n",
      "+-------------+----+\n",
      "|Bilbo Baggins|  50|\n",
      "|      Gandalf|1000|\n",
      "|       Thorin| 195|\n",
      "|        Balin| 178|\n",
      "|         Kili|  77|\n",
      "|       Dwalin| 169|\n",
      "|          Oin| 167|\n",
      "|        Gloin| 158|\n",
      "|         Fili|  82|\n",
      "|       Bombur|null|\n",
      "+-------------+----+\n",
      "\n"
     ]
    }
   ],
   "source": [
    "people = spark.createDataFrame(\n",
    "    [\n",
    "        (\"Bilbo Baggins\",  50)\n",
    "        , (\"Gandalf\", 1000)\n",
    "        , (\"Thorin\", 195)\n",
    "        , (\"Balin\", 178)\n",
    "        , (\"Kili\", 77)\n",
    "        , (\"Dwalin\", 169)\n",
    "        , (\"Oin\", 167)\n",
    "        , (\"Gloin\", 158)\n",
    "        , (\"Fili\", 82)\n",
    "        , (\"Bombur\", None)\n",
    "    ], [\"name\", \"age\"]\n",
    ")\n",
    "\n",
    "people.write.format(\"mongo\").mode(\"append\").save()\n",
    "people.show()"
   ]
  },
  {
   "cell_type": "markdown",
   "metadata": {},
   "source": [
    "#### 1.2 MongoDB 접속\n",
    "```bash\n",
    "docker exec -it mongodb mongo\n",
    "> use testdb\n",
    "> show tables\n",
    "> db.people.findOne()\n",
    "> db.people.find()\n",
    "```"
   ]
  },
  {
   "cell_type": "markdown",
   "metadata": {},
   "source": [
    "## 10. 참고자료\n",
    "\n",
    "#### 1. https://docs.mongodb.com/spark-connector/current/python-api/#python-basics\n",
    "#### 2. https://hub.docker.com/_/mongo\n",
    "#### 3.  https://www.mongodb.com/products/compass"
   ]
  },
  {
   "cell_type": "code",
   "execution_count": null,
   "metadata": {},
   "outputs": [],
   "source": []
  }
 ],
 "metadata": {
  "kernelspec": {
   "display_name": "Python 3",
   "language": "python",
   "name": "python3"
  },
  "language_info": {
   "codemirror_mode": {
    "name": "ipython",
    "version": 3
   },
   "file_extension": ".py",
   "mimetype": "text/x-python",
   "name": "python",
   "nbconvert_exporter": "python",
   "pygments_lexer": "ipython3",
   "version": "3.8.6"
  }
 },
 "nbformat": 4,
 "nbformat_minor": 4
}
