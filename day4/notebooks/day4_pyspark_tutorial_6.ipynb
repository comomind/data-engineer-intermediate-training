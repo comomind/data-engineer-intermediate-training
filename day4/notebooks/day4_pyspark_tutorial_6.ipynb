{
 "cells": [
  {
   "cell_type": "markdown",
   "metadata": {},
   "source": [
    "# 4일차 6교시 Spark JDBC to MySQL\n",
    "\n",
    "### 목차\n",
    "* 1. Spark JDBC 환경구성\n",
    "* 2. MySQL 접속 예제\n",
    "* 4. References\n",
    "  * https://spark.apache.org/docs/2.4.3/sql-data-sources-jdbc.html\n",
    "  "
   ]
  },
  {
   "cell_type": "code",
   "execution_count": 1,
   "metadata": {},
   "outputs": [
    {
     "data": {
      "text/plain": [
       "'2.4.5'"
      ]
     },
     "execution_count": 1,
     "metadata": {},
     "output_type": "execute_result"
    }
   ],
   "source": [
    "from pyspark.sql import SparkSession\n",
    "\n",
    "spark = SparkSession \\\n",
    "    .builder \\\n",
    "    .appName(\"Data Engineer Intermediate Day4\") \\\n",
    "    .config(\"spark.dataengineer.intermediate.day4\", \"tutorial-6\") \\\n",
    "    .getOrCreate()\n",
    "spark.version"
   ]
  },
  {
   "cell_type": "markdown",
   "metadata": {},
   "source": [
    "### 1. Spark JDBC 환경구성\n",
    "\n",
    "#### 1.1. MySQL 기동\n",
    "```bash\n",
    "export PROJECT_HOME=`pwd`\n",
    "docker run --name mysql --network=day3_default -e MYSQL_ROOT_PASSWORD=rootpass -e MYSQL_DATABASE=testdb -e MYSQL_USER=user -e MYSQL_PASSWORD=pass -p 3306:3306 -v $PROJECT_HOME/custom:/etc/mysql/conf.d -d psyoblade/data-engineer-intermediate-day1-mysql\n",
    "```\n",
    "\n",
    "#### 1.2. SparkSession 으로부터 SQLContext 생성\n",
    "```scala\n",
    "sc = spark.sparkContext\n",
    "sqlContext = new org.apache.spark.sql.SQLContext(sc)\n",
    "```\n",
    "\n",
    "#### 1.3. Spark Notebook 네트워크를 MySQL 으로 연결\n",
    "```bash\n",
    "docker network connect day3_default mysql\n",
    "```"
   ]
  },
  {
   "cell_type": "markdown",
   "metadata": {},
   "source": [
    "### 2. MySQL 접속 예제"
   ]
  },
  {
   "cell_type": "code",
   "execution_count": 2,
   "metadata": {},
   "outputs": [],
   "source": [
    "from pyspark.sql.context import SQLContext\n",
    "sc = spark.sparkContext\n",
    "sqlContext = SQLContext(sc)\n",
    "seoul_popular_trip = sqlContext.read.format(\"jdbc\") \\\n",
    ".option(\"url\", \"jdbc:mysql://mysql:3306/testdb\") \\\n",
    ".option(\"driver\", \"com.mysql.jdbc.Driver\") \\\n",
    ".option(\"dbtable\", \"seoul_popular_trip\") \\\n",
    ".option(\"user\", \"user\") \\\n",
    ".option(\"password\", \"pass\") \\\n",
    ".load()"
   ]
  },
  {
   "cell_type": "code",
   "execution_count": 3,
   "metadata": {},
   "outputs": [
    {
     "name": "stdout",
     "output_type": "stream",
     "text": [
      "root\n",
      " |-- category: integer (nullable = true)\n",
      " |-- id: integer (nullable = true)\n",
      " |-- name: string (nullable = true)\n",
      " |-- address: string (nullable = true)\n",
      " |-- naddress: string (nullable = true)\n",
      " |-- tel: string (nullable = true)\n",
      " |-- tag: string (nullable = true)\n",
      "\n",
      "+--------+---+----------------------------+---------------------------+-----------------------------+------------+-----------------------------------+\n",
      "|category| id|                        name|                    address|                     naddress|         tel|                                tag|\n",
      "+--------+---+----------------------------+---------------------------+-----------------------------+------------+-----------------------------------+\n",
      "|       0|281|                    통인시장|110-043 서울 종로구 통인...|03036 서울 종로구 자하문로...| 02-722-0911|엽전도시락,종로통인시장,통인시장...|\n",
      "|       0|345|                      타르틴|140-863 서울 용산구 이태...|04350 서울 용산구 이태원로...|02-3785-3400| 타르틴,이태원디저트카페,파이,런...|\n",
      "|       0|383|                        해랑|135-827 서울 강남구 논현...|06120 서울 강남구 강남대로...| 02-544-7270| 해물탕,해물음식점,해물요리,강남...|\n",
      "|       0|413|             인도로 가는 길 |110-300 서울 종로구 관훈...| 03149 서울 종로구 인사동5...| 02-738-7773|   인도 요리,인도레스토랑,인도로...|\n",
      "|       0|420|올데이 브런치 카페 B Meal...|140-893 서울 용산구 한남...|04348 서울 용산구 이태원로...| 02-797-0715|이태원브런치,브런치음식점,올데이...|\n",
      "+--------+---+----------------------------+---------------------------+-----------------------------+------------+-----------------------------------+\n",
      "only showing top 5 rows\n",
      "\n"
     ]
    }
   ],
   "source": [
    "seoul_popular_trip.printSchema()\n",
    "seoul_popular_trip.show(5)"
   ]
  },
  {
   "cell_type": "code",
   "execution_count": 4,
   "metadata": {},
   "outputs": [],
   "source": [
    "from pyspark.sql.functions import *\n",
    "# seoul_popular_trip.limit(5).select(\"id\", \"name\", explode(split(\"tag\", \",\"))).groupBy(\"name\").count().show()\n",
    "top10 = seoul_popular_trip.select(\"id\", \"name\", explode(split(\"tag\", \",\"))) \\\n",
    ".groupBy(\"name\").count() \\\n",
    ".orderBy(desc(\"count\"))"
   ]
  },
  {
   "cell_type": "code",
   "execution_count": 5,
   "metadata": {},
   "outputs": [
    {
     "name": "stdout",
     "output_type": "stream",
     "text": [
      "+-------------------------------+-----+\n",
      "|                           name|count|\n",
      "+-------------------------------+-----+\n",
      "|                  CJ 올리브마켓|   36|\n",
      "|       더 스트리트 (THE STREET)|   32|\n",
      "|                       통인시장|   30|\n",
      "|          신세계면세점 (명동점)|   28|\n",
      "|              신세계백화점 본점|   27|\n",
      "|                     401 (홍대)|   26|\n",
      "|젠틀몬스터 신사 플래그쉽 스토어|   26|\n",
      "|                     장진우식당|   26|\n",
      "|                 설빙 신림2호점|   24|\n",
      "|               스튜디오콘크리트|   22|\n",
      "|                아티지 (ARTAGE)|   22|\n",
      "|                     두레한식당|   22|\n",
      "|      너드온어스 (Nerd on ea...|   22|\n",
      "|         리아네이처 (Lyanature)|   22|\n",
      "|               샤오짠(Xiaozhan)|   22|\n",
      "|                롯데면세점 본점|   21|\n",
      "|      펭귄스카페 (S&Penguins...|   20|\n",
      "|             신라아이파크면세점|   20|\n",
      "|               명동지하쇼핑센터|   19|\n",
      "|               종각지하쇼핑센터|   19|\n",
      "+-------------------------------+-----+\n",
      "only showing top 20 rows\n",
      "\n"
     ]
    }
   ],
   "source": [
    "top10.show()"
   ]
  },
  {
   "cell_type": "code",
   "execution_count": 6,
   "metadata": {},
   "outputs": [],
   "source": [
    "top10.write.format(\"jdbc\") \\\n",
    ".option(\"url\", \"jdbc:mysql://mysql:3306/testdb\") \\\n",
    ".option(\"driver\", \"com.mysql.jdbc.Driver\") \\\n",
    ".option(\"dbtable\", \"top10\") \\\n",
    ".option(\"user\", \"user\") \\\n",
    ".option(\"password\", \"pass\") \\\n",
    ".save()"
   ]
  },
  {
   "cell_type": "markdown",
   "metadata": {},
   "source": [
    "#### 2.1. 저장된 데이터 확인\n",
    "```bash\n",
    "docker exec -it mysql mysql -uuser -p\n",
    "mysql> use testdb;\n",
    "mysql> select * from top10 order by count desc limit 10;\n",
    "```"
   ]
  }
 ],
 "metadata": {
  "kernelspec": {
   "display_name": "Python 3",
   "language": "python",
   "name": "python3"
  },
  "language_info": {
   "codemirror_mode": {
    "name": "ipython",
    "version": 3
   },
   "file_extension": ".py",
   "mimetype": "text/x-python",
   "name": "python",
   "nbconvert_exporter": "python",
   "pygments_lexer": "ipython3",
   "version": "3.7.8"
  }
 },
 "nbformat": 4,
 "nbformat_minor": 4
}
