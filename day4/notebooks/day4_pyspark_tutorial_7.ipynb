{
 "cells": [
  {
   "cell_type": "markdown",
   "metadata": {},
   "source": [
    "# 4일차 7교시 Spark JDBC to MongoDB\n",
    "\n",
    "### 목차\n",
    "* 1. Spark JDBC 환경구성\n",
    "* 2. MongoDB 접속 예제\n",
    "* 3. References\n",
    "  * https://docs.mongodb.com/spark-connector/current/python-api/#python-basics\n",
    "  * https://hub.docker.com/_/mongo\n",
    "  * https://www.mongodb.com/products/compass"
   ]
  },
  {
   "cell_type": "markdown",
   "metadata": {},
   "source": [
    "### 1. Spark JDBC 환경구성\n",
    "\n",
    "#### 1.1. MongoDB 기동\n",
    "```bash\n",
    "export PROJECT_HOME=`pwd`\n",
    "docker run --name mongodb -p 27017:27017 --network=day3_default -d mongo\n",
    "```"
   ]
  },
  {
   "cell_type": "code",
   "execution_count": 1,
   "metadata": {},
   "outputs": [
    {
     "data": {
      "text/plain": [
       "'2.4.5'"
      ]
     },
     "execution_count": 1,
     "metadata": {},
     "output_type": "execute_result"
    }
   ],
   "source": [
    "from pyspark.sql import SparkSession\n",
    "spark = SparkSession \\\n",
    "    .builder \\\n",
    "    .appName(\"Data Engineer Intermediate Day4\") \\\n",
    "    .config(\"spark.dataengineer.intermediate.day4\", \"tutorial-7\") \\\n",
    "    .config('spark.mongodb.input.uri', 'mongodb://mongo/testdb.people') \\\n",
    "    .config('spark.mongodb.output.uri', 'mongodb://mongo/testdb.people') \\\n",
    "    .getOrCreate()\n",
    "spark.version"
   ]
  },
  {
   "cell_type": "code",
   "execution_count": 2,
   "metadata": {},
   "outputs": [
    {
     "name": "stdout",
     "output_type": "stream",
     "text": [
      "+-------------+----+\n",
      "|         name| age|\n",
      "+-------------+----+\n",
      "|Bilbo Baggins|  50|\n",
      "|      Gandalf|1000|\n",
      "|       Thorin| 195|\n",
      "|        Balin| 178|\n",
      "|         Kili|  77|\n",
      "|       Dwalin| 169|\n",
      "|          Oin| 167|\n",
      "|        Gloin| 158|\n",
      "|         Fili|  82|\n",
      "|       Bombur|null|\n",
      "+-------------+----+\n",
      "\n"
     ]
    }
   ],
   "source": [
    "people = spark.createDataFrame([(\"Bilbo Baggins\",  50), (\"Gandalf\", 1000), (\"Thorin\", 195), (\"Balin\", 178), (\"Kili\", 77),\n",
    "   (\"Dwalin\", 169), (\"Oin\", 167), (\"Gloin\", 158), (\"Fili\", 82), (\"Bombur\", None)], [\"name\", \"age\"])\n",
    "\n",
    "people.write.format(\"mongo\").mode(\"append\").save()\n",
    "people.show()"
   ]
  },
  {
   "cell_type": "markdown",
   "metadata": {},
   "source": [
    "#### 1.2 MongoDB 접속\n",
    "```bash\n",
    "docker exec -it mongodb mongo\n",
    "> use testdb\n",
    "> show tables\n",
    "> db.people.findOne()\n",
    "> db.people.find()\n",
    "```"
   ]
  }
 ],
 "metadata": {
  "kernelspec": {
   "display_name": "Python 3",
   "language": "python",
   "name": "python3"
  },
  "language_info": {
   "codemirror_mode": {
    "name": "ipython",
    "version": 3
   },
   "file_extension": ".py",
   "mimetype": "text/x-python",
   "name": "python",
   "nbconvert_exporter": "python",
   "pygments_lexer": "ipython3",
   "version": "3.7.8"
  }
 },
 "nbformat": 4,
 "nbformat_minor": 4
}
