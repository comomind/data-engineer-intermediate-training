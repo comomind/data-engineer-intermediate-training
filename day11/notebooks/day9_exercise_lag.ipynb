{
 "cells": [
  {
   "cell_type": "code",
   "execution_count": 1,
   "metadata": {},
   "outputs": [
    {
     "data": {
      "text/plain": [
       "[('spark.dataengineer.intermediate.day9', 'exercise-9'),\n",
       " ('spark.app.id', 'local-1598590335405'),\n",
       " ('spark.driver.port', '43487'),\n",
       " ('spark.rdd.compress', 'True'),\n",
       " ('spark.serializer.objectStreamReset', '100'),\n",
       " ('spark.master', 'local[*]'),\n",
       " ('spark.submit.pyFiles', ''),\n",
       " ('spark.executor.id', 'driver'),\n",
       " ('spark.submit.deployMode', 'client'),\n",
       " ('spark.driver.host', 'bcfc9e857123'),\n",
       " ('spark.ui.showConsoleProgress', 'true'),\n",
       " ('spark.app.name', 'Data Engineer Intermediate Day9')]"
      ]
     },
     "execution_count": 1,
     "metadata": {},
     "output_type": "execute_result"
    }
   ],
   "source": [
    "from pyspark.sql import SparkSession\n",
    "\n",
    "spark = SparkSession \\\n",
    "    .builder \\\n",
    "    .appName(\"Data Engineer Intermediate Day9\") \\\n",
    "    .config(\"spark.dataengineer.intermediate.day9\", \"exercise-lag\") \\\n",
    "    .getOrCreate()\n",
    "\n",
    "spark.sparkContext.getConf().getAll() "
   ]
  },
  {
   "cell_type": "code",
   "execution_count": 3,
   "metadata": {},
   "outputs": [
    {
     "name": "stdout",
     "output_type": "stream",
     "text": [
      "root\n",
      " |-- InvoiceNo: string (nullable = true)\n",
      " |-- StockCode: string (nullable = true)\n",
      " |-- Description: string (nullable = true)\n",
      " |-- Quantity: integer (nullable = true)\n",
      " |-- InvoiceDate: string (nullable = true)\n",
      " |-- UnitPrice: double (nullable = true)\n",
      " |-- CustomerID: double (nullable = true)\n",
      " |-- Country: string (nullable = true)\n",
      "\n",
      "+---------+---------+--------------------+--------+-------------------+---------+----------+--------------+\n",
      "|InvoiceNo|StockCode|         Description|Quantity|        InvoiceDate|UnitPrice|CustomerID|       Country|\n",
      "+---------+---------+--------------------+--------+-------------------+---------+----------+--------------+\n",
      "|   536365|   85123A|WHITE HANGING HEA...|       6|2010-12-01 08:26:00|     2.55|   17850.0|United Kingdom|\n",
      "|   536365|    71053| WHITE METAL LANTERN|       6|2010-12-01 08:26:00|     3.39|   17850.0|United Kingdom|\n",
      "|   536365|   84406B|CREAM CUPID HEART...|       8|2010-12-01 08:26:00|     2.75|   17850.0|United Kingdom|\n",
      "|   536365|   84029G|KNITTED UNION FLA...|       6|2010-12-01 08:26:00|     3.39|   17850.0|United Kingdom|\n",
      "|   536365|   84029E|RED WOOLLY HOTTIE...|       6|2010-12-01 08:26:00|     3.39|   17850.0|United Kingdom|\n",
      "+---------+---------+--------------------+--------+-------------------+---------+----------+--------------+\n",
      "only showing top 5 rows\n",
      "\n"
     ]
    }
   ],
   "source": [
    "\"\"\" DataFrame 생성 \"\"\"\n",
    "df = spark.read.format(\"csv\") \\\n",
    "    .option(\"header\", \"true\") \\\n",
    "    .option(\"inferSchema\", \"true\") \\\n",
    "    .load(\"data/retail-data/by-day/2010-12-01.csv\")\n",
    "df.printSchema()\n",
    "df.createOrReplaceTempView(\"retail\")\n",
    "df.show(5)"
   ]
  },
  {
   "cell_type": "code",
   "execution_count": 4,
   "metadata": {},
   "outputs": [
    {
     "name": "stdout",
     "output_type": "stream",
     "text": [
      "+---------+-----+\n",
      "|StockCode|count|\n",
      "+---------+-----+\n",
      "|    22632|   20|\n",
      "|    22866|   19|\n",
      "|   85123A|   17|\n",
      "|    22865|   15|\n",
      "|    22961|   14|\n",
      "+---------+-----+\n",
      "only showing top 5 rows\n",
      "\n"
     ]
    }
   ],
   "source": [
    "from pyspark.sql.functions import *\n",
    "df.groupBy(\"StockCode\").count().orderBy(desc(\"count\")).show(5)"
   ]
  },
  {
   "cell_type": "code",
   "execution_count": 5,
   "metadata": {},
   "outputs": [
    {
     "name": "stdout",
     "output_type": "stream",
     "text": [
      "+---------+---------+--------------------+--------+-------------------+---------+----------+--------------+\n",
      "|InvoiceNo|StockCode|         Description|Quantity|        InvoiceDate|UnitPrice|CustomerID|       Country|\n",
      "+---------+---------+--------------------+--------+-------------------+---------+----------+--------------+\n",
      "|  C536543|    22632|HAND WARMER RED R...|      -1|2010-12-01 14:30:00|      2.1|   17841.0|United Kingdom|\n",
      "|   536409|    22866|HAND WARMER SCOTT...|       1|2010-12-01 11:45:00|      2.1|   17908.0|United Kingdom|\n",
      "|   536522|    22866|HAND WARMER SCOTT...|       1|2010-12-01 12:49:00|      2.1|   15012.0|United Kingdom|\n",
      "|   536522|    22632|HAND WARMER RED R...|       1|2010-12-01 12:49:00|      2.1|   15012.0|United Kingdom|\n",
      "|   536409|    22866|HAND WARMER SCOTT...|       1|2010-12-01 11:45:00|      2.1|   17908.0|United Kingdom|\n",
      "|   536464|    22866|HAND WARMER SCOTT...|       1|2010-12-01 12:23:00|      2.1|   17968.0|United Kingdom|\n",
      "|   536464|    22866|HAND WARMER SCOTT...|       1|2010-12-01 12:23:00|      2.1|   17968.0|United Kingdom|\n",
      "|   536544|    22632|HAND WARMER RED R...|       1|2010-12-01 14:32:00|     4.21|      null|United Kingdom|\n",
      "|   536592|    22632|HAND WARMER RED R...|       1|2010-12-01 17:06:00|     4.21|      null|United Kingdom|\n",
      "|   536464|    22866|HAND WARMER SCOTT...|       1|2010-12-01 12:23:00|      2.1|   17968.0|United Kingdom|\n",
      "+---------+---------+--------------------+--------+-------------------+---------+----------+--------------+\n",
      "only showing top 10 rows\n",
      "\n"
     ]
    }
   ],
   "source": [
    "small = df.where(expr(\"StockCode in ('22632', '22866')\")).orderBy(\"Quantity\")\n",
    "small.show(10)"
   ]
  },
  {
   "cell_type": "code",
   "execution_count": 6,
   "metadata": {},
   "outputs": [
    {
     "name": "stdout",
     "output_type": "stream",
     "text": [
      "+---------+---------+--------------------+--------+-------------------+---------+----------+--------------+------------+-----------+\n",
      "|InvoiceNo|StockCode|         Description|Quantity|        InvoiceDate|UnitPrice|CustomerID|       Country|PrevQuantity|LagQuantity|\n",
      "+---------+---------+--------------------+--------+-------------------+---------+----------+--------------+------------+-----------+\n",
      "|   536394|    22632|HAND WARMER RED R...|      96|2010-12-01 10:39:00|     1.85|   13408.0|United Kingdom|        null|       null|\n",
      "|   536567|    22632|HAND WARMER RED R...|      24|2010-12-01 15:27:00|      2.1|   16048.0|United Kingdom|          96|         72|\n",
      "|   536398|    22632|HAND WARMER RED R...|      12|2010-12-01 10:52:00|      2.1|   13448.0|United Kingdom|          24|         12|\n",
      "|   536423|    22632|HAND WARMER RED R...|      12|2010-12-01 12:08:00|      2.1|   18085.0|United Kingdom|          12|          0|\n",
      "|   536477|    22632|HAND WARMER RED R...|      12|2010-12-01 12:27:00|      2.1|   16210.0|United Kingdom|          12|          0|\n",
      "|   536532|    22632|HAND WARMER RED R...|      12|2010-12-01 13:24:00|      2.1|   12433.0|        Norway|          12|          0|\n",
      "|   536539|    22632|HAND WARMER RED R...|      12|2010-12-01 14:03:00|      2.1|   15165.0|United Kingdom|          12|          0|\n",
      "|   536561|    22632|HAND WARMER RED R...|      12|2010-12-01 15:06:00|      2.1|   12921.0|United Kingdom|          12|          0|\n",
      "|   536366|    22632|HAND WARMER RED P...|       6|2010-12-01 08:28:00|     1.85|   17850.0|United Kingdom|          12|          6|\n",
      "|   536372|    22632|HAND WARMER RED P...|       6|2010-12-01 09:01:00|     1.85|   17850.0|United Kingdom|           6|          0|\n",
      "+---------+---------+--------------------+--------+-------------------+---------+----------+--------------+------------+-----------+\n",
      "only showing top 10 rows\n",
      "\n"
     ]
    }
   ],
   "source": [
    "from pyspark.sql.window import Window\n",
    "\n",
    "dfLag = small.withColumn('PrevQuantity', lag(df['Quantity']).over(Window.partitionBy(\"StockCode\").orderBy(desc(\"Quantity\"))))\n",
    "x = dfLag.withColumn('LagQuantity', dfLag['PrevQuantity'] - dfLag['Quantity'])\n",
    "\n",
    "x.show(10)\n",
    "# x.fillna({'LagQuantity':0}).show(10)  # LagQuantity 컬럼에 대해서만 null 을  0으로 치환할 수 있습니다."
   ]
  },
  {
   "cell_type": "code",
   "execution_count": null,
   "metadata": {},
   "outputs": [],
   "source": []
  }
 ],
 "metadata": {
  "kernelspec": {
   "display_name": "Python 3",
   "language": "python",
   "name": "python3"
  },
  "language_info": {
   "codemirror_mode": {
    "name": "ipython",
    "version": 3
   },
   "file_extension": ".py",
   "mimetype": "text/x-python",
   "name": "python",
   "nbconvert_exporter": "python",
   "pygments_lexer": "ipython3",
   "version": "3.8.5"
  }
 },
 "nbformat": 4,
 "nbformat_minor": 4
}
